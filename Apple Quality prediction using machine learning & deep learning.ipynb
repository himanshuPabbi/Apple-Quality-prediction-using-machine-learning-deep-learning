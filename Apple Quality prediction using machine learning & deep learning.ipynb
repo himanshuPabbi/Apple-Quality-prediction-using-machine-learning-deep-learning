{
 "cells": [
  {
   "cell_type": "code",
   "execution_count": 1,
   "id": "c3c20372",
   "metadata": {},
   "outputs": [],
   "source": [
    "import pandas as pd\n",
    "import seaborn as sns\n",
    "import numpy as np\n",
    "from rich import print # This makes print way prettier"
   ]
  },
  {
   "cell_type": "code",
   "execution_count": 2,
   "id": "bdba5658",
   "metadata": {},
   "outputs": [
    {
     "data": {
      "text/html": [
       "<div>\n",
       "<style scoped>\n",
       "    .dataframe tbody tr th:only-of-type {\n",
       "        vertical-align: middle;\n",
       "    }\n",
       "\n",
       "    .dataframe tbody tr th {\n",
       "        vertical-align: top;\n",
       "    }\n",
       "\n",
       "    .dataframe thead th {\n",
       "        text-align: right;\n",
       "    }\n",
       "</style>\n",
       "<table border=\"1\" class=\"dataframe\">\n",
       "  <thead>\n",
       "    <tr style=\"text-align: right;\">\n",
       "      <th></th>\n",
       "      <th>A_id</th>\n",
       "      <th>Size</th>\n",
       "      <th>Weight</th>\n",
       "      <th>Sweetness</th>\n",
       "      <th>Crunchiness</th>\n",
       "      <th>Juiciness</th>\n",
       "      <th>Ripeness</th>\n",
       "      <th>Acidity</th>\n",
       "      <th>Quality</th>\n",
       "    </tr>\n",
       "  </thead>\n",
       "  <tbody>\n",
       "    <tr>\n",
       "      <th>0</th>\n",
       "      <td>0.0</td>\n",
       "      <td>-3.970049</td>\n",
       "      <td>-2.512336</td>\n",
       "      <td>5.346330</td>\n",
       "      <td>-1.012009</td>\n",
       "      <td>1.844900</td>\n",
       "      <td>0.329840</td>\n",
       "      <td>-0.491590483</td>\n",
       "      <td>good</td>\n",
       "    </tr>\n",
       "    <tr>\n",
       "      <th>1</th>\n",
       "      <td>1.0</td>\n",
       "      <td>-1.195217</td>\n",
       "      <td>-2.839257</td>\n",
       "      <td>3.664059</td>\n",
       "      <td>1.588232</td>\n",
       "      <td>0.853286</td>\n",
       "      <td>0.867530</td>\n",
       "      <td>-0.722809367</td>\n",
       "      <td>good</td>\n",
       "    </tr>\n",
       "    <tr>\n",
       "      <th>2</th>\n",
       "      <td>2.0</td>\n",
       "      <td>-0.292024</td>\n",
       "      <td>-1.351282</td>\n",
       "      <td>-1.738429</td>\n",
       "      <td>-0.342616</td>\n",
       "      <td>2.838636</td>\n",
       "      <td>-0.038033</td>\n",
       "      <td>2.621636473</td>\n",
       "      <td>bad</td>\n",
       "    </tr>\n",
       "    <tr>\n",
       "      <th>3</th>\n",
       "      <td>3.0</td>\n",
       "      <td>-0.657196</td>\n",
       "      <td>-2.271627</td>\n",
       "      <td>1.324874</td>\n",
       "      <td>-0.097875</td>\n",
       "      <td>3.637970</td>\n",
       "      <td>-3.413761</td>\n",
       "      <td>0.790723217</td>\n",
       "      <td>good</td>\n",
       "    </tr>\n",
       "    <tr>\n",
       "      <th>4</th>\n",
       "      <td>4.0</td>\n",
       "      <td>1.364217</td>\n",
       "      <td>-1.296612</td>\n",
       "      <td>-0.384658</td>\n",
       "      <td>-0.553006</td>\n",
       "      <td>3.030874</td>\n",
       "      <td>-1.303849</td>\n",
       "      <td>0.501984036</td>\n",
       "      <td>good</td>\n",
       "    </tr>\n",
       "    <tr>\n",
       "      <th>...</th>\n",
       "      <td>...</td>\n",
       "      <td>...</td>\n",
       "      <td>...</td>\n",
       "      <td>...</td>\n",
       "      <td>...</td>\n",
       "      <td>...</td>\n",
       "      <td>...</td>\n",
       "      <td>...</td>\n",
       "      <td>...</td>\n",
       "    </tr>\n",
       "    <tr>\n",
       "      <th>3996</th>\n",
       "      <td>3996.0</td>\n",
       "      <td>-0.293118</td>\n",
       "      <td>1.949253</td>\n",
       "      <td>-0.204020</td>\n",
       "      <td>-0.640196</td>\n",
       "      <td>0.024523</td>\n",
       "      <td>-1.087900</td>\n",
       "      <td>1.854235285</td>\n",
       "      <td>good</td>\n",
       "    </tr>\n",
       "    <tr>\n",
       "      <th>3997</th>\n",
       "      <td>3997.0</td>\n",
       "      <td>-2.634515</td>\n",
       "      <td>-2.138247</td>\n",
       "      <td>-2.440461</td>\n",
       "      <td>0.657223</td>\n",
       "      <td>2.199709</td>\n",
       "      <td>4.763859</td>\n",
       "      <td>-1.334611391</td>\n",
       "      <td>bad</td>\n",
       "    </tr>\n",
       "    <tr>\n",
       "      <th>3998</th>\n",
       "      <td>3998.0</td>\n",
       "      <td>-4.008004</td>\n",
       "      <td>-1.779337</td>\n",
       "      <td>2.366397</td>\n",
       "      <td>-0.200329</td>\n",
       "      <td>2.161435</td>\n",
       "      <td>0.214488</td>\n",
       "      <td>-2.229719806</td>\n",
       "      <td>good</td>\n",
       "    </tr>\n",
       "    <tr>\n",
       "      <th>3999</th>\n",
       "      <td>3999.0</td>\n",
       "      <td>0.278540</td>\n",
       "      <td>-1.715505</td>\n",
       "      <td>0.121217</td>\n",
       "      <td>-1.154075</td>\n",
       "      <td>1.266677</td>\n",
       "      <td>-0.776571</td>\n",
       "      <td>1.599796456</td>\n",
       "      <td>good</td>\n",
       "    </tr>\n",
       "    <tr>\n",
       "      <th>4000</th>\n",
       "      <td>NaN</td>\n",
       "      <td>NaN</td>\n",
       "      <td>NaN</td>\n",
       "      <td>NaN</td>\n",
       "      <td>NaN</td>\n",
       "      <td>NaN</td>\n",
       "      <td>NaN</td>\n",
       "      <td>Created_by_Nidula_Elgiriyewithana</td>\n",
       "      <td>NaN</td>\n",
       "    </tr>\n",
       "  </tbody>\n",
       "</table>\n",
       "<p>4001 rows × 9 columns</p>\n",
       "</div>"
      ],
      "text/plain": [
       "        A_id      Size    Weight  Sweetness  Crunchiness  Juiciness  Ripeness  \\\n",
       "0        0.0 -3.970049 -2.512336   5.346330    -1.012009   1.844900  0.329840   \n",
       "1        1.0 -1.195217 -2.839257   3.664059     1.588232   0.853286  0.867530   \n",
       "2        2.0 -0.292024 -1.351282  -1.738429    -0.342616   2.838636 -0.038033   \n",
       "3        3.0 -0.657196 -2.271627   1.324874    -0.097875   3.637970 -3.413761   \n",
       "4        4.0  1.364217 -1.296612  -0.384658    -0.553006   3.030874 -1.303849   \n",
       "...      ...       ...       ...        ...          ...        ...       ...   \n",
       "3996  3996.0 -0.293118  1.949253  -0.204020    -0.640196   0.024523 -1.087900   \n",
       "3997  3997.0 -2.634515 -2.138247  -2.440461     0.657223   2.199709  4.763859   \n",
       "3998  3998.0 -4.008004 -1.779337   2.366397    -0.200329   2.161435  0.214488   \n",
       "3999  3999.0  0.278540 -1.715505   0.121217    -1.154075   1.266677 -0.776571   \n",
       "4000     NaN       NaN       NaN        NaN          NaN        NaN       NaN   \n",
       "\n",
       "                                Acidity Quality  \n",
       "0                          -0.491590483    good  \n",
       "1                          -0.722809367    good  \n",
       "2                           2.621636473     bad  \n",
       "3                           0.790723217    good  \n",
       "4                           0.501984036    good  \n",
       "...                                 ...     ...  \n",
       "3996                        1.854235285    good  \n",
       "3997                       -1.334611391     bad  \n",
       "3998                       -2.229719806    good  \n",
       "3999                        1.599796456    good  \n",
       "4000  Created_by_Nidula_Elgiriyewithana     NaN  \n",
       "\n",
       "[4001 rows x 9 columns]"
      ]
     },
     "execution_count": 2,
     "metadata": {},
     "output_type": "execute_result"
    }
   ],
   "source": [
    "input_data = pd.read_csv(\"apple_quality.csv\")\n",
    "input_data"
   ]
  },
  {
   "cell_type": "code",
   "execution_count": 3,
   "id": "e086b33a",
   "metadata": {},
   "outputs": [
    {
     "data": {
      "text/plain": [
       "A_id           1\n",
       "Size           1\n",
       "Weight         1\n",
       "Sweetness      1\n",
       "Crunchiness    1\n",
       "Juiciness      1\n",
       "Ripeness       1\n",
       "Acidity        0\n",
       "Quality        1\n",
       "dtype: int64"
      ]
     },
     "execution_count": 3,
     "metadata": {},
     "output_type": "execute_result"
    }
   ],
   "source": [
    "input_data.isnull().sum()\n"
   ]
  },
  {
   "cell_type": "code",
   "execution_count": 4,
   "id": "99c2b558",
   "metadata": {},
   "outputs": [],
   "source": [
    "input_data.dropna(inplace=True)"
   ]
  },
  {
   "cell_type": "code",
   "execution_count": 5,
   "id": "5b278cda",
   "metadata": {},
   "outputs": [
    {
     "data": {
      "text/plain": [
       "(4000, 9)"
      ]
     },
     "execution_count": 5,
     "metadata": {},
     "output_type": "execute_result"
    }
   ],
   "source": [
    "input_data.shape\n"
   ]
  },
  {
   "cell_type": "code",
   "execution_count": 6,
   "id": "224d6786",
   "metadata": {},
   "outputs": [
    {
     "name": "stdout",
     "output_type": "stream",
     "text": [
      "<class 'pandas.core.frame.DataFrame'>\n",
      "Index: 4000 entries, 0 to 3999\n",
      "Data columns (total 9 columns):\n",
      " #   Column       Non-Null Count  Dtype  \n",
      "---  ------       --------------  -----  \n",
      " 0   A_id         4000 non-null   float64\n",
      " 1   Size         4000 non-null   float64\n",
      " 2   Weight       4000 non-null   float64\n",
      " 3   Sweetness    4000 non-null   float64\n",
      " 4   Crunchiness  4000 non-null   float64\n",
      " 5   Juiciness    4000 non-null   float64\n",
      " 6   Ripeness     4000 non-null   float64\n",
      " 7   Acidity      4000 non-null   object \n",
      " 8   Quality      4000 non-null   object \n",
      "dtypes: float64(7), object(2)\n",
      "memory usage: 312.5+ KB\n"
     ]
    }
   ],
   "source": [
    "input_data.info()\n"
   ]
  },
  {
   "cell_type": "code",
   "execution_count": 7,
   "id": "dcd11ee0",
   "metadata": {},
   "outputs": [],
   "source": [
    "input_data['Acidity']=input_data['Acidity'].astype(\"float64\")"
   ]
  },
  {
   "cell_type": "code",
   "execution_count": 8,
   "id": "7b3c5ecc",
   "metadata": {},
   "outputs": [
    {
     "name": "stdout",
     "output_type": "stream",
     "text": [
      "<class 'pandas.core.frame.DataFrame'>\n",
      "Index: 4000 entries, 0 to 3999\n",
      "Data columns (total 9 columns):\n",
      " #   Column       Non-Null Count  Dtype  \n",
      "---  ------       --------------  -----  \n",
      " 0   A_id         4000 non-null   float64\n",
      " 1   Size         4000 non-null   float64\n",
      " 2   Weight       4000 non-null   float64\n",
      " 3   Sweetness    4000 non-null   float64\n",
      " 4   Crunchiness  4000 non-null   float64\n",
      " 5   Juiciness    4000 non-null   float64\n",
      " 6   Ripeness     4000 non-null   float64\n",
      " 7   Acidity      4000 non-null   float64\n",
      " 8   Quality      4000 non-null   object \n",
      "dtypes: float64(8), object(1)\n",
      "memory usage: 312.5+ KB\n"
     ]
    }
   ],
   "source": [
    "input_data.info()\n"
   ]
  },
  {
   "cell_type": "code",
   "execution_count": 9,
   "id": "a6fa1044",
   "metadata": {},
   "outputs": [
    {
     "data": {
      "text/plain": [
       "array(['good', 'good', 'bad', ..., 'bad', 'good', 'good'], dtype=object)"
      ]
     },
     "execution_count": 9,
     "metadata": {},
     "output_type": "execute_result"
    }
   ],
   "source": [
    "labels_array = input_data['Quality'].to_numpy()\n",
    "labels_array"
   ]
  },
  {
   "cell_type": "code",
   "execution_count": 10,
   "id": "a7beb718",
   "metadata": {},
   "outputs": [
    {
     "data": {
      "text/plain": [
       "array([[-3.97004852, -2.51233638,  5.34632961, ...,  1.84490036,\n",
       "         0.3298398 , -0.49159048],\n",
       "       [-1.19521719, -2.83925653,  3.66405876, ...,  0.8532858 ,\n",
       "         0.86753008, -0.72280937],\n",
       "       [-0.29202386, -1.35128199, -1.73842916, ...,  2.83863551,\n",
       "        -0.03803333,  2.62163647],\n",
       "       ...,\n",
       "       [-2.6345153 , -2.13824672, -2.44046129, ...,  2.19970859,\n",
       "         4.76385918, -1.33461139],\n",
       "       [-4.00800374, -1.77933711,  2.36639697, ...,  2.16143512,\n",
       "         0.21448838, -2.22971981],\n",
       "       [ 0.27853965, -1.71550503,  0.12121725, ...,  1.2666774 ,\n",
       "        -0.77657147,  1.59979646]])"
      ]
     },
     "execution_count": 10,
     "metadata": {},
     "output_type": "execute_result"
    }
   ],
   "source": [
    "features_no = 7\n",
    "data_array = np.zeros((len(input_data), features_no))\n",
    "for i in range(len(input_data)):\n",
    "    data_array[i] = input_data.iloc[i][1:8].to_numpy()\n",
    "\n",
    "data_array"
   ]
  },
  {
   "cell_type": "code",
   "execution_count": 11,
   "id": "9a9fd014",
   "metadata": {},
   "outputs": [
    {
     "data": {
      "text/plain": [
       "array([1, 1, 0, ..., 0, 1, 1])"
      ]
     },
     "execution_count": 11,
     "metadata": {},
     "output_type": "execute_result"
    }
   ],
   "source": [
    "from sklearn.preprocessing import LabelEncoder\n",
    "\n",
    "le = LabelEncoder()\n",
    "\n",
    "le.fit(labels_array)\n",
    "labels_array = le.fit_transform(labels_array)\n",
    "\n",
    "labels_array"
   ]
  },
  {
   "cell_type": "code",
   "execution_count": 12,
   "id": "32817877",
   "metadata": {},
   "outputs": [
    {
     "data": {
      "text/plain": [
       "array([[-0.53321852, -0.33743272,  0.71806728, ...,  0.24778917,\n",
       "         0.04430089, -0.06602568],\n",
       "       [-0.22816433, -0.54200781,  0.69946074, ...,  0.16289038,\n",
       "         0.16560958, -0.13798271],\n",
       "       [-0.06532623, -0.30228405, -0.38888952, ...,  0.63500752,\n",
       "        -0.00850812,  0.58646447],\n",
       "       ...,\n",
       "       [-0.38340833, -0.31118498, -0.35516711, ...,  0.3201297 ,\n",
       "         0.69329766, -0.1942297 ],\n",
       "       [-0.68177964, -0.30267332,  0.40253487, ...,  0.36766993,\n",
       "         0.03648545, -0.37928546],\n",
       "       [ 0.09216294, -0.56762473,  0.04010825, ...,  0.41911706,\n",
       "        -0.25695126,  0.52933919]])"
      ]
     },
     "execution_count": 12,
     "metadata": {},
     "output_type": "execute_result"
    }
   ],
   "source": [
    "from sklearn.preprocessing import normalize\n",
    "\n",
    "data_array = normalize(data_array)\n",
    "data_array\n"
   ]
  },
  {
   "cell_type": "code",
   "execution_count": 13,
   "id": "38f13213",
   "metadata": {},
   "outputs": [],
   "source": [
    "from sklearn.model_selection import train_test_split\n",
    "\n",
    "X_train, X_test, y_train, y_test = train_test_split(data_array, labels_array,\n",
    "                                                    test_size=0.2, random_state=42)"
   ]
  },
  {
   "cell_type": "code",
   "execution_count": 14,
   "id": "2c0f6962",
   "metadata": {},
   "outputs": [],
   "source": [
    "from sklearn.metrics import classification_report # Our metric module\n"
   ]
  },
  {
   "cell_type": "code",
   "execution_count": 15,
   "id": "13a06a47",
   "metadata": {},
   "outputs": [
    {
     "data": {
      "text/html": [
       "<pre style=\"white-space:pre;overflow-x:auto;line-height:normal;font-family:Menlo,'DejaVu Sans Mono',consolas,'Courier New',monospace\">              precision    recall  f1-score   support\n",
       "\n",
       "        good       <span style=\"color: #008080; text-decoration-color: #008080; font-weight: bold\">0.90</span>      <span style=\"color: #008080; text-decoration-color: #008080; font-weight: bold\">0.89</span>      <span style=\"color: #008080; text-decoration-color: #008080; font-weight: bold\">0.90</span>       <span style=\"color: #008080; text-decoration-color: #008080; font-weight: bold\">401</span>\n",
       "         bad       <span style=\"color: #008080; text-decoration-color: #008080; font-weight: bold\">0.89</span>      <span style=\"color: #008080; text-decoration-color: #008080; font-weight: bold\">0.90</span>      <span style=\"color: #008080; text-decoration-color: #008080; font-weight: bold\">0.90</span>       <span style=\"color: #008080; text-decoration-color: #008080; font-weight: bold\">399</span>\n",
       "\n",
       "    accuracy                           <span style=\"color: #008080; text-decoration-color: #008080; font-weight: bold\">0.90</span>       <span style=\"color: #008080; text-decoration-color: #008080; font-weight: bold\">800</span>\n",
       "   macro avg       <span style=\"color: #008080; text-decoration-color: #008080; font-weight: bold\">0.90</span>      <span style=\"color: #008080; text-decoration-color: #008080; font-weight: bold\">0.90</span>      <span style=\"color: #008080; text-decoration-color: #008080; font-weight: bold\">0.90</span>       <span style=\"color: #008080; text-decoration-color: #008080; font-weight: bold\">800</span>\n",
       "weighted avg       <span style=\"color: #008080; text-decoration-color: #008080; font-weight: bold\">0.90</span>      <span style=\"color: #008080; text-decoration-color: #008080; font-weight: bold\">0.90</span>      <span style=\"color: #008080; text-decoration-color: #008080; font-weight: bold\">0.90</span>       <span style=\"color: #008080; text-decoration-color: #008080; font-weight: bold\">800</span>\n",
       "\n",
       "</pre>\n"
      ],
      "text/plain": [
       "              precision    recall  f1-score   support\n",
       "\n",
       "        good       \u001b[1;36m0.90\u001b[0m      \u001b[1;36m0.89\u001b[0m      \u001b[1;36m0.90\u001b[0m       \u001b[1;36m401\u001b[0m\n",
       "         bad       \u001b[1;36m0.89\u001b[0m      \u001b[1;36m0.90\u001b[0m      \u001b[1;36m0.90\u001b[0m       \u001b[1;36m399\u001b[0m\n",
       "\n",
       "    accuracy                           \u001b[1;36m0.90\u001b[0m       \u001b[1;36m800\u001b[0m\n",
       "   macro avg       \u001b[1;36m0.90\u001b[0m      \u001b[1;36m0.90\u001b[0m      \u001b[1;36m0.90\u001b[0m       \u001b[1;36m800\u001b[0m\n",
       "weighted avg       \u001b[1;36m0.90\u001b[0m      \u001b[1;36m0.90\u001b[0m      \u001b[1;36m0.90\u001b[0m       \u001b[1;36m800\u001b[0m\n",
       "\n"
      ]
     },
     "metadata": {},
     "output_type": "display_data"
    }
   ],
   "source": [
    "from sklearn.ensemble import RandomForestClassifier\n",
    "\n",
    "quality_types = [\"good\", \"bad\"]\n",
    "\n",
    "rfc = RandomForestClassifier()\n",
    "rfc.fit(X_train, y_train)\n",
    "\n",
    "y_pred_rfc = rfc.predict(X_test)\n",
    "print(classification_report(y_test, y_pred_rfc, target_names=quality_types))"
   ]
  },
  {
   "cell_type": "code",
   "execution_count": 16,
   "id": "7c4e2082",
   "metadata": {},
   "outputs": [
    {
     "data": {
      "text/html": [
       "<pre style=\"white-space:pre;overflow-x:auto;line-height:normal;font-family:Menlo,'DejaVu Sans Mono',consolas,'Courier New',monospace\">              precision    recall  f1-score   support\n",
       "\n",
       "        good       <span style=\"color: #008080; text-decoration-color: #008080; font-weight: bold\">0.90</span>      <span style=\"color: #008080; text-decoration-color: #008080; font-weight: bold\">0.90</span>      <span style=\"color: #008080; text-decoration-color: #008080; font-weight: bold\">0.90</span>       <span style=\"color: #008080; text-decoration-color: #008080; font-weight: bold\">401</span>\n",
       "         bad       <span style=\"color: #008080; text-decoration-color: #008080; font-weight: bold\">0.90</span>      <span style=\"color: #008080; text-decoration-color: #008080; font-weight: bold\">0.90</span>      <span style=\"color: #008080; text-decoration-color: #008080; font-weight: bold\">0.90</span>       <span style=\"color: #008080; text-decoration-color: #008080; font-weight: bold\">399</span>\n",
       "\n",
       "    accuracy                           <span style=\"color: #008080; text-decoration-color: #008080; font-weight: bold\">0.90</span>       <span style=\"color: #008080; text-decoration-color: #008080; font-weight: bold\">800</span>\n",
       "   macro avg       <span style=\"color: #008080; text-decoration-color: #008080; font-weight: bold\">0.90</span>      <span style=\"color: #008080; text-decoration-color: #008080; font-weight: bold\">0.90</span>      <span style=\"color: #008080; text-decoration-color: #008080; font-weight: bold\">0.90</span>       <span style=\"color: #008080; text-decoration-color: #008080; font-weight: bold\">800</span>\n",
       "weighted avg       <span style=\"color: #008080; text-decoration-color: #008080; font-weight: bold\">0.90</span>      <span style=\"color: #008080; text-decoration-color: #008080; font-weight: bold\">0.90</span>      <span style=\"color: #008080; text-decoration-color: #008080; font-weight: bold\">0.90</span>       <span style=\"color: #008080; text-decoration-color: #008080; font-weight: bold\">800</span>\n",
       "\n",
       "</pre>\n"
      ],
      "text/plain": [
       "              precision    recall  f1-score   support\n",
       "\n",
       "        good       \u001b[1;36m0.90\u001b[0m      \u001b[1;36m0.90\u001b[0m      \u001b[1;36m0.90\u001b[0m       \u001b[1;36m401\u001b[0m\n",
       "         bad       \u001b[1;36m0.90\u001b[0m      \u001b[1;36m0.90\u001b[0m      \u001b[1;36m0.90\u001b[0m       \u001b[1;36m399\u001b[0m\n",
       "\n",
       "    accuracy                           \u001b[1;36m0.90\u001b[0m       \u001b[1;36m800\u001b[0m\n",
       "   macro avg       \u001b[1;36m0.90\u001b[0m      \u001b[1;36m0.90\u001b[0m      \u001b[1;36m0.90\u001b[0m       \u001b[1;36m800\u001b[0m\n",
       "weighted avg       \u001b[1;36m0.90\u001b[0m      \u001b[1;36m0.90\u001b[0m      \u001b[1;36m0.90\u001b[0m       \u001b[1;36m800\u001b[0m\n",
       "\n"
      ]
     },
     "metadata": {},
     "output_type": "display_data"
    }
   ],
   "source": [
    "from sklearn.ensemble import ExtraTreesClassifier\n",
    "\n",
    "erfc = ExtraTreesClassifier()\n",
    "erfc.fit(X_train, y_train)\n",
    "\n",
    "y_pred_erfc = erfc.predict(X_test)\n",
    "print(classification_report(y_test, y_pred_erfc, target_names=quality_types))"
   ]
  },
  {
   "cell_type": "code",
   "execution_count": 17,
   "id": "852fab6e",
   "metadata": {},
   "outputs": [
    {
     "data": {
      "text/html": [
       "<pre style=\"white-space:pre;overflow-x:auto;line-height:normal;font-family:Menlo,'DejaVu Sans Mono',consolas,'Courier New',monospace\">              precision    recall  f1-score   support\n",
       "\n",
       "        good       <span style=\"color: #008080; text-decoration-color: #008080; font-weight: bold\">0.90</span>      <span style=\"color: #008080; text-decoration-color: #008080; font-weight: bold\">0.90</span>      <span style=\"color: #008080; text-decoration-color: #008080; font-weight: bold\">0.90</span>       <span style=\"color: #008080; text-decoration-color: #008080; font-weight: bold\">401</span>\n",
       "         bad       <span style=\"color: #008080; text-decoration-color: #008080; font-weight: bold\">0.90</span>      <span style=\"color: #008080; text-decoration-color: #008080; font-weight: bold\">0.90</span>      <span style=\"color: #008080; text-decoration-color: #008080; font-weight: bold\">0.90</span>       <span style=\"color: #008080; text-decoration-color: #008080; font-weight: bold\">399</span>\n",
       "\n",
       "    accuracy                           <span style=\"color: #008080; text-decoration-color: #008080; font-weight: bold\">0.90</span>       <span style=\"color: #008080; text-decoration-color: #008080; font-weight: bold\">800</span>\n",
       "   macro avg       <span style=\"color: #008080; text-decoration-color: #008080; font-weight: bold\">0.90</span>      <span style=\"color: #008080; text-decoration-color: #008080; font-weight: bold\">0.90</span>      <span style=\"color: #008080; text-decoration-color: #008080; font-weight: bold\">0.90</span>       <span style=\"color: #008080; text-decoration-color: #008080; font-weight: bold\">800</span>\n",
       "weighted avg       <span style=\"color: #008080; text-decoration-color: #008080; font-weight: bold\">0.90</span>      <span style=\"color: #008080; text-decoration-color: #008080; font-weight: bold\">0.90</span>      <span style=\"color: #008080; text-decoration-color: #008080; font-weight: bold\">0.90</span>       <span style=\"color: #008080; text-decoration-color: #008080; font-weight: bold\">800</span>\n",
       "\n",
       "</pre>\n"
      ],
      "text/plain": [
       "              precision    recall  f1-score   support\n",
       "\n",
       "        good       \u001b[1;36m0.90\u001b[0m      \u001b[1;36m0.90\u001b[0m      \u001b[1;36m0.90\u001b[0m       \u001b[1;36m401\u001b[0m\n",
       "         bad       \u001b[1;36m0.90\u001b[0m      \u001b[1;36m0.90\u001b[0m      \u001b[1;36m0.90\u001b[0m       \u001b[1;36m399\u001b[0m\n",
       "\n",
       "    accuracy                           \u001b[1;36m0.90\u001b[0m       \u001b[1;36m800\u001b[0m\n",
       "   macro avg       \u001b[1;36m0.90\u001b[0m      \u001b[1;36m0.90\u001b[0m      \u001b[1;36m0.90\u001b[0m       \u001b[1;36m800\u001b[0m\n",
       "weighted avg       \u001b[1;36m0.90\u001b[0m      \u001b[1;36m0.90\u001b[0m      \u001b[1;36m0.90\u001b[0m       \u001b[1;36m800\u001b[0m\n",
       "\n"
      ]
     },
     "metadata": {},
     "output_type": "display_data"
    }
   ],
   "source": [
    "from sklearn.neighbors import KNeighborsClassifier\n",
    "\n",
    "knn = KNeighborsClassifier()\n",
    "knn.fit(X_train, y_train)\n",
    "\n",
    "y_pred_knn = knn.predict(X_test)\n",
    "print(classification_report(y_test, y_pred_knn, target_names=quality_types))\n"
   ]
  },
  {
   "cell_type": "code",
   "execution_count": 18,
   "id": "dfaaccc0",
   "metadata": {},
   "outputs": [
    {
     "data": {
      "text/html": [
       "<pre style=\"white-space:pre;overflow-x:auto;line-height:normal;font-family:Menlo,'DejaVu Sans Mono',consolas,'Courier New',monospace\">              precision    recall  f1-score   support\n",
       "\n",
       "        good       <span style=\"color: #008080; text-decoration-color: #008080; font-weight: bold\">0.76</span>      <span style=\"color: #008080; text-decoration-color: #008080; font-weight: bold\">0.75</span>      <span style=\"color: #008080; text-decoration-color: #008080; font-weight: bold\">0.75</span>       <span style=\"color: #008080; text-decoration-color: #008080; font-weight: bold\">401</span>\n",
       "         bad       <span style=\"color: #008080; text-decoration-color: #008080; font-weight: bold\">0.75</span>      <span style=\"color: #008080; text-decoration-color: #008080; font-weight: bold\">0.76</span>      <span style=\"color: #008080; text-decoration-color: #008080; font-weight: bold\">0.75</span>       <span style=\"color: #008080; text-decoration-color: #008080; font-weight: bold\">399</span>\n",
       "\n",
       "    accuracy                           <span style=\"color: #008080; text-decoration-color: #008080; font-weight: bold\">0.75</span>       <span style=\"color: #008080; text-decoration-color: #008080; font-weight: bold\">800</span>\n",
       "   macro avg       <span style=\"color: #008080; text-decoration-color: #008080; font-weight: bold\">0.75</span>      <span style=\"color: #008080; text-decoration-color: #008080; font-weight: bold\">0.75</span>      <span style=\"color: #008080; text-decoration-color: #008080; font-weight: bold\">0.75</span>       <span style=\"color: #008080; text-decoration-color: #008080; font-weight: bold\">800</span>\n",
       "weighted avg       <span style=\"color: #008080; text-decoration-color: #008080; font-weight: bold\">0.75</span>      <span style=\"color: #008080; text-decoration-color: #008080; font-weight: bold\">0.75</span>      <span style=\"color: #008080; text-decoration-color: #008080; font-weight: bold\">0.75</span>       <span style=\"color: #008080; text-decoration-color: #008080; font-weight: bold\">800</span>\n",
       "\n",
       "</pre>\n"
      ],
      "text/plain": [
       "              precision    recall  f1-score   support\n",
       "\n",
       "        good       \u001b[1;36m0.76\u001b[0m      \u001b[1;36m0.75\u001b[0m      \u001b[1;36m0.75\u001b[0m       \u001b[1;36m401\u001b[0m\n",
       "         bad       \u001b[1;36m0.75\u001b[0m      \u001b[1;36m0.76\u001b[0m      \u001b[1;36m0.75\u001b[0m       \u001b[1;36m399\u001b[0m\n",
       "\n",
       "    accuracy                           \u001b[1;36m0.75\u001b[0m       \u001b[1;36m800\u001b[0m\n",
       "   macro avg       \u001b[1;36m0.75\u001b[0m      \u001b[1;36m0.75\u001b[0m      \u001b[1;36m0.75\u001b[0m       \u001b[1;36m800\u001b[0m\n",
       "weighted avg       \u001b[1;36m0.75\u001b[0m      \u001b[1;36m0.75\u001b[0m      \u001b[1;36m0.75\u001b[0m       \u001b[1;36m800\u001b[0m\n",
       "\n"
      ]
     },
     "metadata": {},
     "output_type": "display_data"
    }
   ],
   "source": [
    "from sklearn.svm import SVC\n",
    "\n",
    "svc_lin = SVC(kernel='linear')\n",
    "svc_lin.fit(X_train, y_train)\n",
    "\n",
    "y_pred_svc_lin = svc_lin.predict(X_test)\n",
    "print(classification_report(y_test, y_pred_svc_lin, target_names=quality_types))"
   ]
  },
  {
   "cell_type": "code",
   "execution_count": 19,
   "id": "e6efc510",
   "metadata": {},
   "outputs": [
    {
     "data": {
      "text/html": [
       "<pre style=\"white-space:pre;overflow-x:auto;line-height:normal;font-family:Menlo,'DejaVu Sans Mono',consolas,'Courier New',monospace\">              precision    recall  f1-score   support\n",
       "\n",
       "        good       <span style=\"color: #008080; text-decoration-color: #008080; font-weight: bold\">0.89</span>      <span style=\"color: #008080; text-decoration-color: #008080; font-weight: bold\">0.88</span>      <span style=\"color: #008080; text-decoration-color: #008080; font-weight: bold\">0.89</span>       <span style=\"color: #008080; text-decoration-color: #008080; font-weight: bold\">401</span>\n",
       "         bad       <span style=\"color: #008080; text-decoration-color: #008080; font-weight: bold\">0.88</span>      <span style=\"color: #008080; text-decoration-color: #008080; font-weight: bold\">0.89</span>      <span style=\"color: #008080; text-decoration-color: #008080; font-weight: bold\">0.89</span>       <span style=\"color: #008080; text-decoration-color: #008080; font-weight: bold\">399</span>\n",
       "\n",
       "    accuracy                           <span style=\"color: #008080; text-decoration-color: #008080; font-weight: bold\">0.89</span>       <span style=\"color: #008080; text-decoration-color: #008080; font-weight: bold\">800</span>\n",
       "   macro avg       <span style=\"color: #008080; text-decoration-color: #008080; font-weight: bold\">0.89</span>      <span style=\"color: #008080; text-decoration-color: #008080; font-weight: bold\">0.89</span>      <span style=\"color: #008080; text-decoration-color: #008080; font-weight: bold\">0.89</span>       <span style=\"color: #008080; text-decoration-color: #008080; font-weight: bold\">800</span>\n",
       "weighted avg       <span style=\"color: #008080; text-decoration-color: #008080; font-weight: bold\">0.89</span>      <span style=\"color: #008080; text-decoration-color: #008080; font-weight: bold\">0.89</span>      <span style=\"color: #008080; text-decoration-color: #008080; font-weight: bold\">0.89</span>       <span style=\"color: #008080; text-decoration-color: #008080; font-weight: bold\">800</span>\n",
       "\n",
       "</pre>\n"
      ],
      "text/plain": [
       "              precision    recall  f1-score   support\n",
       "\n",
       "        good       \u001b[1;36m0.89\u001b[0m      \u001b[1;36m0.88\u001b[0m      \u001b[1;36m0.89\u001b[0m       \u001b[1;36m401\u001b[0m\n",
       "         bad       \u001b[1;36m0.88\u001b[0m      \u001b[1;36m0.89\u001b[0m      \u001b[1;36m0.89\u001b[0m       \u001b[1;36m399\u001b[0m\n",
       "\n",
       "    accuracy                           \u001b[1;36m0.89\u001b[0m       \u001b[1;36m800\u001b[0m\n",
       "   macro avg       \u001b[1;36m0.89\u001b[0m      \u001b[1;36m0.89\u001b[0m      \u001b[1;36m0.89\u001b[0m       \u001b[1;36m800\u001b[0m\n",
       "weighted avg       \u001b[1;36m0.89\u001b[0m      \u001b[1;36m0.89\u001b[0m      \u001b[1;36m0.89\u001b[0m       \u001b[1;36m800\u001b[0m\n",
       "\n"
      ]
     },
     "metadata": {},
     "output_type": "display_data"
    }
   ],
   "source": [
    "svc_poly = SVC(kernel='poly')\n",
    "svc_poly.fit(X_train, y_train)\n",
    "\n",
    "y_pred_svc_poly = svc_poly.predict(X_test)\n",
    "print(classification_report(y_test, y_pred_svc_poly, target_names=quality_types))"
   ]
  },
  {
   "cell_type": "code",
   "execution_count": 20,
   "id": "904e002e",
   "metadata": {},
   "outputs": [
    {
     "data": {
      "text/html": [
       "<pre style=\"white-space:pre;overflow-x:auto;line-height:normal;font-family:Menlo,'DejaVu Sans Mono',consolas,'Courier New',monospace\">              precision    recall  f1-score   support\n",
       "\n",
       "        good       <span style=\"color: #008080; text-decoration-color: #008080; font-weight: bold\">0.91</span>      <span style=\"color: #008080; text-decoration-color: #008080; font-weight: bold\">0.90</span>      <span style=\"color: #008080; text-decoration-color: #008080; font-weight: bold\">0.91</span>       <span style=\"color: #008080; text-decoration-color: #008080; font-weight: bold\">401</span>\n",
       "         bad       <span style=\"color: #008080; text-decoration-color: #008080; font-weight: bold\">0.90</span>      <span style=\"color: #008080; text-decoration-color: #008080; font-weight: bold\">0.91</span>      <span style=\"color: #008080; text-decoration-color: #008080; font-weight: bold\">0.91</span>       <span style=\"color: #008080; text-decoration-color: #008080; font-weight: bold\">399</span>\n",
       "\n",
       "    accuracy                           <span style=\"color: #008080; text-decoration-color: #008080; font-weight: bold\">0.91</span>       <span style=\"color: #008080; text-decoration-color: #008080; font-weight: bold\">800</span>\n",
       "   macro avg       <span style=\"color: #008080; text-decoration-color: #008080; font-weight: bold\">0.91</span>      <span style=\"color: #008080; text-decoration-color: #008080; font-weight: bold\">0.91</span>      <span style=\"color: #008080; text-decoration-color: #008080; font-weight: bold\">0.91</span>       <span style=\"color: #008080; text-decoration-color: #008080; font-weight: bold\">800</span>\n",
       "weighted avg       <span style=\"color: #008080; text-decoration-color: #008080; font-weight: bold\">0.91</span>      <span style=\"color: #008080; text-decoration-color: #008080; font-weight: bold\">0.91</span>      <span style=\"color: #008080; text-decoration-color: #008080; font-weight: bold\">0.91</span>       <span style=\"color: #008080; text-decoration-color: #008080; font-weight: bold\">800</span>\n",
       "\n",
       "</pre>\n"
      ],
      "text/plain": [
       "              precision    recall  f1-score   support\n",
       "\n",
       "        good       \u001b[1;36m0.91\u001b[0m      \u001b[1;36m0.90\u001b[0m      \u001b[1;36m0.91\u001b[0m       \u001b[1;36m401\u001b[0m\n",
       "         bad       \u001b[1;36m0.90\u001b[0m      \u001b[1;36m0.91\u001b[0m      \u001b[1;36m0.91\u001b[0m       \u001b[1;36m399\u001b[0m\n",
       "\n",
       "    accuracy                           \u001b[1;36m0.91\u001b[0m       \u001b[1;36m800\u001b[0m\n",
       "   macro avg       \u001b[1;36m0.91\u001b[0m      \u001b[1;36m0.91\u001b[0m      \u001b[1;36m0.91\u001b[0m       \u001b[1;36m800\u001b[0m\n",
       "weighted avg       \u001b[1;36m0.91\u001b[0m      \u001b[1;36m0.91\u001b[0m      \u001b[1;36m0.91\u001b[0m       \u001b[1;36m800\u001b[0m\n",
       "\n"
      ]
     },
     "metadata": {},
     "output_type": "display_data"
    }
   ],
   "source": [
    "svc_rbf = SVC(kernel='rbf')\n",
    "svc_rbf.fit(X_train, y_train)\n",
    "\n",
    "y_pred_svc_rbf = svc_rbf.predict(X_test)\n",
    "print(classification_report(y_test, y_pred_svc_rbf, target_names=quality_types))"
   ]
  },
  {
   "cell_type": "code",
   "execution_count": 21,
   "id": "6259e49d",
   "metadata": {
    "scrolled": true
   },
   "outputs": [
    {
     "data": {
      "text/plain": [
       "(tensor([[ 0.3276, -0.5705, -0.0678,  ...,  0.2335,  0.5660, -0.2717],\n",
       "         [-0.0610,  0.1417, -0.4052,  ...,  0.1196,  0.3613, -0.7980],\n",
       "         [-0.3752, -0.4252, -0.1269,  ..., -0.0143,  0.7643, -0.2700],\n",
       "         ...,\n",
       "         [ 0.4325, -0.2937, -0.0474,  ..., -0.2400,  0.7884,  0.2124],\n",
       "         [-0.5705, -0.3987,  0.5463,  ...,  0.1216,  0.1681, -0.2552],\n",
       "         [-0.4607,  0.3505,  0.0743,  ...,  0.4484, -0.3466, -0.3898]]),\n",
       " tensor([[ 0.5633, -0.3074, -0.6687,  ...,  0.0978,  0.3017, -0.0990],\n",
       "         [ 0.3915, -0.0609, -0.0167,  ...,  0.2408, -0.5960,  0.5310],\n",
       "         [ 0.3910, -0.1649,  0.5626,  ..., -0.1802, -0.4316,  0.3270],\n",
       "         ...,\n",
       "         [-0.1331, -0.6713,  0.3996,  ...,  0.4894,  0.2141, -0.1561],\n",
       "         [-0.3394, -0.0592,  0.1751,  ..., -0.0158,  0.5250, -0.7572],\n",
       "         [ 0.0905, -0.3160, -0.0925,  ...,  0.5884,  0.0608, -0.3494]]))"
      ]
     },
     "execution_count": 21,
     "metadata": {},
     "output_type": "execute_result"
    }
   ],
   "source": [
    "import torch\n",
    "\n",
    "X_train, X_test = torch.from_numpy(X_train).float(), torch.from_numpy(X_test).float()\n",
    "\n",
    "X_train,X_test"
   ]
  },
  {
   "cell_type": "code",
   "execution_count": 22,
   "id": "c8c9fcb0",
   "metadata": {},
   "outputs": [
    {
     "data": {
      "text/plain": [
       "(tensor([1, 1, 0,  ..., 1, 1, 1]),\n",
       " tensor([1, 0, 0, 1, 0, 0, 0, 0, 1, 1, 1, 1, 0, 1, 1, 0, 0, 0, 0, 0, 0, 0, 1, 1,\n",
       "         1, 0, 0, 1, 1, 0, 1, 0, 0, 0, 0, 1, 0, 1, 1, 1, 0, 1, 0, 1, 0, 1, 1, 1,\n",
       "         0, 0, 1, 1, 0, 0, 1, 0, 0, 0, 1, 0, 0, 1, 1, 1, 0, 1, 1, 1, 0, 1, 1, 0,\n",
       "         1, 0, 1, 1, 1, 0, 0, 1, 0, 1, 0, 1, 1, 0, 0, 1, 1, 0, 0, 0, 0, 1, 1, 1,\n",
       "         0, 0, 1, 1, 1, 1, 0, 0, 1, 0, 0, 0, 0, 0, 1, 1, 0, 0, 0, 0, 0, 0, 0, 1,\n",
       "         0, 0, 1, 0, 0, 1, 1, 0, 0, 1, 0, 1, 1, 1, 1, 0, 0, 0, 1, 0, 1, 0, 1, 0,\n",
       "         1, 0, 1, 1, 0, 1, 0, 1, 1, 1, 1, 0, 0, 1, 0, 0, 0, 1, 0, 1, 1, 0, 0, 1,\n",
       "         0, 1, 0, 1, 1, 1, 0, 0, 1, 0, 1, 1, 0, 1, 0, 0, 0, 1, 1, 0, 0, 0, 1, 0,\n",
       "         0, 0, 0, 1, 0, 1, 0, 1, 0, 1, 1, 0, 0, 1, 0, 0, 0, 0, 1, 1, 1, 0, 1, 1,\n",
       "         1, 0, 0, 1, 0, 1, 1, 0, 0, 0, 1, 0, 0, 1, 1, 0, 1, 1, 1, 1, 1, 1, 1, 0,\n",
       "         0, 0, 1, 0, 0, 1, 1, 0, 0, 0, 1, 1, 0, 1, 0, 1, 0, 1, 0, 0, 0, 0, 1, 0,\n",
       "         1, 0, 0, 1, 0, 0, 0, 1, 0, 0, 0, 1, 0, 1, 0, 0, 1, 1, 0, 0, 1, 0, 1, 0,\n",
       "         0, 0, 0, 1, 1, 0, 0, 1, 0, 1, 1, 1, 0, 1, 1, 1, 0, 1, 0, 1, 0, 1, 1, 1,\n",
       "         1, 0, 0, 0, 1, 1, 1, 1, 1, 0, 1, 0, 1, 1, 0, 0, 0, 0, 0, 0, 0, 0, 0, 1,\n",
       "         1, 0, 0, 0, 0, 1, 1, 0, 0, 1, 1, 0, 1, 1, 1, 0, 0, 0, 1, 1, 0, 1, 0, 0,\n",
       "         1, 1, 1, 1, 1, 0, 0, 0, 1, 1, 1, 0, 1, 1, 1, 0, 1, 1, 0, 0, 1, 1, 1, 1,\n",
       "         1, 0, 0, 0, 1, 1, 0, 0, 0, 0, 1, 0, 1, 0, 1, 1, 0, 0, 0, 0, 1, 0, 1, 1,\n",
       "         0, 1, 0, 1, 0, 1, 1, 0, 0, 1, 1, 1, 0, 0, 0, 1, 1, 0, 1, 1, 0, 1, 0, 0,\n",
       "         0, 1, 1, 0, 0, 1, 1, 1, 1, 0, 1, 1, 0, 1, 1, 1, 0, 0, 0, 1, 1, 0, 1, 0,\n",
       "         1, 1, 0, 0, 0, 1, 1, 1, 0, 0, 1, 0, 1, 1, 0, 0, 1, 1, 1, 1, 0, 1, 0, 1,\n",
       "         0, 0, 1, 0, 0, 1, 0, 1, 1, 1, 1, 0, 1, 0, 0, 1, 0, 1, 0, 0, 1, 0, 1, 0,\n",
       "         0, 1, 1, 1, 1, 0, 1, 0, 1, 1, 0, 0, 0, 1, 1, 1, 1, 0, 1, 0, 1, 0, 0, 1,\n",
       "         1, 1, 1, 0, 0, 1, 1, 0, 1, 1, 0, 0, 1, 0, 0, 1, 0, 0, 1, 1, 1, 0, 1, 1,\n",
       "         1, 0, 1, 0, 0, 0, 0, 0, 1, 0, 0, 1, 0, 1, 0, 1, 1, 1, 0, 1, 1, 0, 1, 0,\n",
       "         1, 0, 1, 0, 0, 0, 1, 0, 1, 1, 0, 0, 1, 1, 1, 0, 1, 0, 1, 0, 0, 1, 1, 1,\n",
       "         1, 0, 1, 0, 0, 0, 1, 0, 0, 1, 0, 0, 1, 1, 1, 1, 0, 0, 1, 1, 0, 0, 0, 0,\n",
       "         1, 1, 0, 0, 1, 0, 1, 1, 0, 0, 0, 0, 1, 0, 1, 1, 1, 1, 1, 1, 1, 0, 1, 1,\n",
       "         1, 1, 0, 0, 0, 1, 1, 0, 0, 0, 0, 1, 1, 1, 1, 0, 1, 0, 0, 0, 0, 1, 0, 0,\n",
       "         0, 1, 0, 0, 0, 1, 0, 0, 0, 1, 1, 0, 0, 1, 0, 1, 0, 1, 0, 1, 0, 0, 0, 0,\n",
       "         1, 1, 0, 0, 0, 1, 1, 0, 1, 1, 1, 1, 0, 0, 0, 0, 1, 1, 1, 0, 1, 1, 1, 1,\n",
       "         0, 1, 0, 1, 0, 0, 1, 0, 0, 1, 1, 1, 0, 0, 0, 1, 1, 0, 0, 1, 1, 1, 0, 1,\n",
       "         1, 1, 1, 0, 0, 1, 0, 1, 0, 1, 1, 0, 0, 1, 1, 1, 0, 0, 1, 1, 1, 1, 0, 1,\n",
       "         0, 0, 1, 1, 0, 1, 1, 0, 0, 1, 0, 0, 1, 1, 1, 0, 0, 0, 0, 0, 0, 1, 1, 0,\n",
       "         1, 0, 0, 0, 1, 1, 1, 1]))"
      ]
     },
     "execution_count": 22,
     "metadata": {},
     "output_type": "execute_result"
    }
   ],
   "source": [
    "y_train, y_test = torch.from_numpy(y_train).long(), torch.from_numpy(y_test).long()\n",
    "\n",
    "y_train, y_test"
   ]
  },
  {
   "cell_type": "code",
   "execution_count": 23,
   "id": "1995c744",
   "metadata": {},
   "outputs": [
    {
     "data": {
      "text/html": [
       "<pre style=\"white-space:pre;overflow-x:auto;line-height:normal;font-family:Menlo,'DejaVu Sans Mono',consolas,'Courier New',monospace\">cpu\n",
       "</pre>\n"
      ],
      "text/plain": [
       "cpu\n"
      ]
     },
     "metadata": {},
     "output_type": "display_data"
    }
   ],
   "source": [
    "device = torch.device(\"cuda:0\" if torch.cuda.is_available() else \"cpu\")\n",
    "print(device)\n",
    "\n",
    "# If we have a gpu, then we'll move our splits into the gpu\n",
    "# if not, nothing will change\n",
    "\n",
    "X_train = X_train.to(device)\n",
    "X_test = X_test.to(device)\n",
    "y_train = y_train.to(device)\n",
    "y_test = y_test.to(device)"
   ]
  },
  {
   "cell_type": "code",
   "execution_count": 24,
   "id": "4eea48a2",
   "metadata": {},
   "outputs": [],
   "source": [
    "class NeuralClassifier(torch.nn.Module):\n",
    "    def __init__(self, input_size, hidden_size, output_size, dropout_rate):\n",
    "        super(NeuralClassifier, self).__init__()\n",
    "        \n",
    "        # This is the input layer\n",
    "        \n",
    "        self.input_layer = torch.nn.Linear(input_size, hidden_size)\n",
    "\n",
    "        # These are our hidden layers\n",
    "        \n",
    "        self.hidden_layer_1 = torch.nn.Linear(hidden_size, 2*hidden_size)\n",
    "        self.hidden_layer_2 = torch.nn.Linear(2*hidden_size, 4*hidden_size)\n",
    "        self.hidden_layer_3 = torch.nn.Linear(4*hidden_size, 8*hidden_size)\n",
    "        self.hidden_layer_4 = torch.nn.Linear(8*hidden_size, 16*hidden_size)\n",
    "        \n",
    "        # This is our output layer\n",
    "        \n",
    "        self.output_layer = torch.nn.Linear(16*hidden_size, output_size)\n",
    "        \n",
    "        # This is our activation function\n",
    "        \n",
    "        self.relu = torch.nn.LeakyReLU()\n",
    "        \n",
    "        # And this is our dropout\n",
    "        self.dropout = torch.nn.Dropout(dropout_rate)        \n",
    "    def forward(self, x):\n",
    "\n",
    "        x = self.input_layer(x)\n",
    "        x = self.dropout(x)\n",
    "        x = self.relu(x)\n",
    "\n",
    "        # These are our hidden layers\n",
    "\n",
    "        x = self.hidden_layer_1(x)\n",
    "        x = self.dropout(x)\n",
    "        x = self.relu(x)\n",
    "        x = self.hidden_layer_2(x)\n",
    "        x = self.dropout(x)\n",
    "        x = self.relu(x)\n",
    "        x = self.hidden_layer_3(x)\n",
    "        x = self.dropout(x)\n",
    "        x = self.relu(x)\n",
    "        x = self.hidden_layer_4(x)\n",
    "        x = self.dropout(x)\n",
    "        x = self.relu(x)\n",
    "        \n",
    "        # This is our output layer\n",
    "        x = self.output_layer(x)\n",
    "\n",
    "        return x"
   ]
  },
  {
   "cell_type": "code",
   "execution_count": 25,
   "id": "8af1980b",
   "metadata": {},
   "outputs": [],
   "source": [
    "input_size = features_no\n",
    "hidden_size = 100\n",
    "output_size = len(quality_types)\n",
    "dropout_rate = 0.38\n",
    "learning_rate = 0.005\n",
    "epochs = 400\n",
    "\n",
    "# Initialize the model\n",
    "\n",
    "model = NeuralClassifier(input_size, hidden_size, output_size, dropout_rate)\n",
    "\n",
    "# If a gpu is available, we'll move the model to it\n",
    "model.to(device)\n",
    "\n",
    "# Define the loss function and the optimizer\n",
    "\n",
    "criterion = torch.nn.CrossEntropyLoss()\n",
    "optimizer = torch.optim.Adam(model.parameters(), lr=learning_rate)"
   ]
  },
  {
   "cell_type": "code",
   "execution_count": 26,
   "id": "a200c289",
   "metadata": {},
   "outputs": [
    {
     "data": {
      "text/html": [
       "<pre style=\"white-space:pre;overflow-x:auto;line-height:normal;font-family:Menlo,'DejaVu Sans Mono',consolas,'Courier New',monospace\">Epoch: <span style=\"color: #008080; text-decoration-color: #008080; font-weight: bold\">1</span>. Loss: <span style=\"color: #008080; text-decoration-color: #008080; font-weight: bold\">0.693683922290802</span>\n",
       "</pre>\n"
      ],
      "text/plain": [
       "Epoch: \u001b[1;36m1\u001b[0m. Loss: \u001b[1;36m0.693683922290802\u001b[0m\n"
      ]
     },
     "metadata": {},
     "output_type": "display_data"
    },
    {
     "data": {
      "text/html": [
       "<pre style=\"white-space:pre;overflow-x:auto;line-height:normal;font-family:Menlo,'DejaVu Sans Mono',consolas,'Courier New',monospace\">Epoch: <span style=\"color: #008080; text-decoration-color: #008080; font-weight: bold\">2</span>. Loss: <span style=\"color: #008080; text-decoration-color: #008080; font-weight: bold\">0.7786045670509338</span>\n",
       "</pre>\n"
      ],
      "text/plain": [
       "Epoch: \u001b[1;36m2\u001b[0m. Loss: \u001b[1;36m0.7786045670509338\u001b[0m\n"
      ]
     },
     "metadata": {},
     "output_type": "display_data"
    },
    {
     "data": {
      "text/html": [
       "<pre style=\"white-space:pre;overflow-x:auto;line-height:normal;font-family:Menlo,'DejaVu Sans Mono',consolas,'Courier New',monospace\">Epoch: <span style=\"color: #008080; text-decoration-color: #008080; font-weight: bold\">3</span>. Loss: <span style=\"color: #008080; text-decoration-color: #008080; font-weight: bold\">0.8214351534843445</span>\n",
       "</pre>\n"
      ],
      "text/plain": [
       "Epoch: \u001b[1;36m3\u001b[0m. Loss: \u001b[1;36m0.8214351534843445\u001b[0m\n"
      ]
     },
     "metadata": {},
     "output_type": "display_data"
    },
    {
     "data": {
      "text/html": [
       "<pre style=\"white-space:pre;overflow-x:auto;line-height:normal;font-family:Menlo,'DejaVu Sans Mono',consolas,'Courier New',monospace\">Epoch: <span style=\"color: #008080; text-decoration-color: #008080; font-weight: bold\">4</span>. Loss: <span style=\"color: #008080; text-decoration-color: #008080; font-weight: bold\">0.6954700350761414</span>\n",
       "</pre>\n"
      ],
      "text/plain": [
       "Epoch: \u001b[1;36m4\u001b[0m. Loss: \u001b[1;36m0.6954700350761414\u001b[0m\n"
      ]
     },
     "metadata": {},
     "output_type": "display_data"
    },
    {
     "data": {
      "text/html": [
       "<pre style=\"white-space:pre;overflow-x:auto;line-height:normal;font-family:Menlo,'DejaVu Sans Mono',consolas,'Courier New',monospace\">Epoch: <span style=\"color: #008080; text-decoration-color: #008080; font-weight: bold\">5</span>. Loss: <span style=\"color: #008080; text-decoration-color: #008080; font-weight: bold\">0.6935794353485107</span>\n",
       "</pre>\n"
      ],
      "text/plain": [
       "Epoch: \u001b[1;36m5\u001b[0m. Loss: \u001b[1;36m0.6935794353485107\u001b[0m\n"
      ]
     },
     "metadata": {},
     "output_type": "display_data"
    },
    {
     "data": {
      "text/html": [
       "<pre style=\"white-space:pre;overflow-x:auto;line-height:normal;font-family:Menlo,'DejaVu Sans Mono',consolas,'Courier New',monospace\">Epoch: <span style=\"color: #008080; text-decoration-color: #008080; font-weight: bold\">6</span>. Loss: <span style=\"color: #008080; text-decoration-color: #008080; font-weight: bold\">0.6935433745384216</span>\n",
       "</pre>\n"
      ],
      "text/plain": [
       "Epoch: \u001b[1;36m6\u001b[0m. Loss: \u001b[1;36m0.6935433745384216\u001b[0m\n"
      ]
     },
     "metadata": {},
     "output_type": "display_data"
    },
    {
     "data": {
      "text/html": [
       "<pre style=\"white-space:pre;overflow-x:auto;line-height:normal;font-family:Menlo,'DejaVu Sans Mono',consolas,'Courier New',monospace\">Epoch: <span style=\"color: #008080; text-decoration-color: #008080; font-weight: bold\">7</span>. Loss: <span style=\"color: #008080; text-decoration-color: #008080; font-weight: bold\">0.6922466158866882</span>\n",
       "</pre>\n"
      ],
      "text/plain": [
       "Epoch: \u001b[1;36m7\u001b[0m. Loss: \u001b[1;36m0.6922466158866882\u001b[0m\n"
      ]
     },
     "metadata": {},
     "output_type": "display_data"
    },
    {
     "data": {
      "text/html": [
       "<pre style=\"white-space:pre;overflow-x:auto;line-height:normal;font-family:Menlo,'DejaVu Sans Mono',consolas,'Courier New',monospace\">Epoch: <span style=\"color: #008080; text-decoration-color: #008080; font-weight: bold\">8</span>. Loss: <span style=\"color: #008080; text-decoration-color: #008080; font-weight: bold\">0.6888269186019897</span>\n",
       "</pre>\n"
      ],
      "text/plain": [
       "Epoch: \u001b[1;36m8\u001b[0m. Loss: \u001b[1;36m0.6888269186019897\u001b[0m\n"
      ]
     },
     "metadata": {},
     "output_type": "display_data"
    },
    {
     "data": {
      "text/html": [
       "<pre style=\"white-space:pre;overflow-x:auto;line-height:normal;font-family:Menlo,'DejaVu Sans Mono',consolas,'Courier New',monospace\">Epoch: <span style=\"color: #008080; text-decoration-color: #008080; font-weight: bold\">9</span>. Loss: <span style=\"color: #008080; text-decoration-color: #008080; font-weight: bold\">0.6835474967956543</span>\n",
       "</pre>\n"
      ],
      "text/plain": [
       "Epoch: \u001b[1;36m9\u001b[0m. Loss: \u001b[1;36m0.6835474967956543\u001b[0m\n"
      ]
     },
     "metadata": {},
     "output_type": "display_data"
    },
    {
     "data": {
      "text/html": [
       "<pre style=\"white-space:pre;overflow-x:auto;line-height:normal;font-family:Menlo,'DejaVu Sans Mono',consolas,'Courier New',monospace\">Epoch: <span style=\"color: #008080; text-decoration-color: #008080; font-weight: bold\">10</span>. Loss: <span style=\"color: #008080; text-decoration-color: #008080; font-weight: bold\">0.6728588938713074</span>\n",
       "</pre>\n"
      ],
      "text/plain": [
       "Epoch: \u001b[1;36m10\u001b[0m. Loss: \u001b[1;36m0.6728588938713074\u001b[0m\n"
      ]
     },
     "metadata": {},
     "output_type": "display_data"
    },
    {
     "data": {
      "text/html": [
       "<pre style=\"white-space:pre;overflow-x:auto;line-height:normal;font-family:Menlo,'DejaVu Sans Mono',consolas,'Courier New',monospace\">Epoch: <span style=\"color: #008080; text-decoration-color: #008080; font-weight: bold\">11</span>. Loss: <span style=\"color: #008080; text-decoration-color: #008080; font-weight: bold\">0.6494214534759521</span>\n",
       "</pre>\n"
      ],
      "text/plain": [
       "Epoch: \u001b[1;36m11\u001b[0m. Loss: \u001b[1;36m0.6494214534759521\u001b[0m\n"
      ]
     },
     "metadata": {},
     "output_type": "display_data"
    },
    {
     "data": {
      "text/html": [
       "<pre style=\"white-space:pre;overflow-x:auto;line-height:normal;font-family:Menlo,'DejaVu Sans Mono',consolas,'Courier New',monospace\">Epoch: <span style=\"color: #008080; text-decoration-color: #008080; font-weight: bold\">12</span>. Loss: <span style=\"color: #008080; text-decoration-color: #008080; font-weight: bold\">0.6107358336448669</span>\n",
       "</pre>\n"
      ],
      "text/plain": [
       "Epoch: \u001b[1;36m12\u001b[0m. Loss: \u001b[1;36m0.6107358336448669\u001b[0m\n"
      ]
     },
     "metadata": {},
     "output_type": "display_data"
    },
    {
     "data": {
      "text/html": [
       "<pre style=\"white-space:pre;overflow-x:auto;line-height:normal;font-family:Menlo,'DejaVu Sans Mono',consolas,'Courier New',monospace\">Epoch: <span style=\"color: #008080; text-decoration-color: #008080; font-weight: bold\">13</span>. Loss: <span style=\"color: #008080; text-decoration-color: #008080; font-weight: bold\">0.5756077170372009</span>\n",
       "</pre>\n"
      ],
      "text/plain": [
       "Epoch: \u001b[1;36m13\u001b[0m. Loss: \u001b[1;36m0.5756077170372009\u001b[0m\n"
      ]
     },
     "metadata": {},
     "output_type": "display_data"
    },
    {
     "data": {
      "text/html": [
       "<pre style=\"white-space:pre;overflow-x:auto;line-height:normal;font-family:Menlo,'DejaVu Sans Mono',consolas,'Courier New',monospace\">Epoch: <span style=\"color: #008080; text-decoration-color: #008080; font-weight: bold\">14</span>. Loss: <span style=\"color: #008080; text-decoration-color: #008080; font-weight: bold\">0.5666068196296692</span>\n",
       "</pre>\n"
      ],
      "text/plain": [
       "Epoch: \u001b[1;36m14\u001b[0m. Loss: \u001b[1;36m0.5666068196296692\u001b[0m\n"
      ]
     },
     "metadata": {},
     "output_type": "display_data"
    },
    {
     "data": {
      "text/html": [
       "<pre style=\"white-space:pre;overflow-x:auto;line-height:normal;font-family:Menlo,'DejaVu Sans Mono',consolas,'Courier New',monospace\">Epoch: <span style=\"color: #008080; text-decoration-color: #008080; font-weight: bold\">15</span>. Loss: <span style=\"color: #008080; text-decoration-color: #008080; font-weight: bold\">0.557127058506012</span>\n",
       "</pre>\n"
      ],
      "text/plain": [
       "Epoch: \u001b[1;36m15\u001b[0m. Loss: \u001b[1;36m0.557127058506012\u001b[0m\n"
      ]
     },
     "metadata": {},
     "output_type": "display_data"
    },
    {
     "data": {
      "text/html": [
       "<pre style=\"white-space:pre;overflow-x:auto;line-height:normal;font-family:Menlo,'DejaVu Sans Mono',consolas,'Courier New',monospace\">Epoch: <span style=\"color: #008080; text-decoration-color: #008080; font-weight: bold\">16</span>. Loss: <span style=\"color: #008080; text-decoration-color: #008080; font-weight: bold\">0.5330145955085754</span>\n",
       "</pre>\n"
      ],
      "text/plain": [
       "Epoch: \u001b[1;36m16\u001b[0m. Loss: \u001b[1;36m0.5330145955085754\u001b[0m\n"
      ]
     },
     "metadata": {},
     "output_type": "display_data"
    },
    {
     "data": {
      "text/html": [
       "<pre style=\"white-space:pre;overflow-x:auto;line-height:normal;font-family:Menlo,'DejaVu Sans Mono',consolas,'Courier New',monospace\">Epoch: <span style=\"color: #008080; text-decoration-color: #008080; font-weight: bold\">17</span>. Loss: <span style=\"color: #008080; text-decoration-color: #008080; font-weight: bold\">0.5174807906150818</span>\n",
       "</pre>\n"
      ],
      "text/plain": [
       "Epoch: \u001b[1;36m17\u001b[0m. Loss: \u001b[1;36m0.5174807906150818\u001b[0m\n"
      ]
     },
     "metadata": {},
     "output_type": "display_data"
    },
    {
     "data": {
      "text/html": [
       "<pre style=\"white-space:pre;overflow-x:auto;line-height:normal;font-family:Menlo,'DejaVu Sans Mono',consolas,'Courier New',monospace\">Epoch: <span style=\"color: #008080; text-decoration-color: #008080; font-weight: bold\">18</span>. Loss: <span style=\"color: #008080; text-decoration-color: #008080; font-weight: bold\">0.5292783975601196</span>\n",
       "</pre>\n"
      ],
      "text/plain": [
       "Epoch: \u001b[1;36m18\u001b[0m. Loss: \u001b[1;36m0.5292783975601196\u001b[0m\n"
      ]
     },
     "metadata": {},
     "output_type": "display_data"
    },
    {
     "data": {
      "text/html": [
       "<pre style=\"white-space:pre;overflow-x:auto;line-height:normal;font-family:Menlo,'DejaVu Sans Mono',consolas,'Courier New',monospace\">Epoch: <span style=\"color: #008080; text-decoration-color: #008080; font-weight: bold\">19</span>. Loss: <span style=\"color: #008080; text-decoration-color: #008080; font-weight: bold\">0.48966071009635925</span>\n",
       "</pre>\n"
      ],
      "text/plain": [
       "Epoch: \u001b[1;36m19\u001b[0m. Loss: \u001b[1;36m0.48966071009635925\u001b[0m\n"
      ]
     },
     "metadata": {},
     "output_type": "display_data"
    },
    {
     "data": {
      "text/html": [
       "<pre style=\"white-space:pre;overflow-x:auto;line-height:normal;font-family:Menlo,'DejaVu Sans Mono',consolas,'Courier New',monospace\">Epoch: <span style=\"color: #008080; text-decoration-color: #008080; font-weight: bold\">20</span>. Loss: <span style=\"color: #008080; text-decoration-color: #008080; font-weight: bold\">0.48160067200660706</span>\n",
       "</pre>\n"
      ],
      "text/plain": [
       "Epoch: \u001b[1;36m20\u001b[0m. Loss: \u001b[1;36m0.48160067200660706\u001b[0m\n"
      ]
     },
     "metadata": {},
     "output_type": "display_data"
    },
    {
     "data": {
      "text/html": [
       "<pre style=\"white-space:pre;overflow-x:auto;line-height:normal;font-family:Menlo,'DejaVu Sans Mono',consolas,'Courier New',monospace\">Epoch: <span style=\"color: #008080; text-decoration-color: #008080; font-weight: bold\">21</span>. Loss: <span style=\"color: #008080; text-decoration-color: #008080; font-weight: bold\">0.46972575783729553</span>\n",
       "</pre>\n"
      ],
      "text/plain": [
       "Epoch: \u001b[1;36m21\u001b[0m. Loss: \u001b[1;36m0.46972575783729553\u001b[0m\n"
      ]
     },
     "metadata": {},
     "output_type": "display_data"
    },
    {
     "data": {
      "text/html": [
       "<pre style=\"white-space:pre;overflow-x:auto;line-height:normal;font-family:Menlo,'DejaVu Sans Mono',consolas,'Courier New',monospace\">Epoch: <span style=\"color: #008080; text-decoration-color: #008080; font-weight: bold\">22</span>. Loss: <span style=\"color: #008080; text-decoration-color: #008080; font-weight: bold\">0.4656045436859131</span>\n",
       "</pre>\n"
      ],
      "text/plain": [
       "Epoch: \u001b[1;36m22\u001b[0m. Loss: \u001b[1;36m0.4656045436859131\u001b[0m\n"
      ]
     },
     "metadata": {},
     "output_type": "display_data"
    },
    {
     "data": {
      "text/html": [
       "<pre style=\"white-space:pre;overflow-x:auto;line-height:normal;font-family:Menlo,'DejaVu Sans Mono',consolas,'Courier New',monospace\">Epoch: <span style=\"color: #008080; text-decoration-color: #008080; font-weight: bold\">23</span>. Loss: <span style=\"color: #008080; text-decoration-color: #008080; font-weight: bold\">0.4455145001411438</span>\n",
       "</pre>\n"
      ],
      "text/plain": [
       "Epoch: \u001b[1;36m23\u001b[0m. Loss: \u001b[1;36m0.4455145001411438\u001b[0m\n"
      ]
     },
     "metadata": {},
     "output_type": "display_data"
    },
    {
     "data": {
      "text/html": [
       "<pre style=\"white-space:pre;overflow-x:auto;line-height:normal;font-family:Menlo,'DejaVu Sans Mono',consolas,'Courier New',monospace\">Epoch: <span style=\"color: #008080; text-decoration-color: #008080; font-weight: bold\">24</span>. Loss: <span style=\"color: #008080; text-decoration-color: #008080; font-weight: bold\">0.4306669235229492</span>\n",
       "</pre>\n"
      ],
      "text/plain": [
       "Epoch: \u001b[1;36m24\u001b[0m. Loss: \u001b[1;36m0.4306669235229492\u001b[0m\n"
      ]
     },
     "metadata": {},
     "output_type": "display_data"
    },
    {
     "data": {
      "text/html": [
       "<pre style=\"white-space:pre;overflow-x:auto;line-height:normal;font-family:Menlo,'DejaVu Sans Mono',consolas,'Courier New',monospace\">Epoch: <span style=\"color: #008080; text-decoration-color: #008080; font-weight: bold\">25</span>. Loss: <span style=\"color: #008080; text-decoration-color: #008080; font-weight: bold\">0.4336477220058441</span>\n",
       "</pre>\n"
      ],
      "text/plain": [
       "Epoch: \u001b[1;36m25\u001b[0m. Loss: \u001b[1;36m0.4336477220058441\u001b[0m\n"
      ]
     },
     "metadata": {},
     "output_type": "display_data"
    },
    {
     "data": {
      "text/html": [
       "<pre style=\"white-space:pre;overflow-x:auto;line-height:normal;font-family:Menlo,'DejaVu Sans Mono',consolas,'Courier New',monospace\">Epoch: <span style=\"color: #008080; text-decoration-color: #008080; font-weight: bold\">26</span>. Loss: <span style=\"color: #008080; text-decoration-color: #008080; font-weight: bold\">0.4215097427368164</span>\n",
       "</pre>\n"
      ],
      "text/plain": [
       "Epoch: \u001b[1;36m26\u001b[0m. Loss: \u001b[1;36m0.4215097427368164\u001b[0m\n"
      ]
     },
     "metadata": {},
     "output_type": "display_data"
    },
    {
     "data": {
      "text/html": [
       "<pre style=\"white-space:pre;overflow-x:auto;line-height:normal;font-family:Menlo,'DejaVu Sans Mono',consolas,'Courier New',monospace\">Epoch: <span style=\"color: #008080; text-decoration-color: #008080; font-weight: bold\">27</span>. Loss: <span style=\"color: #008080; text-decoration-color: #008080; font-weight: bold\">0.40561848878860474</span>\n",
       "</pre>\n"
      ],
      "text/plain": [
       "Epoch: \u001b[1;36m27\u001b[0m. Loss: \u001b[1;36m0.40561848878860474\u001b[0m\n"
      ]
     },
     "metadata": {},
     "output_type": "display_data"
    },
    {
     "data": {
      "text/html": [
       "<pre style=\"white-space:pre;overflow-x:auto;line-height:normal;font-family:Menlo,'DejaVu Sans Mono',consolas,'Courier New',monospace\">Epoch: <span style=\"color: #008080; text-decoration-color: #008080; font-weight: bold\">28</span>. Loss: <span style=\"color: #008080; text-decoration-color: #008080; font-weight: bold\">0.4014440178871155</span>\n",
       "</pre>\n"
      ],
      "text/plain": [
       "Epoch: \u001b[1;36m28\u001b[0m. Loss: \u001b[1;36m0.4014440178871155\u001b[0m\n"
      ]
     },
     "metadata": {},
     "output_type": "display_data"
    },
    {
     "data": {
      "text/html": [
       "<pre style=\"white-space:pre;overflow-x:auto;line-height:normal;font-family:Menlo,'DejaVu Sans Mono',consolas,'Courier New',monospace\">Epoch: <span style=\"color: #008080; text-decoration-color: #008080; font-weight: bold\">29</span>. Loss: <span style=\"color: #008080; text-decoration-color: #008080; font-weight: bold\">0.3954727053642273</span>\n",
       "</pre>\n"
      ],
      "text/plain": [
       "Epoch: \u001b[1;36m29\u001b[0m. Loss: \u001b[1;36m0.3954727053642273\u001b[0m\n"
      ]
     },
     "metadata": {},
     "output_type": "display_data"
    },
    {
     "data": {
      "text/html": [
       "<pre style=\"white-space:pre;overflow-x:auto;line-height:normal;font-family:Menlo,'DejaVu Sans Mono',consolas,'Courier New',monospace\">Epoch: <span style=\"color: #008080; text-decoration-color: #008080; font-weight: bold\">30</span>. Loss: <span style=\"color: #008080; text-decoration-color: #008080; font-weight: bold\">0.38106492161750793</span>\n",
       "</pre>\n"
      ],
      "text/plain": [
       "Epoch: \u001b[1;36m30\u001b[0m. Loss: \u001b[1;36m0.38106492161750793\u001b[0m\n"
      ]
     },
     "metadata": {},
     "output_type": "display_data"
    },
    {
     "data": {
      "text/html": [
       "<pre style=\"white-space:pre;overflow-x:auto;line-height:normal;font-family:Menlo,'DejaVu Sans Mono',consolas,'Courier New',monospace\">Epoch: <span style=\"color: #008080; text-decoration-color: #008080; font-weight: bold\">31</span>. Loss: <span style=\"color: #008080; text-decoration-color: #008080; font-weight: bold\">0.3849720358848572</span>\n",
       "</pre>\n"
      ],
      "text/plain": [
       "Epoch: \u001b[1;36m31\u001b[0m. Loss: \u001b[1;36m0.3849720358848572\u001b[0m\n"
      ]
     },
     "metadata": {},
     "output_type": "display_data"
    },
    {
     "data": {
      "text/html": [
       "<pre style=\"white-space:pre;overflow-x:auto;line-height:normal;font-family:Menlo,'DejaVu Sans Mono',consolas,'Courier New',monospace\">Epoch: <span style=\"color: #008080; text-decoration-color: #008080; font-weight: bold\">32</span>. Loss: <span style=\"color: #008080; text-decoration-color: #008080; font-weight: bold\">0.37060150504112244</span>\n",
       "</pre>\n"
      ],
      "text/plain": [
       "Epoch: \u001b[1;36m32\u001b[0m. Loss: \u001b[1;36m0.37060150504112244\u001b[0m\n"
      ]
     },
     "metadata": {},
     "output_type": "display_data"
    },
    {
     "data": {
      "text/html": [
       "<pre style=\"white-space:pre;overflow-x:auto;line-height:normal;font-family:Menlo,'DejaVu Sans Mono',consolas,'Courier New',monospace\">Epoch: <span style=\"color: #008080; text-decoration-color: #008080; font-weight: bold\">33</span>. Loss: <span style=\"color: #008080; text-decoration-color: #008080; font-weight: bold\">0.3690605163574219</span>\n",
       "</pre>\n"
      ],
      "text/plain": [
       "Epoch: \u001b[1;36m33\u001b[0m. Loss: \u001b[1;36m0.3690605163574219\u001b[0m\n"
      ]
     },
     "metadata": {},
     "output_type": "display_data"
    },
    {
     "data": {
      "text/html": [
       "<pre style=\"white-space:pre;overflow-x:auto;line-height:normal;font-family:Menlo,'DejaVu Sans Mono',consolas,'Courier New',monospace\">Epoch: <span style=\"color: #008080; text-decoration-color: #008080; font-weight: bold\">34</span>. Loss: <span style=\"color: #008080; text-decoration-color: #008080; font-weight: bold\">0.3741837441921234</span>\n",
       "</pre>\n"
      ],
      "text/plain": [
       "Epoch: \u001b[1;36m34\u001b[0m. Loss: \u001b[1;36m0.3741837441921234\u001b[0m\n"
      ]
     },
     "metadata": {},
     "output_type": "display_data"
    },
    {
     "data": {
      "text/html": [
       "<pre style=\"white-space:pre;overflow-x:auto;line-height:normal;font-family:Menlo,'DejaVu Sans Mono',consolas,'Courier New',monospace\">Epoch: <span style=\"color: #008080; text-decoration-color: #008080; font-weight: bold\">35</span>. Loss: <span style=\"color: #008080; text-decoration-color: #008080; font-weight: bold\">0.3564335107803345</span>\n",
       "</pre>\n"
      ],
      "text/plain": [
       "Epoch: \u001b[1;36m35\u001b[0m. Loss: \u001b[1;36m0.3564335107803345\u001b[0m\n"
      ]
     },
     "metadata": {},
     "output_type": "display_data"
    },
    {
     "data": {
      "text/html": [
       "<pre style=\"white-space:pre;overflow-x:auto;line-height:normal;font-family:Menlo,'DejaVu Sans Mono',consolas,'Courier New',monospace\">Epoch: <span style=\"color: #008080; text-decoration-color: #008080; font-weight: bold\">36</span>. Loss: <span style=\"color: #008080; text-decoration-color: #008080; font-weight: bold\">0.36247408390045166</span>\n",
       "</pre>\n"
      ],
      "text/plain": [
       "Epoch: \u001b[1;36m36\u001b[0m. Loss: \u001b[1;36m0.36247408390045166\u001b[0m\n"
      ]
     },
     "metadata": {},
     "output_type": "display_data"
    },
    {
     "data": {
      "text/html": [
       "<pre style=\"white-space:pre;overflow-x:auto;line-height:normal;font-family:Menlo,'DejaVu Sans Mono',consolas,'Courier New',monospace\">Epoch: <span style=\"color: #008080; text-decoration-color: #008080; font-weight: bold\">37</span>. Loss: <span style=\"color: #008080; text-decoration-color: #008080; font-weight: bold\">0.35655131936073303</span>\n",
       "</pre>\n"
      ],
      "text/plain": [
       "Epoch: \u001b[1;36m37\u001b[0m. Loss: \u001b[1;36m0.35655131936073303\u001b[0m\n"
      ]
     },
     "metadata": {},
     "output_type": "display_data"
    },
    {
     "data": {
      "text/html": [
       "<pre style=\"white-space:pre;overflow-x:auto;line-height:normal;font-family:Menlo,'DejaVu Sans Mono',consolas,'Courier New',monospace\">Epoch: <span style=\"color: #008080; text-decoration-color: #008080; font-weight: bold\">38</span>. Loss: <span style=\"color: #008080; text-decoration-color: #008080; font-weight: bold\">0.35333961248397827</span>\n",
       "</pre>\n"
      ],
      "text/plain": [
       "Epoch: \u001b[1;36m38\u001b[0m. Loss: \u001b[1;36m0.35333961248397827\u001b[0m\n"
      ]
     },
     "metadata": {},
     "output_type": "display_data"
    },
    {
     "data": {
      "text/html": [
       "<pre style=\"white-space:pre;overflow-x:auto;line-height:normal;font-family:Menlo,'DejaVu Sans Mono',consolas,'Courier New',monospace\">Epoch: <span style=\"color: #008080; text-decoration-color: #008080; font-weight: bold\">39</span>. Loss: <span style=\"color: #008080; text-decoration-color: #008080; font-weight: bold\">0.35535624623298645</span>\n",
       "</pre>\n"
      ],
      "text/plain": [
       "Epoch: \u001b[1;36m39\u001b[0m. Loss: \u001b[1;36m0.35535624623298645\u001b[0m\n"
      ]
     },
     "metadata": {},
     "output_type": "display_data"
    },
    {
     "data": {
      "text/html": [
       "<pre style=\"white-space:pre;overflow-x:auto;line-height:normal;font-family:Menlo,'DejaVu Sans Mono',consolas,'Courier New',monospace\">Epoch: <span style=\"color: #008080; text-decoration-color: #008080; font-weight: bold\">40</span>. Loss: <span style=\"color: #008080; text-decoration-color: #008080; font-weight: bold\">0.33780983090400696</span>\n",
       "</pre>\n"
      ],
      "text/plain": [
       "Epoch: \u001b[1;36m40\u001b[0m. Loss: \u001b[1;36m0.33780983090400696\u001b[0m\n"
      ]
     },
     "metadata": {},
     "output_type": "display_data"
    },
    {
     "data": {
      "text/html": [
       "<pre style=\"white-space:pre;overflow-x:auto;line-height:normal;font-family:Menlo,'DejaVu Sans Mono',consolas,'Courier New',monospace\">Epoch: <span style=\"color: #008080; text-decoration-color: #008080; font-weight: bold\">41</span>. Loss: <span style=\"color: #008080; text-decoration-color: #008080; font-weight: bold\">0.3518405854701996</span>\n",
       "</pre>\n"
      ],
      "text/plain": [
       "Epoch: \u001b[1;36m41\u001b[0m. Loss: \u001b[1;36m0.3518405854701996\u001b[0m\n"
      ]
     },
     "metadata": {},
     "output_type": "display_data"
    },
    {
     "data": {
      "text/html": [
       "<pre style=\"white-space:pre;overflow-x:auto;line-height:normal;font-family:Menlo,'DejaVu Sans Mono',consolas,'Courier New',monospace\">Epoch: <span style=\"color: #008080; text-decoration-color: #008080; font-weight: bold\">42</span>. Loss: <span style=\"color: #008080; text-decoration-color: #008080; font-weight: bold\">0.35105645656585693</span>\n",
       "</pre>\n"
      ],
      "text/plain": [
       "Epoch: \u001b[1;36m42\u001b[0m. Loss: \u001b[1;36m0.35105645656585693\u001b[0m\n"
      ]
     },
     "metadata": {},
     "output_type": "display_data"
    },
    {
     "data": {
      "text/html": [
       "<pre style=\"white-space:pre;overflow-x:auto;line-height:normal;font-family:Menlo,'DejaVu Sans Mono',consolas,'Courier New',monospace\">Epoch: <span style=\"color: #008080; text-decoration-color: #008080; font-weight: bold\">43</span>. Loss: <span style=\"color: #008080; text-decoration-color: #008080; font-weight: bold\">0.3394879996776581</span>\n",
       "</pre>\n"
      ],
      "text/plain": [
       "Epoch: \u001b[1;36m43\u001b[0m. Loss: \u001b[1;36m0.3394879996776581\u001b[0m\n"
      ]
     },
     "metadata": {},
     "output_type": "display_data"
    },
    {
     "data": {
      "text/html": [
       "<pre style=\"white-space:pre;overflow-x:auto;line-height:normal;font-family:Menlo,'DejaVu Sans Mono',consolas,'Courier New',monospace\">Epoch: <span style=\"color: #008080; text-decoration-color: #008080; font-weight: bold\">44</span>. Loss: <span style=\"color: #008080; text-decoration-color: #008080; font-weight: bold\">0.32666394114494324</span>\n",
       "</pre>\n"
      ],
      "text/plain": [
       "Epoch: \u001b[1;36m44\u001b[0m. Loss: \u001b[1;36m0.32666394114494324\u001b[0m\n"
      ]
     },
     "metadata": {},
     "output_type": "display_data"
    },
    {
     "data": {
      "text/html": [
       "<pre style=\"white-space:pre;overflow-x:auto;line-height:normal;font-family:Menlo,'DejaVu Sans Mono',consolas,'Courier New',monospace\">Epoch: <span style=\"color: #008080; text-decoration-color: #008080; font-weight: bold\">45</span>. Loss: <span style=\"color: #008080; text-decoration-color: #008080; font-weight: bold\">0.31945663690567017</span>\n",
       "</pre>\n"
      ],
      "text/plain": [
       "Epoch: \u001b[1;36m45\u001b[0m. Loss: \u001b[1;36m0.31945663690567017\u001b[0m\n"
      ]
     },
     "metadata": {},
     "output_type": "display_data"
    },
    {
     "data": {
      "text/html": [
       "<pre style=\"white-space:pre;overflow-x:auto;line-height:normal;font-family:Menlo,'DejaVu Sans Mono',consolas,'Courier New',monospace\">Epoch: <span style=\"color: #008080; text-decoration-color: #008080; font-weight: bold\">46</span>. Loss: <span style=\"color: #008080; text-decoration-color: #008080; font-weight: bold\">0.32717418670654297</span>\n",
       "</pre>\n"
      ],
      "text/plain": [
       "Epoch: \u001b[1;36m46\u001b[0m. Loss: \u001b[1;36m0.32717418670654297\u001b[0m\n"
      ]
     },
     "metadata": {},
     "output_type": "display_data"
    },
    {
     "data": {
      "text/html": [
       "<pre style=\"white-space:pre;overflow-x:auto;line-height:normal;font-family:Menlo,'DejaVu Sans Mono',consolas,'Courier New',monospace\">Epoch: <span style=\"color: #008080; text-decoration-color: #008080; font-weight: bold\">47</span>. Loss: <span style=\"color: #008080; text-decoration-color: #008080; font-weight: bold\">0.323784738779068</span>\n",
       "</pre>\n"
      ],
      "text/plain": [
       "Epoch: \u001b[1;36m47\u001b[0m. Loss: \u001b[1;36m0.323784738779068\u001b[0m\n"
      ]
     },
     "metadata": {},
     "output_type": "display_data"
    },
    {
     "data": {
      "text/html": [
       "<pre style=\"white-space:pre;overflow-x:auto;line-height:normal;font-family:Menlo,'DejaVu Sans Mono',consolas,'Courier New',monospace\">Epoch: <span style=\"color: #008080; text-decoration-color: #008080; font-weight: bold\">48</span>. Loss: <span style=\"color: #008080; text-decoration-color: #008080; font-weight: bold\">0.3266647756099701</span>\n",
       "</pre>\n"
      ],
      "text/plain": [
       "Epoch: \u001b[1;36m48\u001b[0m. Loss: \u001b[1;36m0.3266647756099701\u001b[0m\n"
      ]
     },
     "metadata": {},
     "output_type": "display_data"
    },
    {
     "data": {
      "text/html": [
       "<pre style=\"white-space:pre;overflow-x:auto;line-height:normal;font-family:Menlo,'DejaVu Sans Mono',consolas,'Courier New',monospace\">Epoch: <span style=\"color: #008080; text-decoration-color: #008080; font-weight: bold\">49</span>. Loss: <span style=\"color: #008080; text-decoration-color: #008080; font-weight: bold\">0.3271104693412781</span>\n",
       "</pre>\n"
      ],
      "text/plain": [
       "Epoch: \u001b[1;36m49\u001b[0m. Loss: \u001b[1;36m0.3271104693412781\u001b[0m\n"
      ]
     },
     "metadata": {},
     "output_type": "display_data"
    },
    {
     "data": {
      "text/html": [
       "<pre style=\"white-space:pre;overflow-x:auto;line-height:normal;font-family:Menlo,'DejaVu Sans Mono',consolas,'Courier New',monospace\">Epoch: <span style=\"color: #008080; text-decoration-color: #008080; font-weight: bold\">50</span>. Loss: <span style=\"color: #008080; text-decoration-color: #008080; font-weight: bold\">0.31848326325416565</span>\n",
       "</pre>\n"
      ],
      "text/plain": [
       "Epoch: \u001b[1;36m50\u001b[0m. Loss: \u001b[1;36m0.31848326325416565\u001b[0m\n"
      ]
     },
     "metadata": {},
     "output_type": "display_data"
    },
    {
     "data": {
      "text/html": [
       "<pre style=\"white-space:pre;overflow-x:auto;line-height:normal;font-family:Menlo,'DejaVu Sans Mono',consolas,'Courier New',monospace\">Epoch: <span style=\"color: #008080; text-decoration-color: #008080; font-weight: bold\">51</span>. Loss: <span style=\"color: #008080; text-decoration-color: #008080; font-weight: bold\">0.3291091024875641</span>\n",
       "</pre>\n"
      ],
      "text/plain": [
       "Epoch: \u001b[1;36m51\u001b[0m. Loss: \u001b[1;36m0.3291091024875641\u001b[0m\n"
      ]
     },
     "metadata": {},
     "output_type": "display_data"
    },
    {
     "data": {
      "text/html": [
       "<pre style=\"white-space:pre;overflow-x:auto;line-height:normal;font-family:Menlo,'DejaVu Sans Mono',consolas,'Courier New',monospace\">Epoch: <span style=\"color: #008080; text-decoration-color: #008080; font-weight: bold\">52</span>. Loss: <span style=\"color: #008080; text-decoration-color: #008080; font-weight: bold\">0.3166848123073578</span>\n",
       "</pre>\n"
      ],
      "text/plain": [
       "Epoch: \u001b[1;36m52\u001b[0m. Loss: \u001b[1;36m0.3166848123073578\u001b[0m\n"
      ]
     },
     "metadata": {},
     "output_type": "display_data"
    },
    {
     "data": {
      "text/html": [
       "<pre style=\"white-space:pre;overflow-x:auto;line-height:normal;font-family:Menlo,'DejaVu Sans Mono',consolas,'Courier New',monospace\">Epoch: <span style=\"color: #008080; text-decoration-color: #008080; font-weight: bold\">53</span>. Loss: <span style=\"color: #008080; text-decoration-color: #008080; font-weight: bold\">0.3024692237377167</span>\n",
       "</pre>\n"
      ],
      "text/plain": [
       "Epoch: \u001b[1;36m53\u001b[0m. Loss: \u001b[1;36m0.3024692237377167\u001b[0m\n"
      ]
     },
     "metadata": {},
     "output_type": "display_data"
    },
    {
     "data": {
      "text/html": [
       "<pre style=\"white-space:pre;overflow-x:auto;line-height:normal;font-family:Menlo,'DejaVu Sans Mono',consolas,'Courier New',monospace\">Epoch: <span style=\"color: #008080; text-decoration-color: #008080; font-weight: bold\">54</span>. Loss: <span style=\"color: #008080; text-decoration-color: #008080; font-weight: bold\">0.3134842813014984</span>\n",
       "</pre>\n"
      ],
      "text/plain": [
       "Epoch: \u001b[1;36m54\u001b[0m. Loss: \u001b[1;36m0.3134842813014984\u001b[0m\n"
      ]
     },
     "metadata": {},
     "output_type": "display_data"
    },
    {
     "data": {
      "text/html": [
       "<pre style=\"white-space:pre;overflow-x:auto;line-height:normal;font-family:Menlo,'DejaVu Sans Mono',consolas,'Courier New',monospace\">Epoch: <span style=\"color: #008080; text-decoration-color: #008080; font-weight: bold\">55</span>. Loss: <span style=\"color: #008080; text-decoration-color: #008080; font-weight: bold\">0.31623631715774536</span>\n",
       "</pre>\n"
      ],
      "text/plain": [
       "Epoch: \u001b[1;36m55\u001b[0m. Loss: \u001b[1;36m0.31623631715774536\u001b[0m\n"
      ]
     },
     "metadata": {},
     "output_type": "display_data"
    },
    {
     "data": {
      "text/html": [
       "<pre style=\"white-space:pre;overflow-x:auto;line-height:normal;font-family:Menlo,'DejaVu Sans Mono',consolas,'Courier New',monospace\">Epoch: <span style=\"color: #008080; text-decoration-color: #008080; font-weight: bold\">56</span>. Loss: <span style=\"color: #008080; text-decoration-color: #008080; font-weight: bold\">0.30928078293800354</span>\n",
       "</pre>\n"
      ],
      "text/plain": [
       "Epoch: \u001b[1;36m56\u001b[0m. Loss: \u001b[1;36m0.30928078293800354\u001b[0m\n"
      ]
     },
     "metadata": {},
     "output_type": "display_data"
    },
    {
     "data": {
      "text/html": [
       "<pre style=\"white-space:pre;overflow-x:auto;line-height:normal;font-family:Menlo,'DejaVu Sans Mono',consolas,'Courier New',monospace\">Epoch: <span style=\"color: #008080; text-decoration-color: #008080; font-weight: bold\">57</span>. Loss: <span style=\"color: #008080; text-decoration-color: #008080; font-weight: bold\">0.2992149591445923</span>\n",
       "</pre>\n"
      ],
      "text/plain": [
       "Epoch: \u001b[1;36m57\u001b[0m. Loss: \u001b[1;36m0.2992149591445923\u001b[0m\n"
      ]
     },
     "metadata": {},
     "output_type": "display_data"
    },
    {
     "data": {
      "text/html": [
       "<pre style=\"white-space:pre;overflow-x:auto;line-height:normal;font-family:Menlo,'DejaVu Sans Mono',consolas,'Courier New',monospace\">Epoch: <span style=\"color: #008080; text-decoration-color: #008080; font-weight: bold\">58</span>. Loss: <span style=\"color: #008080; text-decoration-color: #008080; font-weight: bold\">0.29385364055633545</span>\n",
       "</pre>\n"
      ],
      "text/plain": [
       "Epoch: \u001b[1;36m58\u001b[0m. Loss: \u001b[1;36m0.29385364055633545\u001b[0m\n"
      ]
     },
     "metadata": {},
     "output_type": "display_data"
    },
    {
     "data": {
      "text/html": [
       "<pre style=\"white-space:pre;overflow-x:auto;line-height:normal;font-family:Menlo,'DejaVu Sans Mono',consolas,'Courier New',monospace\">Epoch: <span style=\"color: #008080; text-decoration-color: #008080; font-weight: bold\">59</span>. Loss: <span style=\"color: #008080; text-decoration-color: #008080; font-weight: bold\">0.30056560039520264</span>\n",
       "</pre>\n"
      ],
      "text/plain": [
       "Epoch: \u001b[1;36m59\u001b[0m. Loss: \u001b[1;36m0.30056560039520264\u001b[0m\n"
      ]
     },
     "metadata": {},
     "output_type": "display_data"
    },
    {
     "data": {
      "text/html": [
       "<pre style=\"white-space:pre;overflow-x:auto;line-height:normal;font-family:Menlo,'DejaVu Sans Mono',consolas,'Courier New',monospace\">Epoch: <span style=\"color: #008080; text-decoration-color: #008080; font-weight: bold\">60</span>. Loss: <span style=\"color: #008080; text-decoration-color: #008080; font-weight: bold\">0.3076915144920349</span>\n",
       "</pre>\n"
      ],
      "text/plain": [
       "Epoch: \u001b[1;36m60\u001b[0m. Loss: \u001b[1;36m0.3076915144920349\u001b[0m\n"
      ]
     },
     "metadata": {},
     "output_type": "display_data"
    },
    {
     "data": {
      "text/html": [
       "<pre style=\"white-space:pre;overflow-x:auto;line-height:normal;font-family:Menlo,'DejaVu Sans Mono',consolas,'Courier New',monospace\">Epoch: <span style=\"color: #008080; text-decoration-color: #008080; font-weight: bold\">61</span>. Loss: <span style=\"color: #008080; text-decoration-color: #008080; font-weight: bold\">0.30259940028190613</span>\n",
       "</pre>\n"
      ],
      "text/plain": [
       "Epoch: \u001b[1;36m61\u001b[0m. Loss: \u001b[1;36m0.30259940028190613\u001b[0m\n"
      ]
     },
     "metadata": {},
     "output_type": "display_data"
    },
    {
     "data": {
      "text/html": [
       "<pre style=\"white-space:pre;overflow-x:auto;line-height:normal;font-family:Menlo,'DejaVu Sans Mono',consolas,'Courier New',monospace\">Epoch: <span style=\"color: #008080; text-decoration-color: #008080; font-weight: bold\">62</span>. Loss: <span style=\"color: #008080; text-decoration-color: #008080; font-weight: bold\">0.2947820723056793</span>\n",
       "</pre>\n"
      ],
      "text/plain": [
       "Epoch: \u001b[1;36m62\u001b[0m. Loss: \u001b[1;36m0.2947820723056793\u001b[0m\n"
      ]
     },
     "metadata": {},
     "output_type": "display_data"
    },
    {
     "data": {
      "text/html": [
       "<pre style=\"white-space:pre;overflow-x:auto;line-height:normal;font-family:Menlo,'DejaVu Sans Mono',consolas,'Courier New',monospace\">Epoch: <span style=\"color: #008080; text-decoration-color: #008080; font-weight: bold\">63</span>. Loss: <span style=\"color: #008080; text-decoration-color: #008080; font-weight: bold\">0.28505098819732666</span>\n",
       "</pre>\n"
      ],
      "text/plain": [
       "Epoch: \u001b[1;36m63\u001b[0m. Loss: \u001b[1;36m0.28505098819732666\u001b[0m\n"
      ]
     },
     "metadata": {},
     "output_type": "display_data"
    },
    {
     "data": {
      "text/html": [
       "<pre style=\"white-space:pre;overflow-x:auto;line-height:normal;font-family:Menlo,'DejaVu Sans Mono',consolas,'Courier New',monospace\">Epoch: <span style=\"color: #008080; text-decoration-color: #008080; font-weight: bold\">64</span>. Loss: <span style=\"color: #008080; text-decoration-color: #008080; font-weight: bold\">0.2942039966583252</span>\n",
       "</pre>\n"
      ],
      "text/plain": [
       "Epoch: \u001b[1;36m64\u001b[0m. Loss: \u001b[1;36m0.2942039966583252\u001b[0m\n"
      ]
     },
     "metadata": {},
     "output_type": "display_data"
    },
    {
     "data": {
      "text/html": [
       "<pre style=\"white-space:pre;overflow-x:auto;line-height:normal;font-family:Menlo,'DejaVu Sans Mono',consolas,'Courier New',monospace\">Epoch: <span style=\"color: #008080; text-decoration-color: #008080; font-weight: bold\">65</span>. Loss: <span style=\"color: #008080; text-decoration-color: #008080; font-weight: bold\">0.29483819007873535</span>\n",
       "</pre>\n"
      ],
      "text/plain": [
       "Epoch: \u001b[1;36m65\u001b[0m. Loss: \u001b[1;36m0.29483819007873535\u001b[0m\n"
      ]
     },
     "metadata": {},
     "output_type": "display_data"
    },
    {
     "data": {
      "text/html": [
       "<pre style=\"white-space:pre;overflow-x:auto;line-height:normal;font-family:Menlo,'DejaVu Sans Mono',consolas,'Courier New',monospace\">Epoch: <span style=\"color: #008080; text-decoration-color: #008080; font-weight: bold\">66</span>. Loss: <span style=\"color: #008080; text-decoration-color: #008080; font-weight: bold\">0.28952839970588684</span>\n",
       "</pre>\n"
      ],
      "text/plain": [
       "Epoch: \u001b[1;36m66\u001b[0m. Loss: \u001b[1;36m0.28952839970588684\u001b[0m\n"
      ]
     },
     "metadata": {},
     "output_type": "display_data"
    },
    {
     "data": {
      "text/html": [
       "<pre style=\"white-space:pre;overflow-x:auto;line-height:normal;font-family:Menlo,'DejaVu Sans Mono',consolas,'Courier New',monospace\">Epoch: <span style=\"color: #008080; text-decoration-color: #008080; font-weight: bold\">67</span>. Loss: <span style=\"color: #008080; text-decoration-color: #008080; font-weight: bold\">0.29053571820259094</span>\n",
       "</pre>\n"
      ],
      "text/plain": [
       "Epoch: \u001b[1;36m67\u001b[0m. Loss: \u001b[1;36m0.29053571820259094\u001b[0m\n"
      ]
     },
     "metadata": {},
     "output_type": "display_data"
    },
    {
     "data": {
      "text/html": [
       "<pre style=\"white-space:pre;overflow-x:auto;line-height:normal;font-family:Menlo,'DejaVu Sans Mono',consolas,'Courier New',monospace\">Epoch: <span style=\"color: #008080; text-decoration-color: #008080; font-weight: bold\">68</span>. Loss: <span style=\"color: #008080; text-decoration-color: #008080; font-weight: bold\">0.29289883375167847</span>\n",
       "</pre>\n"
      ],
      "text/plain": [
       "Epoch: \u001b[1;36m68\u001b[0m. Loss: \u001b[1;36m0.29289883375167847\u001b[0m\n"
      ]
     },
     "metadata": {},
     "output_type": "display_data"
    },
    {
     "data": {
      "text/html": [
       "<pre style=\"white-space:pre;overflow-x:auto;line-height:normal;font-family:Menlo,'DejaVu Sans Mono',consolas,'Courier New',monospace\">Epoch: <span style=\"color: #008080; text-decoration-color: #008080; font-weight: bold\">69</span>. Loss: <span style=\"color: #008080; text-decoration-color: #008080; font-weight: bold\">0.28599557280540466</span>\n",
       "</pre>\n"
      ],
      "text/plain": [
       "Epoch: \u001b[1;36m69\u001b[0m. Loss: \u001b[1;36m0.28599557280540466\u001b[0m\n"
      ]
     },
     "metadata": {},
     "output_type": "display_data"
    },
    {
     "data": {
      "text/html": [
       "<pre style=\"white-space:pre;overflow-x:auto;line-height:normal;font-family:Menlo,'DejaVu Sans Mono',consolas,'Courier New',monospace\">Epoch: <span style=\"color: #008080; text-decoration-color: #008080; font-weight: bold\">70</span>. Loss: <span style=\"color: #008080; text-decoration-color: #008080; font-weight: bold\">0.28498440980911255</span>\n",
       "</pre>\n"
      ],
      "text/plain": [
       "Epoch: \u001b[1;36m70\u001b[0m. Loss: \u001b[1;36m0.28498440980911255\u001b[0m\n"
      ]
     },
     "metadata": {},
     "output_type": "display_data"
    },
    {
     "data": {
      "text/html": [
       "<pre style=\"white-space:pre;overflow-x:auto;line-height:normal;font-family:Menlo,'DejaVu Sans Mono',consolas,'Courier New',monospace\">Epoch: <span style=\"color: #008080; text-decoration-color: #008080; font-weight: bold\">71</span>. Loss: <span style=\"color: #008080; text-decoration-color: #008080; font-weight: bold\">0.2869531810283661</span>\n",
       "</pre>\n"
      ],
      "text/plain": [
       "Epoch: \u001b[1;36m71\u001b[0m. Loss: \u001b[1;36m0.2869531810283661\u001b[0m\n"
      ]
     },
     "metadata": {},
     "output_type": "display_data"
    },
    {
     "data": {
      "text/html": [
       "<pre style=\"white-space:pre;overflow-x:auto;line-height:normal;font-family:Menlo,'DejaVu Sans Mono',consolas,'Courier New',monospace\">Epoch: <span style=\"color: #008080; text-decoration-color: #008080; font-weight: bold\">72</span>. Loss: <span style=\"color: #008080; text-decoration-color: #008080; font-weight: bold\">0.2851160168647766</span>\n",
       "</pre>\n"
      ],
      "text/plain": [
       "Epoch: \u001b[1;36m72\u001b[0m. Loss: \u001b[1;36m0.2851160168647766\u001b[0m\n"
      ]
     },
     "metadata": {},
     "output_type": "display_data"
    },
    {
     "data": {
      "text/html": [
       "<pre style=\"white-space:pre;overflow-x:auto;line-height:normal;font-family:Menlo,'DejaVu Sans Mono',consolas,'Courier New',monospace\">Epoch: <span style=\"color: #008080; text-decoration-color: #008080; font-weight: bold\">73</span>. Loss: <span style=\"color: #008080; text-decoration-color: #008080; font-weight: bold\">0.28329041600227356</span>\n",
       "</pre>\n"
      ],
      "text/plain": [
       "Epoch: \u001b[1;36m73\u001b[0m. Loss: \u001b[1;36m0.28329041600227356\u001b[0m\n"
      ]
     },
     "metadata": {},
     "output_type": "display_data"
    },
    {
     "data": {
      "text/html": [
       "<pre style=\"white-space:pre;overflow-x:auto;line-height:normal;font-family:Menlo,'DejaVu Sans Mono',consolas,'Courier New',monospace\">Epoch: <span style=\"color: #008080; text-decoration-color: #008080; font-weight: bold\">74</span>. Loss: <span style=\"color: #008080; text-decoration-color: #008080; font-weight: bold\">0.2824895679950714</span>\n",
       "</pre>\n"
      ],
      "text/plain": [
       "Epoch: \u001b[1;36m74\u001b[0m. Loss: \u001b[1;36m0.2824895679950714\u001b[0m\n"
      ]
     },
     "metadata": {},
     "output_type": "display_data"
    },
    {
     "data": {
      "text/html": [
       "<pre style=\"white-space:pre;overflow-x:auto;line-height:normal;font-family:Menlo,'DejaVu Sans Mono',consolas,'Courier New',monospace\">Epoch: <span style=\"color: #008080; text-decoration-color: #008080; font-weight: bold\">75</span>. Loss: <span style=\"color: #008080; text-decoration-color: #008080; font-weight: bold\">0.2718192934989929</span>\n",
       "</pre>\n"
      ],
      "text/plain": [
       "Epoch: \u001b[1;36m75\u001b[0m. Loss: \u001b[1;36m0.2718192934989929\u001b[0m\n"
      ]
     },
     "metadata": {},
     "output_type": "display_data"
    },
    {
     "data": {
      "text/html": [
       "<pre style=\"white-space:pre;overflow-x:auto;line-height:normal;font-family:Menlo,'DejaVu Sans Mono',consolas,'Courier New',monospace\">Epoch: <span style=\"color: #008080; text-decoration-color: #008080; font-weight: bold\">76</span>. Loss: <span style=\"color: #008080; text-decoration-color: #008080; font-weight: bold\">0.2770724594593048</span>\n",
       "</pre>\n"
      ],
      "text/plain": [
       "Epoch: \u001b[1;36m76\u001b[0m. Loss: \u001b[1;36m0.2770724594593048\u001b[0m\n"
      ]
     },
     "metadata": {},
     "output_type": "display_data"
    },
    {
     "data": {
      "text/html": [
       "<pre style=\"white-space:pre;overflow-x:auto;line-height:normal;font-family:Menlo,'DejaVu Sans Mono',consolas,'Courier New',monospace\">Epoch: <span style=\"color: #008080; text-decoration-color: #008080; font-weight: bold\">77</span>. Loss: <span style=\"color: #008080; text-decoration-color: #008080; font-weight: bold\">0.275456041097641</span>\n",
       "</pre>\n"
      ],
      "text/plain": [
       "Epoch: \u001b[1;36m77\u001b[0m. Loss: \u001b[1;36m0.275456041097641\u001b[0m\n"
      ]
     },
     "metadata": {},
     "output_type": "display_data"
    },
    {
     "data": {
      "text/html": [
       "<pre style=\"white-space:pre;overflow-x:auto;line-height:normal;font-family:Menlo,'DejaVu Sans Mono',consolas,'Courier New',monospace\">Epoch: <span style=\"color: #008080; text-decoration-color: #008080; font-weight: bold\">78</span>. Loss: <span style=\"color: #008080; text-decoration-color: #008080; font-weight: bold\">0.2703249752521515</span>\n",
       "</pre>\n"
      ],
      "text/plain": [
       "Epoch: \u001b[1;36m78\u001b[0m. Loss: \u001b[1;36m0.2703249752521515\u001b[0m\n"
      ]
     },
     "metadata": {},
     "output_type": "display_data"
    },
    {
     "data": {
      "text/html": [
       "<pre style=\"white-space:pre;overflow-x:auto;line-height:normal;font-family:Menlo,'DejaVu Sans Mono',consolas,'Courier New',monospace\">Epoch: <span style=\"color: #008080; text-decoration-color: #008080; font-weight: bold\">79</span>. Loss: <span style=\"color: #008080; text-decoration-color: #008080; font-weight: bold\">0.26021260023117065</span>\n",
       "</pre>\n"
      ],
      "text/plain": [
       "Epoch: \u001b[1;36m79\u001b[0m. Loss: \u001b[1;36m0.26021260023117065\u001b[0m\n"
      ]
     },
     "metadata": {},
     "output_type": "display_data"
    },
    {
     "data": {
      "text/html": [
       "<pre style=\"white-space:pre;overflow-x:auto;line-height:normal;font-family:Menlo,'DejaVu Sans Mono',consolas,'Courier New',monospace\">Epoch: <span style=\"color: #008080; text-decoration-color: #008080; font-weight: bold\">80</span>. Loss: <span style=\"color: #008080; text-decoration-color: #008080; font-weight: bold\">0.2743701636791229</span>\n",
       "</pre>\n"
      ],
      "text/plain": [
       "Epoch: \u001b[1;36m80\u001b[0m. Loss: \u001b[1;36m0.2743701636791229\u001b[0m\n"
      ]
     },
     "metadata": {},
     "output_type": "display_data"
    },
    {
     "data": {
      "text/html": [
       "<pre style=\"white-space:pre;overflow-x:auto;line-height:normal;font-family:Menlo,'DejaVu Sans Mono',consolas,'Courier New',monospace\">Epoch: <span style=\"color: #008080; text-decoration-color: #008080; font-weight: bold\">81</span>. Loss: <span style=\"color: #008080; text-decoration-color: #008080; font-weight: bold\">0.27968114614486694</span>\n",
       "</pre>\n"
      ],
      "text/plain": [
       "Epoch: \u001b[1;36m81\u001b[0m. Loss: \u001b[1;36m0.27968114614486694\u001b[0m\n"
      ]
     },
     "metadata": {},
     "output_type": "display_data"
    },
    {
     "data": {
      "text/html": [
       "<pre style=\"white-space:pre;overflow-x:auto;line-height:normal;font-family:Menlo,'DejaVu Sans Mono',consolas,'Courier New',monospace\">Epoch: <span style=\"color: #008080; text-decoration-color: #008080; font-weight: bold\">82</span>. Loss: <span style=\"color: #008080; text-decoration-color: #008080; font-weight: bold\">0.2788257896900177</span>\n",
       "</pre>\n"
      ],
      "text/plain": [
       "Epoch: \u001b[1;36m82\u001b[0m. Loss: \u001b[1;36m0.2788257896900177\u001b[0m\n"
      ]
     },
     "metadata": {},
     "output_type": "display_data"
    },
    {
     "data": {
      "text/html": [
       "<pre style=\"white-space:pre;overflow-x:auto;line-height:normal;font-family:Menlo,'DejaVu Sans Mono',consolas,'Courier New',monospace\">Epoch: <span style=\"color: #008080; text-decoration-color: #008080; font-weight: bold\">83</span>. Loss: <span style=\"color: #008080; text-decoration-color: #008080; font-weight: bold\">0.2689872682094574</span>\n",
       "</pre>\n"
      ],
      "text/plain": [
       "Epoch: \u001b[1;36m83\u001b[0m. Loss: \u001b[1;36m0.2689872682094574\u001b[0m\n"
      ]
     },
     "metadata": {},
     "output_type": "display_data"
    },
    {
     "data": {
      "text/html": [
       "<pre style=\"white-space:pre;overflow-x:auto;line-height:normal;font-family:Menlo,'DejaVu Sans Mono',consolas,'Courier New',monospace\">Epoch: <span style=\"color: #008080; text-decoration-color: #008080; font-weight: bold\">84</span>. Loss: <span style=\"color: #008080; text-decoration-color: #008080; font-weight: bold\">0.2606475055217743</span>\n",
       "</pre>\n"
      ],
      "text/plain": [
       "Epoch: \u001b[1;36m84\u001b[0m. Loss: \u001b[1;36m0.2606475055217743\u001b[0m\n"
      ]
     },
     "metadata": {},
     "output_type": "display_data"
    },
    {
     "data": {
      "text/html": [
       "<pre style=\"white-space:pre;overflow-x:auto;line-height:normal;font-family:Menlo,'DejaVu Sans Mono',consolas,'Courier New',monospace\">Epoch: <span style=\"color: #008080; text-decoration-color: #008080; font-weight: bold\">85</span>. Loss: <span style=\"color: #008080; text-decoration-color: #008080; font-weight: bold\">0.26293647289276123</span>\n",
       "</pre>\n"
      ],
      "text/plain": [
       "Epoch: \u001b[1;36m85\u001b[0m. Loss: \u001b[1;36m0.26293647289276123\u001b[0m\n"
      ]
     },
     "metadata": {},
     "output_type": "display_data"
    },
    {
     "data": {
      "text/html": [
       "<pre style=\"white-space:pre;overflow-x:auto;line-height:normal;font-family:Menlo,'DejaVu Sans Mono',consolas,'Courier New',monospace\">Epoch: <span style=\"color: #008080; text-decoration-color: #008080; font-weight: bold\">86</span>. Loss: <span style=\"color: #008080; text-decoration-color: #008080; font-weight: bold\">0.263599157333374</span>\n",
       "</pre>\n"
      ],
      "text/plain": [
       "Epoch: \u001b[1;36m86\u001b[0m. Loss: \u001b[1;36m0.263599157333374\u001b[0m\n"
      ]
     },
     "metadata": {},
     "output_type": "display_data"
    },
    {
     "data": {
      "text/html": [
       "<pre style=\"white-space:pre;overflow-x:auto;line-height:normal;font-family:Menlo,'DejaVu Sans Mono',consolas,'Courier New',monospace\">Epoch: <span style=\"color: #008080; text-decoration-color: #008080; font-weight: bold\">87</span>. Loss: <span style=\"color: #008080; text-decoration-color: #008080; font-weight: bold\">0.2718111276626587</span>\n",
       "</pre>\n"
      ],
      "text/plain": [
       "Epoch: \u001b[1;36m87\u001b[0m. Loss: \u001b[1;36m0.2718111276626587\u001b[0m\n"
      ]
     },
     "metadata": {},
     "output_type": "display_data"
    },
    {
     "data": {
      "text/html": [
       "<pre style=\"white-space:pre;overflow-x:auto;line-height:normal;font-family:Menlo,'DejaVu Sans Mono',consolas,'Courier New',monospace\">Epoch: <span style=\"color: #008080; text-decoration-color: #008080; font-weight: bold\">88</span>. Loss: <span style=\"color: #008080; text-decoration-color: #008080; font-weight: bold\">0.2600019574165344</span>\n",
       "</pre>\n"
      ],
      "text/plain": [
       "Epoch: \u001b[1;36m88\u001b[0m. Loss: \u001b[1;36m0.2600019574165344\u001b[0m\n"
      ]
     },
     "metadata": {},
     "output_type": "display_data"
    },
    {
     "data": {
      "text/html": [
       "<pre style=\"white-space:pre;overflow-x:auto;line-height:normal;font-family:Menlo,'DejaVu Sans Mono',consolas,'Courier New',monospace\">Epoch: <span style=\"color: #008080; text-decoration-color: #008080; font-weight: bold\">89</span>. Loss: <span style=\"color: #008080; text-decoration-color: #008080; font-weight: bold\">0.2615199089050293</span>\n",
       "</pre>\n"
      ],
      "text/plain": [
       "Epoch: \u001b[1;36m89\u001b[0m. Loss: \u001b[1;36m0.2615199089050293\u001b[0m\n"
      ]
     },
     "metadata": {},
     "output_type": "display_data"
    },
    {
     "data": {
      "text/html": [
       "<pre style=\"white-space:pre;overflow-x:auto;line-height:normal;font-family:Menlo,'DejaVu Sans Mono',consolas,'Courier New',monospace\">Epoch: <span style=\"color: #008080; text-decoration-color: #008080; font-weight: bold\">90</span>. Loss: <span style=\"color: #008080; text-decoration-color: #008080; font-weight: bold\">0.25738227367401123</span>\n",
       "</pre>\n"
      ],
      "text/plain": [
       "Epoch: \u001b[1;36m90\u001b[0m. Loss: \u001b[1;36m0.25738227367401123\u001b[0m\n"
      ]
     },
     "metadata": {},
     "output_type": "display_data"
    },
    {
     "data": {
      "text/html": [
       "<pre style=\"white-space:pre;overflow-x:auto;line-height:normal;font-family:Menlo,'DejaVu Sans Mono',consolas,'Courier New',monospace\">Epoch: <span style=\"color: #008080; text-decoration-color: #008080; font-weight: bold\">91</span>. Loss: <span style=\"color: #008080; text-decoration-color: #008080; font-weight: bold\">0.24708835780620575</span>\n",
       "</pre>\n"
      ],
      "text/plain": [
       "Epoch: \u001b[1;36m91\u001b[0m. Loss: \u001b[1;36m0.24708835780620575\u001b[0m\n"
      ]
     },
     "metadata": {},
     "output_type": "display_data"
    },
    {
     "data": {
      "text/html": [
       "<pre style=\"white-space:pre;overflow-x:auto;line-height:normal;font-family:Menlo,'DejaVu Sans Mono',consolas,'Courier New',monospace\">Epoch: <span style=\"color: #008080; text-decoration-color: #008080; font-weight: bold\">92</span>. Loss: <span style=\"color: #008080; text-decoration-color: #008080; font-weight: bold\">0.25913798809051514</span>\n",
       "</pre>\n"
      ],
      "text/plain": [
       "Epoch: \u001b[1;36m92\u001b[0m. Loss: \u001b[1;36m0.25913798809051514\u001b[0m\n"
      ]
     },
     "metadata": {},
     "output_type": "display_data"
    },
    {
     "data": {
      "text/html": [
       "<pre style=\"white-space:pre;overflow-x:auto;line-height:normal;font-family:Menlo,'DejaVu Sans Mono',consolas,'Courier New',monospace\">Epoch: <span style=\"color: #008080; text-decoration-color: #008080; font-weight: bold\">93</span>. Loss: <span style=\"color: #008080; text-decoration-color: #008080; font-weight: bold\">0.25585824251174927</span>\n",
       "</pre>\n"
      ],
      "text/plain": [
       "Epoch: \u001b[1;36m93\u001b[0m. Loss: \u001b[1;36m0.25585824251174927\u001b[0m\n"
      ]
     },
     "metadata": {},
     "output_type": "display_data"
    },
    {
     "data": {
      "text/html": [
       "<pre style=\"white-space:pre;overflow-x:auto;line-height:normal;font-family:Menlo,'DejaVu Sans Mono',consolas,'Courier New',monospace\">Epoch: <span style=\"color: #008080; text-decoration-color: #008080; font-weight: bold\">94</span>. Loss: <span style=\"color: #008080; text-decoration-color: #008080; font-weight: bold\">0.24818813800811768</span>\n",
       "</pre>\n"
      ],
      "text/plain": [
       "Epoch: \u001b[1;36m94\u001b[0m. Loss: \u001b[1;36m0.24818813800811768\u001b[0m\n"
      ]
     },
     "metadata": {},
     "output_type": "display_data"
    },
    {
     "data": {
      "text/html": [
       "<pre style=\"white-space:pre;overflow-x:auto;line-height:normal;font-family:Menlo,'DejaVu Sans Mono',consolas,'Courier New',monospace\">Epoch: <span style=\"color: #008080; text-decoration-color: #008080; font-weight: bold\">95</span>. Loss: <span style=\"color: #008080; text-decoration-color: #008080; font-weight: bold\">0.24960878491401672</span>\n",
       "</pre>\n"
      ],
      "text/plain": [
       "Epoch: \u001b[1;36m95\u001b[0m. Loss: \u001b[1;36m0.24960878491401672\u001b[0m\n"
      ]
     },
     "metadata": {},
     "output_type": "display_data"
    },
    {
     "data": {
      "text/html": [
       "<pre style=\"white-space:pre;overflow-x:auto;line-height:normal;font-family:Menlo,'DejaVu Sans Mono',consolas,'Courier New',monospace\">Epoch: <span style=\"color: #008080; text-decoration-color: #008080; font-weight: bold\">96</span>. Loss: <span style=\"color: #008080; text-decoration-color: #008080; font-weight: bold\">0.2542572021484375</span>\n",
       "</pre>\n"
      ],
      "text/plain": [
       "Epoch: \u001b[1;36m96\u001b[0m. Loss: \u001b[1;36m0.2542572021484375\u001b[0m\n"
      ]
     },
     "metadata": {},
     "output_type": "display_data"
    },
    {
     "data": {
      "text/html": [
       "<pre style=\"white-space:pre;overflow-x:auto;line-height:normal;font-family:Menlo,'DejaVu Sans Mono',consolas,'Courier New',monospace\">Epoch: <span style=\"color: #008080; text-decoration-color: #008080; font-weight: bold\">97</span>. Loss: <span style=\"color: #008080; text-decoration-color: #008080; font-weight: bold\">0.25291919708251953</span>\n",
       "</pre>\n"
      ],
      "text/plain": [
       "Epoch: \u001b[1;36m97\u001b[0m. Loss: \u001b[1;36m0.25291919708251953\u001b[0m\n"
      ]
     },
     "metadata": {},
     "output_type": "display_data"
    },
    {
     "data": {
      "text/html": [
       "<pre style=\"white-space:pre;overflow-x:auto;line-height:normal;font-family:Menlo,'DejaVu Sans Mono',consolas,'Courier New',monospace\">Epoch: <span style=\"color: #008080; text-decoration-color: #008080; font-weight: bold\">98</span>. Loss: <span style=\"color: #008080; text-decoration-color: #008080; font-weight: bold\">0.25171032547950745</span>\n",
       "</pre>\n"
      ],
      "text/plain": [
       "Epoch: \u001b[1;36m98\u001b[0m. Loss: \u001b[1;36m0.25171032547950745\u001b[0m\n"
      ]
     },
     "metadata": {},
     "output_type": "display_data"
    },
    {
     "data": {
      "text/html": [
       "<pre style=\"white-space:pre;overflow-x:auto;line-height:normal;font-family:Menlo,'DejaVu Sans Mono',consolas,'Courier New',monospace\">Epoch: <span style=\"color: #008080; text-decoration-color: #008080; font-weight: bold\">99</span>. Loss: <span style=\"color: #008080; text-decoration-color: #008080; font-weight: bold\">0.24938228726387024</span>\n",
       "</pre>\n"
      ],
      "text/plain": [
       "Epoch: \u001b[1;36m99\u001b[0m. Loss: \u001b[1;36m0.24938228726387024\u001b[0m\n"
      ]
     },
     "metadata": {},
     "output_type": "display_data"
    },
    {
     "data": {
      "text/html": [
       "<pre style=\"white-space:pre;overflow-x:auto;line-height:normal;font-family:Menlo,'DejaVu Sans Mono',consolas,'Courier New',monospace\">Epoch: <span style=\"color: #008080; text-decoration-color: #008080; font-weight: bold\">100</span>. Loss: <span style=\"color: #008080; text-decoration-color: #008080; font-weight: bold\">0.25744491815567017</span>\n",
       "</pre>\n"
      ],
      "text/plain": [
       "Epoch: \u001b[1;36m100\u001b[0m. Loss: \u001b[1;36m0.25744491815567017\u001b[0m\n"
      ]
     },
     "metadata": {},
     "output_type": "display_data"
    },
    {
     "data": {
      "text/html": [
       "<pre style=\"white-space:pre;overflow-x:auto;line-height:normal;font-family:Menlo,'DejaVu Sans Mono',consolas,'Courier New',monospace\">Epoch: <span style=\"color: #008080; text-decoration-color: #008080; font-weight: bold\">101</span>. Loss: <span style=\"color: #008080; text-decoration-color: #008080; font-weight: bold\">0.2517646849155426</span>\n",
       "</pre>\n"
      ],
      "text/plain": [
       "Epoch: \u001b[1;36m101\u001b[0m. Loss: \u001b[1;36m0.2517646849155426\u001b[0m\n"
      ]
     },
     "metadata": {},
     "output_type": "display_data"
    },
    {
     "data": {
      "text/html": [
       "<pre style=\"white-space:pre;overflow-x:auto;line-height:normal;font-family:Menlo,'DejaVu Sans Mono',consolas,'Courier New',monospace\">Epoch: <span style=\"color: #008080; text-decoration-color: #008080; font-weight: bold\">102</span>. Loss: <span style=\"color: #008080; text-decoration-color: #008080; font-weight: bold\">0.24299798905849457</span>\n",
       "</pre>\n"
      ],
      "text/plain": [
       "Epoch: \u001b[1;36m102\u001b[0m. Loss: \u001b[1;36m0.24299798905849457\u001b[0m\n"
      ]
     },
     "metadata": {},
     "output_type": "display_data"
    },
    {
     "data": {
      "text/html": [
       "<pre style=\"white-space:pre;overflow-x:auto;line-height:normal;font-family:Menlo,'DejaVu Sans Mono',consolas,'Courier New',monospace\">Epoch: <span style=\"color: #008080; text-decoration-color: #008080; font-weight: bold\">103</span>. Loss: <span style=\"color: #008080; text-decoration-color: #008080; font-weight: bold\">0.24786341190338135</span>\n",
       "</pre>\n"
      ],
      "text/plain": [
       "Epoch: \u001b[1;36m103\u001b[0m. Loss: \u001b[1;36m0.24786341190338135\u001b[0m\n"
      ]
     },
     "metadata": {},
     "output_type": "display_data"
    },
    {
     "data": {
      "text/html": [
       "<pre style=\"white-space:pre;overflow-x:auto;line-height:normal;font-family:Menlo,'DejaVu Sans Mono',consolas,'Courier New',monospace\">Epoch: <span style=\"color: #008080; text-decoration-color: #008080; font-weight: bold\">104</span>. Loss: <span style=\"color: #008080; text-decoration-color: #008080; font-weight: bold\">0.24295957386493683</span>\n",
       "</pre>\n"
      ],
      "text/plain": [
       "Epoch: \u001b[1;36m104\u001b[0m. Loss: \u001b[1;36m0.24295957386493683\u001b[0m\n"
      ]
     },
     "metadata": {},
     "output_type": "display_data"
    },
    {
     "data": {
      "text/html": [
       "<pre style=\"white-space:pre;overflow-x:auto;line-height:normal;font-family:Menlo,'DejaVu Sans Mono',consolas,'Courier New',monospace\">Epoch: <span style=\"color: #008080; text-decoration-color: #008080; font-weight: bold\">105</span>. Loss: <span style=\"color: #008080; text-decoration-color: #008080; font-weight: bold\">0.24109572172164917</span>\n",
       "</pre>\n"
      ],
      "text/plain": [
       "Epoch: \u001b[1;36m105\u001b[0m. Loss: \u001b[1;36m0.24109572172164917\u001b[0m\n"
      ]
     },
     "metadata": {},
     "output_type": "display_data"
    },
    {
     "data": {
      "text/html": [
       "<pre style=\"white-space:pre;overflow-x:auto;line-height:normal;font-family:Menlo,'DejaVu Sans Mono',consolas,'Courier New',monospace\">Epoch: <span style=\"color: #008080; text-decoration-color: #008080; font-weight: bold\">106</span>. Loss: <span style=\"color: #008080; text-decoration-color: #008080; font-weight: bold\">0.25180956721305847</span>\n",
       "</pre>\n"
      ],
      "text/plain": [
       "Epoch: \u001b[1;36m106\u001b[0m. Loss: \u001b[1;36m0.25180956721305847\u001b[0m\n"
      ]
     },
     "metadata": {},
     "output_type": "display_data"
    },
    {
     "data": {
      "text/html": [
       "<pre style=\"white-space:pre;overflow-x:auto;line-height:normal;font-family:Menlo,'DejaVu Sans Mono',consolas,'Courier New',monospace\">Epoch: <span style=\"color: #008080; text-decoration-color: #008080; font-weight: bold\">107</span>. Loss: <span style=\"color: #008080; text-decoration-color: #008080; font-weight: bold\">0.238162562251091</span>\n",
       "</pre>\n"
      ],
      "text/plain": [
       "Epoch: \u001b[1;36m107\u001b[0m. Loss: \u001b[1;36m0.238162562251091\u001b[0m\n"
      ]
     },
     "metadata": {},
     "output_type": "display_data"
    },
    {
     "data": {
      "text/html": [
       "<pre style=\"white-space:pre;overflow-x:auto;line-height:normal;font-family:Menlo,'DejaVu Sans Mono',consolas,'Courier New',monospace\">Epoch: <span style=\"color: #008080; text-decoration-color: #008080; font-weight: bold\">108</span>. Loss: <span style=\"color: #008080; text-decoration-color: #008080; font-weight: bold\">0.2359040081501007</span>\n",
       "</pre>\n"
      ],
      "text/plain": [
       "Epoch: \u001b[1;36m108\u001b[0m. Loss: \u001b[1;36m0.2359040081501007\u001b[0m\n"
      ]
     },
     "metadata": {},
     "output_type": "display_data"
    },
    {
     "data": {
      "text/html": [
       "<pre style=\"white-space:pre;overflow-x:auto;line-height:normal;font-family:Menlo,'DejaVu Sans Mono',consolas,'Courier New',monospace\">Epoch: <span style=\"color: #008080; text-decoration-color: #008080; font-weight: bold\">109</span>. Loss: <span style=\"color: #008080; text-decoration-color: #008080; font-weight: bold\">0.23351280391216278</span>\n",
       "</pre>\n"
      ],
      "text/plain": [
       "Epoch: \u001b[1;36m109\u001b[0m. Loss: \u001b[1;36m0.23351280391216278\u001b[0m\n"
      ]
     },
     "metadata": {},
     "output_type": "display_data"
    },
    {
     "data": {
      "text/html": [
       "<pre style=\"white-space:pre;overflow-x:auto;line-height:normal;font-family:Menlo,'DejaVu Sans Mono',consolas,'Courier New',monospace\">Epoch: <span style=\"color: #008080; text-decoration-color: #008080; font-weight: bold\">110</span>. Loss: <span style=\"color: #008080; text-decoration-color: #008080; font-weight: bold\">0.22605496644973755</span>\n",
       "</pre>\n"
      ],
      "text/plain": [
       "Epoch: \u001b[1;36m110\u001b[0m. Loss: \u001b[1;36m0.22605496644973755\u001b[0m\n"
      ]
     },
     "metadata": {},
     "output_type": "display_data"
    },
    {
     "data": {
      "text/html": [
       "<pre style=\"white-space:pre;overflow-x:auto;line-height:normal;font-family:Menlo,'DejaVu Sans Mono',consolas,'Courier New',monospace\">Epoch: <span style=\"color: #008080; text-decoration-color: #008080; font-weight: bold\">111</span>. Loss: <span style=\"color: #008080; text-decoration-color: #008080; font-weight: bold\">0.24597230553627014</span>\n",
       "</pre>\n"
      ],
      "text/plain": [
       "Epoch: \u001b[1;36m111\u001b[0m. Loss: \u001b[1;36m0.24597230553627014\u001b[0m\n"
      ]
     },
     "metadata": {},
     "output_type": "display_data"
    },
    {
     "data": {
      "text/html": [
       "<pre style=\"white-space:pre;overflow-x:auto;line-height:normal;font-family:Menlo,'DejaVu Sans Mono',consolas,'Courier New',monospace\">Epoch: <span style=\"color: #008080; text-decoration-color: #008080; font-weight: bold\">112</span>. Loss: <span style=\"color: #008080; text-decoration-color: #008080; font-weight: bold\">0.23613302409648895</span>\n",
       "</pre>\n"
      ],
      "text/plain": [
       "Epoch: \u001b[1;36m112\u001b[0m. Loss: \u001b[1;36m0.23613302409648895\u001b[0m\n"
      ]
     },
     "metadata": {},
     "output_type": "display_data"
    },
    {
     "data": {
      "text/html": [
       "<pre style=\"white-space:pre;overflow-x:auto;line-height:normal;font-family:Menlo,'DejaVu Sans Mono',consolas,'Courier New',monospace\">Epoch: <span style=\"color: #008080; text-decoration-color: #008080; font-weight: bold\">113</span>. Loss: <span style=\"color: #008080; text-decoration-color: #008080; font-weight: bold\">0.236684188246727</span>\n",
       "</pre>\n"
      ],
      "text/plain": [
       "Epoch: \u001b[1;36m113\u001b[0m. Loss: \u001b[1;36m0.236684188246727\u001b[0m\n"
      ]
     },
     "metadata": {},
     "output_type": "display_data"
    },
    {
     "data": {
      "text/html": [
       "<pre style=\"white-space:pre;overflow-x:auto;line-height:normal;font-family:Menlo,'DejaVu Sans Mono',consolas,'Courier New',monospace\">Epoch: <span style=\"color: #008080; text-decoration-color: #008080; font-weight: bold\">114</span>. Loss: <span style=\"color: #008080; text-decoration-color: #008080; font-weight: bold\">0.2399347424507141</span>\n",
       "</pre>\n"
      ],
      "text/plain": [
       "Epoch: \u001b[1;36m114\u001b[0m. Loss: \u001b[1;36m0.2399347424507141\u001b[0m\n"
      ]
     },
     "metadata": {},
     "output_type": "display_data"
    },
    {
     "data": {
      "text/html": [
       "<pre style=\"white-space:pre;overflow-x:auto;line-height:normal;font-family:Menlo,'DejaVu Sans Mono',consolas,'Courier New',monospace\">Epoch: <span style=\"color: #008080; text-decoration-color: #008080; font-weight: bold\">115</span>. Loss: <span style=\"color: #008080; text-decoration-color: #008080; font-weight: bold\">0.23419445753097534</span>\n",
       "</pre>\n"
      ],
      "text/plain": [
       "Epoch: \u001b[1;36m115\u001b[0m. Loss: \u001b[1;36m0.23419445753097534\u001b[0m\n"
      ]
     },
     "metadata": {},
     "output_type": "display_data"
    },
    {
     "data": {
      "text/html": [
       "<pre style=\"white-space:pre;overflow-x:auto;line-height:normal;font-family:Menlo,'DejaVu Sans Mono',consolas,'Courier New',monospace\">Epoch: <span style=\"color: #008080; text-decoration-color: #008080; font-weight: bold\">116</span>. Loss: <span style=\"color: #008080; text-decoration-color: #008080; font-weight: bold\">0.24269138276576996</span>\n",
       "</pre>\n"
      ],
      "text/plain": [
       "Epoch: \u001b[1;36m116\u001b[0m. Loss: \u001b[1;36m0.24269138276576996\u001b[0m\n"
      ]
     },
     "metadata": {},
     "output_type": "display_data"
    },
    {
     "data": {
      "text/html": [
       "<pre style=\"white-space:pre;overflow-x:auto;line-height:normal;font-family:Menlo,'DejaVu Sans Mono',consolas,'Courier New',monospace\">Epoch: <span style=\"color: #008080; text-decoration-color: #008080; font-weight: bold\">117</span>. Loss: <span style=\"color: #008080; text-decoration-color: #008080; font-weight: bold\">0.2232971042394638</span>\n",
       "</pre>\n"
      ],
      "text/plain": [
       "Epoch: \u001b[1;36m117\u001b[0m. Loss: \u001b[1;36m0.2232971042394638\u001b[0m\n"
      ]
     },
     "metadata": {},
     "output_type": "display_data"
    },
    {
     "data": {
      "text/html": [
       "<pre style=\"white-space:pre;overflow-x:auto;line-height:normal;font-family:Menlo,'DejaVu Sans Mono',consolas,'Courier New',monospace\">Epoch: <span style=\"color: #008080; text-decoration-color: #008080; font-weight: bold\">118</span>. Loss: <span style=\"color: #008080; text-decoration-color: #008080; font-weight: bold\">0.2313009649515152</span>\n",
       "</pre>\n"
      ],
      "text/plain": [
       "Epoch: \u001b[1;36m118\u001b[0m. Loss: \u001b[1;36m0.2313009649515152\u001b[0m\n"
      ]
     },
     "metadata": {},
     "output_type": "display_data"
    },
    {
     "data": {
      "text/html": [
       "<pre style=\"white-space:pre;overflow-x:auto;line-height:normal;font-family:Menlo,'DejaVu Sans Mono',consolas,'Courier New',monospace\">Epoch: <span style=\"color: #008080; text-decoration-color: #008080; font-weight: bold\">119</span>. Loss: <span style=\"color: #008080; text-decoration-color: #008080; font-weight: bold\">0.22828395664691925</span>\n",
       "</pre>\n"
      ],
      "text/plain": [
       "Epoch: \u001b[1;36m119\u001b[0m. Loss: \u001b[1;36m0.22828395664691925\u001b[0m\n"
      ]
     },
     "metadata": {},
     "output_type": "display_data"
    },
    {
     "data": {
      "text/html": [
       "<pre style=\"white-space:pre;overflow-x:auto;line-height:normal;font-family:Menlo,'DejaVu Sans Mono',consolas,'Courier New',monospace\">Epoch: <span style=\"color: #008080; text-decoration-color: #008080; font-weight: bold\">120</span>. Loss: <span style=\"color: #008080; text-decoration-color: #008080; font-weight: bold\">0.24028266966342926</span>\n",
       "</pre>\n"
      ],
      "text/plain": [
       "Epoch: \u001b[1;36m120\u001b[0m. Loss: \u001b[1;36m0.24028266966342926\u001b[0m\n"
      ]
     },
     "metadata": {},
     "output_type": "display_data"
    },
    {
     "data": {
      "text/html": [
       "<pre style=\"white-space:pre;overflow-x:auto;line-height:normal;font-family:Menlo,'DejaVu Sans Mono',consolas,'Courier New',monospace\">Epoch: <span style=\"color: #008080; text-decoration-color: #008080; font-weight: bold\">121</span>. Loss: <span style=\"color: #008080; text-decoration-color: #008080; font-weight: bold\">0.23631125688552856</span>\n",
       "</pre>\n"
      ],
      "text/plain": [
       "Epoch: \u001b[1;36m121\u001b[0m. Loss: \u001b[1;36m0.23631125688552856\u001b[0m\n"
      ]
     },
     "metadata": {},
     "output_type": "display_data"
    },
    {
     "data": {
      "text/html": [
       "<pre style=\"white-space:pre;overflow-x:auto;line-height:normal;font-family:Menlo,'DejaVu Sans Mono',consolas,'Courier New',monospace\">Epoch: <span style=\"color: #008080; text-decoration-color: #008080; font-weight: bold\">122</span>. Loss: <span style=\"color: #008080; text-decoration-color: #008080; font-weight: bold\">0.2205016016960144</span>\n",
       "</pre>\n"
      ],
      "text/plain": [
       "Epoch: \u001b[1;36m122\u001b[0m. Loss: \u001b[1;36m0.2205016016960144\u001b[0m\n"
      ]
     },
     "metadata": {},
     "output_type": "display_data"
    },
    {
     "data": {
      "text/html": [
       "<pre style=\"white-space:pre;overflow-x:auto;line-height:normal;font-family:Menlo,'DejaVu Sans Mono',consolas,'Courier New',monospace\">Epoch: <span style=\"color: #008080; text-decoration-color: #008080; font-weight: bold\">123</span>. Loss: <span style=\"color: #008080; text-decoration-color: #008080; font-weight: bold\">0.22001613676548004</span>\n",
       "</pre>\n"
      ],
      "text/plain": [
       "Epoch: \u001b[1;36m123\u001b[0m. Loss: \u001b[1;36m0.22001613676548004\u001b[0m\n"
      ]
     },
     "metadata": {},
     "output_type": "display_data"
    },
    {
     "data": {
      "text/html": [
       "<pre style=\"white-space:pre;overflow-x:auto;line-height:normal;font-family:Menlo,'DejaVu Sans Mono',consolas,'Courier New',monospace\">Epoch: <span style=\"color: #008080; text-decoration-color: #008080; font-weight: bold\">124</span>. Loss: <span style=\"color: #008080; text-decoration-color: #008080; font-weight: bold\">0.21915334463119507</span>\n",
       "</pre>\n"
      ],
      "text/plain": [
       "Epoch: \u001b[1;36m124\u001b[0m. Loss: \u001b[1;36m0.21915334463119507\u001b[0m\n"
      ]
     },
     "metadata": {},
     "output_type": "display_data"
    },
    {
     "data": {
      "text/html": [
       "<pre style=\"white-space:pre;overflow-x:auto;line-height:normal;font-family:Menlo,'DejaVu Sans Mono',consolas,'Courier New',monospace\">Epoch: <span style=\"color: #008080; text-decoration-color: #008080; font-weight: bold\">125</span>. Loss: <span style=\"color: #008080; text-decoration-color: #008080; font-weight: bold\">0.2311040759086609</span>\n",
       "</pre>\n"
      ],
      "text/plain": [
       "Epoch: \u001b[1;36m125\u001b[0m. Loss: \u001b[1;36m0.2311040759086609\u001b[0m\n"
      ]
     },
     "metadata": {},
     "output_type": "display_data"
    },
    {
     "data": {
      "text/html": [
       "<pre style=\"white-space:pre;overflow-x:auto;line-height:normal;font-family:Menlo,'DejaVu Sans Mono',consolas,'Courier New',monospace\">Epoch: <span style=\"color: #008080; text-decoration-color: #008080; font-weight: bold\">126</span>. Loss: <span style=\"color: #008080; text-decoration-color: #008080; font-weight: bold\">0.22580678761005402</span>\n",
       "</pre>\n"
      ],
      "text/plain": [
       "Epoch: \u001b[1;36m126\u001b[0m. Loss: \u001b[1;36m0.22580678761005402\u001b[0m\n"
      ]
     },
     "metadata": {},
     "output_type": "display_data"
    },
    {
     "data": {
      "text/html": [
       "<pre style=\"white-space:pre;overflow-x:auto;line-height:normal;font-family:Menlo,'DejaVu Sans Mono',consolas,'Courier New',monospace\">Epoch: <span style=\"color: #008080; text-decoration-color: #008080; font-weight: bold\">127</span>. Loss: <span style=\"color: #008080; text-decoration-color: #008080; font-weight: bold\">0.21937179565429688</span>\n",
       "</pre>\n"
      ],
      "text/plain": [
       "Epoch: \u001b[1;36m127\u001b[0m. Loss: \u001b[1;36m0.21937179565429688\u001b[0m\n"
      ]
     },
     "metadata": {},
     "output_type": "display_data"
    },
    {
     "data": {
      "text/html": [
       "<pre style=\"white-space:pre;overflow-x:auto;line-height:normal;font-family:Menlo,'DejaVu Sans Mono',consolas,'Courier New',monospace\">Epoch: <span style=\"color: #008080; text-decoration-color: #008080; font-weight: bold\">128</span>. Loss: <span style=\"color: #008080; text-decoration-color: #008080; font-weight: bold\">0.2169964760541916</span>\n",
       "</pre>\n"
      ],
      "text/plain": [
       "Epoch: \u001b[1;36m128\u001b[0m. Loss: \u001b[1;36m0.2169964760541916\u001b[0m\n"
      ]
     },
     "metadata": {},
     "output_type": "display_data"
    },
    {
     "data": {
      "text/html": [
       "<pre style=\"white-space:pre;overflow-x:auto;line-height:normal;font-family:Menlo,'DejaVu Sans Mono',consolas,'Courier New',monospace\">Epoch: <span style=\"color: #008080; text-decoration-color: #008080; font-weight: bold\">129</span>. Loss: <span style=\"color: #008080; text-decoration-color: #008080; font-weight: bold\">0.22618716955184937</span>\n",
       "</pre>\n"
      ],
      "text/plain": [
       "Epoch: \u001b[1;36m129\u001b[0m. Loss: \u001b[1;36m0.22618716955184937\u001b[0m\n"
      ]
     },
     "metadata": {},
     "output_type": "display_data"
    },
    {
     "data": {
      "text/html": [
       "<pre style=\"white-space:pre;overflow-x:auto;line-height:normal;font-family:Menlo,'DejaVu Sans Mono',consolas,'Courier New',monospace\">Epoch: <span style=\"color: #008080; text-decoration-color: #008080; font-weight: bold\">130</span>. Loss: <span style=\"color: #008080; text-decoration-color: #008080; font-weight: bold\">0.20828476548194885</span>\n",
       "</pre>\n"
      ],
      "text/plain": [
       "Epoch: \u001b[1;36m130\u001b[0m. Loss: \u001b[1;36m0.20828476548194885\u001b[0m\n"
      ]
     },
     "metadata": {},
     "output_type": "display_data"
    },
    {
     "data": {
      "text/html": [
       "<pre style=\"white-space:pre;overflow-x:auto;line-height:normal;font-family:Menlo,'DejaVu Sans Mono',consolas,'Courier New',monospace\">Epoch: <span style=\"color: #008080; text-decoration-color: #008080; font-weight: bold\">131</span>. Loss: <span style=\"color: #008080; text-decoration-color: #008080; font-weight: bold\">0.21954098343849182</span>\n",
       "</pre>\n"
      ],
      "text/plain": [
       "Epoch: \u001b[1;36m131\u001b[0m. Loss: \u001b[1;36m0.21954098343849182\u001b[0m\n"
      ]
     },
     "metadata": {},
     "output_type": "display_data"
    },
    {
     "data": {
      "text/html": [
       "<pre style=\"white-space:pre;overflow-x:auto;line-height:normal;font-family:Menlo,'DejaVu Sans Mono',consolas,'Courier New',monospace\">Epoch: <span style=\"color: #008080; text-decoration-color: #008080; font-weight: bold\">132</span>. Loss: <span style=\"color: #008080; text-decoration-color: #008080; font-weight: bold\">0.22130048274993896</span>\n",
       "</pre>\n"
      ],
      "text/plain": [
       "Epoch: \u001b[1;36m132\u001b[0m. Loss: \u001b[1;36m0.22130048274993896\u001b[0m\n"
      ]
     },
     "metadata": {},
     "output_type": "display_data"
    },
    {
     "data": {
      "text/html": [
       "<pre style=\"white-space:pre;overflow-x:auto;line-height:normal;font-family:Menlo,'DejaVu Sans Mono',consolas,'Courier New',monospace\">Epoch: <span style=\"color: #008080; text-decoration-color: #008080; font-weight: bold\">133</span>. Loss: <span style=\"color: #008080; text-decoration-color: #008080; font-weight: bold\">0.21955546736717224</span>\n",
       "</pre>\n"
      ],
      "text/plain": [
       "Epoch: \u001b[1;36m133\u001b[0m. Loss: \u001b[1;36m0.21955546736717224\u001b[0m\n"
      ]
     },
     "metadata": {},
     "output_type": "display_data"
    },
    {
     "data": {
      "text/html": [
       "<pre style=\"white-space:pre;overflow-x:auto;line-height:normal;font-family:Menlo,'DejaVu Sans Mono',consolas,'Courier New',monospace\">Epoch: <span style=\"color: #008080; text-decoration-color: #008080; font-weight: bold\">134</span>. Loss: <span style=\"color: #008080; text-decoration-color: #008080; font-weight: bold\">0.21513749659061432</span>\n",
       "</pre>\n"
      ],
      "text/plain": [
       "Epoch: \u001b[1;36m134\u001b[0m. Loss: \u001b[1;36m0.21513749659061432\u001b[0m\n"
      ]
     },
     "metadata": {},
     "output_type": "display_data"
    },
    {
     "data": {
      "text/html": [
       "<pre style=\"white-space:pre;overflow-x:auto;line-height:normal;font-family:Menlo,'DejaVu Sans Mono',consolas,'Courier New',monospace\">Epoch: <span style=\"color: #008080; text-decoration-color: #008080; font-weight: bold\">135</span>. Loss: <span style=\"color: #008080; text-decoration-color: #008080; font-weight: bold\">0.22462265193462372</span>\n",
       "</pre>\n"
      ],
      "text/plain": [
       "Epoch: \u001b[1;36m135\u001b[0m. Loss: \u001b[1;36m0.22462265193462372\u001b[0m\n"
      ]
     },
     "metadata": {},
     "output_type": "display_data"
    },
    {
     "data": {
      "text/html": [
       "<pre style=\"white-space:pre;overflow-x:auto;line-height:normal;font-family:Menlo,'DejaVu Sans Mono',consolas,'Courier New',monospace\">Epoch: <span style=\"color: #008080; text-decoration-color: #008080; font-weight: bold\">136</span>. Loss: <span style=\"color: #008080; text-decoration-color: #008080; font-weight: bold\">0.21492022275924683</span>\n",
       "</pre>\n"
      ],
      "text/plain": [
       "Epoch: \u001b[1;36m136\u001b[0m. Loss: \u001b[1;36m0.21492022275924683\u001b[0m\n"
      ]
     },
     "metadata": {},
     "output_type": "display_data"
    },
    {
     "data": {
      "text/html": [
       "<pre style=\"white-space:pre;overflow-x:auto;line-height:normal;font-family:Menlo,'DejaVu Sans Mono',consolas,'Courier New',monospace\">Epoch: <span style=\"color: #008080; text-decoration-color: #008080; font-weight: bold\">137</span>. Loss: <span style=\"color: #008080; text-decoration-color: #008080; font-weight: bold\">0.21453794836997986</span>\n",
       "</pre>\n"
      ],
      "text/plain": [
       "Epoch: \u001b[1;36m137\u001b[0m. Loss: \u001b[1;36m0.21453794836997986\u001b[0m\n"
      ]
     },
     "metadata": {},
     "output_type": "display_data"
    },
    {
     "data": {
      "text/html": [
       "<pre style=\"white-space:pre;overflow-x:auto;line-height:normal;font-family:Menlo,'DejaVu Sans Mono',consolas,'Courier New',monospace\">Epoch: <span style=\"color: #008080; text-decoration-color: #008080; font-weight: bold\">138</span>. Loss: <span style=\"color: #008080; text-decoration-color: #008080; font-weight: bold\">0.21072253584861755</span>\n",
       "</pre>\n"
      ],
      "text/plain": [
       "Epoch: \u001b[1;36m138\u001b[0m. Loss: \u001b[1;36m0.21072253584861755\u001b[0m\n"
      ]
     },
     "metadata": {},
     "output_type": "display_data"
    },
    {
     "data": {
      "text/html": [
       "<pre style=\"white-space:pre;overflow-x:auto;line-height:normal;font-family:Menlo,'DejaVu Sans Mono',consolas,'Courier New',monospace\">Epoch: <span style=\"color: #008080; text-decoration-color: #008080; font-weight: bold\">139</span>. Loss: <span style=\"color: #008080; text-decoration-color: #008080; font-weight: bold\">0.2156972885131836</span>\n",
       "</pre>\n"
      ],
      "text/plain": [
       "Epoch: \u001b[1;36m139\u001b[0m. Loss: \u001b[1;36m0.2156972885131836\u001b[0m\n"
      ]
     },
     "metadata": {},
     "output_type": "display_data"
    },
    {
     "data": {
      "text/html": [
       "<pre style=\"white-space:pre;overflow-x:auto;line-height:normal;font-family:Menlo,'DejaVu Sans Mono',consolas,'Courier New',monospace\">Epoch: <span style=\"color: #008080; text-decoration-color: #008080; font-weight: bold\">140</span>. Loss: <span style=\"color: #008080; text-decoration-color: #008080; font-weight: bold\">0.21066543459892273</span>\n",
       "</pre>\n"
      ],
      "text/plain": [
       "Epoch: \u001b[1;36m140\u001b[0m. Loss: \u001b[1;36m0.21066543459892273\u001b[0m\n"
      ]
     },
     "metadata": {},
     "output_type": "display_data"
    },
    {
     "data": {
      "text/html": [
       "<pre style=\"white-space:pre;overflow-x:auto;line-height:normal;font-family:Menlo,'DejaVu Sans Mono',consolas,'Courier New',monospace\">Epoch: <span style=\"color: #008080; text-decoration-color: #008080; font-weight: bold\">141</span>. Loss: <span style=\"color: #008080; text-decoration-color: #008080; font-weight: bold\">0.21952961385250092</span>\n",
       "</pre>\n"
      ],
      "text/plain": [
       "Epoch: \u001b[1;36m141\u001b[0m. Loss: \u001b[1;36m0.21952961385250092\u001b[0m\n"
      ]
     },
     "metadata": {},
     "output_type": "display_data"
    },
    {
     "data": {
      "text/html": [
       "<pre style=\"white-space:pre;overflow-x:auto;line-height:normal;font-family:Menlo,'DejaVu Sans Mono',consolas,'Courier New',monospace\">Epoch: <span style=\"color: #008080; text-decoration-color: #008080; font-weight: bold\">142</span>. Loss: <span style=\"color: #008080; text-decoration-color: #008080; font-weight: bold\">0.21082288026809692</span>\n",
       "</pre>\n"
      ],
      "text/plain": [
       "Epoch: \u001b[1;36m142\u001b[0m. Loss: \u001b[1;36m0.21082288026809692\u001b[0m\n"
      ]
     },
     "metadata": {},
     "output_type": "display_data"
    },
    {
     "data": {
      "text/html": [
       "<pre style=\"white-space:pre;overflow-x:auto;line-height:normal;font-family:Menlo,'DejaVu Sans Mono',consolas,'Courier New',monospace\">Epoch: <span style=\"color: #008080; text-decoration-color: #008080; font-weight: bold\">143</span>. Loss: <span style=\"color: #008080; text-decoration-color: #008080; font-weight: bold\">0.21350069344043732</span>\n",
       "</pre>\n"
      ],
      "text/plain": [
       "Epoch: \u001b[1;36m143\u001b[0m. Loss: \u001b[1;36m0.21350069344043732\u001b[0m\n"
      ]
     },
     "metadata": {},
     "output_type": "display_data"
    },
    {
     "data": {
      "text/html": [
       "<pre style=\"white-space:pre;overflow-x:auto;line-height:normal;font-family:Menlo,'DejaVu Sans Mono',consolas,'Courier New',monospace\">Epoch: <span style=\"color: #008080; text-decoration-color: #008080; font-weight: bold\">144</span>. Loss: <span style=\"color: #008080; text-decoration-color: #008080; font-weight: bold\">0.20933124423027039</span>\n",
       "</pre>\n"
      ],
      "text/plain": [
       "Epoch: \u001b[1;36m144\u001b[0m. Loss: \u001b[1;36m0.20933124423027039\u001b[0m\n"
      ]
     },
     "metadata": {},
     "output_type": "display_data"
    },
    {
     "data": {
      "text/html": [
       "<pre style=\"white-space:pre;overflow-x:auto;line-height:normal;font-family:Menlo,'DejaVu Sans Mono',consolas,'Courier New',monospace\">Epoch: <span style=\"color: #008080; text-decoration-color: #008080; font-weight: bold\">145</span>. Loss: <span style=\"color: #008080; text-decoration-color: #008080; font-weight: bold\">0.21028363704681396</span>\n",
       "</pre>\n"
      ],
      "text/plain": [
       "Epoch: \u001b[1;36m145\u001b[0m. Loss: \u001b[1;36m0.21028363704681396\u001b[0m\n"
      ]
     },
     "metadata": {},
     "output_type": "display_data"
    },
    {
     "data": {
      "text/html": [
       "<pre style=\"white-space:pre;overflow-x:auto;line-height:normal;font-family:Menlo,'DejaVu Sans Mono',consolas,'Courier New',monospace\">Epoch: <span style=\"color: #008080; text-decoration-color: #008080; font-weight: bold\">146</span>. Loss: <span style=\"color: #008080; text-decoration-color: #008080; font-weight: bold\">0.2154344916343689</span>\n",
       "</pre>\n"
      ],
      "text/plain": [
       "Epoch: \u001b[1;36m146\u001b[0m. Loss: \u001b[1;36m0.2154344916343689\u001b[0m\n"
      ]
     },
     "metadata": {},
     "output_type": "display_data"
    },
    {
     "data": {
      "text/html": [
       "<pre style=\"white-space:pre;overflow-x:auto;line-height:normal;font-family:Menlo,'DejaVu Sans Mono',consolas,'Courier New',monospace\">Epoch: <span style=\"color: #008080; text-decoration-color: #008080; font-weight: bold\">147</span>. Loss: <span style=\"color: #008080; text-decoration-color: #008080; font-weight: bold\">0.20413953065872192</span>\n",
       "</pre>\n"
      ],
      "text/plain": [
       "Epoch: \u001b[1;36m147\u001b[0m. Loss: \u001b[1;36m0.20413953065872192\u001b[0m\n"
      ]
     },
     "metadata": {},
     "output_type": "display_data"
    },
    {
     "data": {
      "text/html": [
       "<pre style=\"white-space:pre;overflow-x:auto;line-height:normal;font-family:Menlo,'DejaVu Sans Mono',consolas,'Courier New',monospace\">Epoch: <span style=\"color: #008080; text-decoration-color: #008080; font-weight: bold\">148</span>. Loss: <span style=\"color: #008080; text-decoration-color: #008080; font-weight: bold\">0.2186908721923828</span>\n",
       "</pre>\n"
      ],
      "text/plain": [
       "Epoch: \u001b[1;36m148\u001b[0m. Loss: \u001b[1;36m0.2186908721923828\u001b[0m\n"
      ]
     },
     "metadata": {},
     "output_type": "display_data"
    },
    {
     "data": {
      "text/html": [
       "<pre style=\"white-space:pre;overflow-x:auto;line-height:normal;font-family:Menlo,'DejaVu Sans Mono',consolas,'Courier New',monospace\">Epoch: <span style=\"color: #008080; text-decoration-color: #008080; font-weight: bold\">149</span>. Loss: <span style=\"color: #008080; text-decoration-color: #008080; font-weight: bold\">0.20682629942893982</span>\n",
       "</pre>\n"
      ],
      "text/plain": [
       "Epoch: \u001b[1;36m149\u001b[0m. Loss: \u001b[1;36m0.20682629942893982\u001b[0m\n"
      ]
     },
     "metadata": {},
     "output_type": "display_data"
    },
    {
     "data": {
      "text/html": [
       "<pre style=\"white-space:pre;overflow-x:auto;line-height:normal;font-family:Menlo,'DejaVu Sans Mono',consolas,'Courier New',monospace\">Epoch: <span style=\"color: #008080; text-decoration-color: #008080; font-weight: bold\">150</span>. Loss: <span style=\"color: #008080; text-decoration-color: #008080; font-weight: bold\">0.21133333444595337</span>\n",
       "</pre>\n"
      ],
      "text/plain": [
       "Epoch: \u001b[1;36m150\u001b[0m. Loss: \u001b[1;36m0.21133333444595337\u001b[0m\n"
      ]
     },
     "metadata": {},
     "output_type": "display_data"
    },
    {
     "data": {
      "text/html": [
       "<pre style=\"white-space:pre;overflow-x:auto;line-height:normal;font-family:Menlo,'DejaVu Sans Mono',consolas,'Courier New',monospace\">Epoch: <span style=\"color: #008080; text-decoration-color: #008080; font-weight: bold\">151</span>. Loss: <span style=\"color: #008080; text-decoration-color: #008080; font-weight: bold\">0.1951003223657608</span>\n",
       "</pre>\n"
      ],
      "text/plain": [
       "Epoch: \u001b[1;36m151\u001b[0m. Loss: \u001b[1;36m0.1951003223657608\u001b[0m\n"
      ]
     },
     "metadata": {},
     "output_type": "display_data"
    },
    {
     "data": {
      "text/html": [
       "<pre style=\"white-space:pre;overflow-x:auto;line-height:normal;font-family:Menlo,'DejaVu Sans Mono',consolas,'Courier New',monospace\">Epoch: <span style=\"color: #008080; text-decoration-color: #008080; font-weight: bold\">152</span>. Loss: <span style=\"color: #008080; text-decoration-color: #008080; font-weight: bold\">0.21655729413032532</span>\n",
       "</pre>\n"
      ],
      "text/plain": [
       "Epoch: \u001b[1;36m152\u001b[0m. Loss: \u001b[1;36m0.21655729413032532\u001b[0m\n"
      ]
     },
     "metadata": {},
     "output_type": "display_data"
    },
    {
     "data": {
      "text/html": [
       "<pre style=\"white-space:pre;overflow-x:auto;line-height:normal;font-family:Menlo,'DejaVu Sans Mono',consolas,'Courier New',monospace\">Epoch: <span style=\"color: #008080; text-decoration-color: #008080; font-weight: bold\">153</span>. Loss: <span style=\"color: #008080; text-decoration-color: #008080; font-weight: bold\">0.2120528370141983</span>\n",
       "</pre>\n"
      ],
      "text/plain": [
       "Epoch: \u001b[1;36m153\u001b[0m. Loss: \u001b[1;36m0.2120528370141983\u001b[0m\n"
      ]
     },
     "metadata": {},
     "output_type": "display_data"
    },
    {
     "data": {
      "text/html": [
       "<pre style=\"white-space:pre;overflow-x:auto;line-height:normal;font-family:Menlo,'DejaVu Sans Mono',consolas,'Courier New',monospace\">Epoch: <span style=\"color: #008080; text-decoration-color: #008080; font-weight: bold\">154</span>. Loss: <span style=\"color: #008080; text-decoration-color: #008080; font-weight: bold\">0.21051160991191864</span>\n",
       "</pre>\n"
      ],
      "text/plain": [
       "Epoch: \u001b[1;36m154\u001b[0m. Loss: \u001b[1;36m0.21051160991191864\u001b[0m\n"
      ]
     },
     "metadata": {},
     "output_type": "display_data"
    },
    {
     "data": {
      "text/html": [
       "<pre style=\"white-space:pre;overflow-x:auto;line-height:normal;font-family:Menlo,'DejaVu Sans Mono',consolas,'Courier New',monospace\">Epoch: <span style=\"color: #008080; text-decoration-color: #008080; font-weight: bold\">155</span>. Loss: <span style=\"color: #008080; text-decoration-color: #008080; font-weight: bold\">0.20561322569847107</span>\n",
       "</pre>\n"
      ],
      "text/plain": [
       "Epoch: \u001b[1;36m155\u001b[0m. Loss: \u001b[1;36m0.20561322569847107\u001b[0m\n"
      ]
     },
     "metadata": {},
     "output_type": "display_data"
    },
    {
     "data": {
      "text/html": [
       "<pre style=\"white-space:pre;overflow-x:auto;line-height:normal;font-family:Menlo,'DejaVu Sans Mono',consolas,'Courier New',monospace\">Epoch: <span style=\"color: #008080; text-decoration-color: #008080; font-weight: bold\">156</span>. Loss: <span style=\"color: #008080; text-decoration-color: #008080; font-weight: bold\">0.2085304707288742</span>\n",
       "</pre>\n"
      ],
      "text/plain": [
       "Epoch: \u001b[1;36m156\u001b[0m. Loss: \u001b[1;36m0.2085304707288742\u001b[0m\n"
      ]
     },
     "metadata": {},
     "output_type": "display_data"
    },
    {
     "data": {
      "text/html": [
       "<pre style=\"white-space:pre;overflow-x:auto;line-height:normal;font-family:Menlo,'DejaVu Sans Mono',consolas,'Courier New',monospace\">Epoch: <span style=\"color: #008080; text-decoration-color: #008080; font-weight: bold\">157</span>. Loss: <span style=\"color: #008080; text-decoration-color: #008080; font-weight: bold\">0.2009318470954895</span>\n",
       "</pre>\n"
      ],
      "text/plain": [
       "Epoch: \u001b[1;36m157\u001b[0m. Loss: \u001b[1;36m0.2009318470954895\u001b[0m\n"
      ]
     },
     "metadata": {},
     "output_type": "display_data"
    },
    {
     "data": {
      "text/html": [
       "<pre style=\"white-space:pre;overflow-x:auto;line-height:normal;font-family:Menlo,'DejaVu Sans Mono',consolas,'Courier New',monospace\">Epoch: <span style=\"color: #008080; text-decoration-color: #008080; font-weight: bold\">158</span>. Loss: <span style=\"color: #008080; text-decoration-color: #008080; font-weight: bold\">0.1971522867679596</span>\n",
       "</pre>\n"
      ],
      "text/plain": [
       "Epoch: \u001b[1;36m158\u001b[0m. Loss: \u001b[1;36m0.1971522867679596\u001b[0m\n"
      ]
     },
     "metadata": {},
     "output_type": "display_data"
    },
    {
     "data": {
      "text/html": [
       "<pre style=\"white-space:pre;overflow-x:auto;line-height:normal;font-family:Menlo,'DejaVu Sans Mono',consolas,'Courier New',monospace\">Epoch: <span style=\"color: #008080; text-decoration-color: #008080; font-weight: bold\">159</span>. Loss: <span style=\"color: #008080; text-decoration-color: #008080; font-weight: bold\">0.20281074941158295</span>\n",
       "</pre>\n"
      ],
      "text/plain": [
       "Epoch: \u001b[1;36m159\u001b[0m. Loss: \u001b[1;36m0.20281074941158295\u001b[0m\n"
      ]
     },
     "metadata": {},
     "output_type": "display_data"
    },
    {
     "data": {
      "text/html": [
       "<pre style=\"white-space:pre;overflow-x:auto;line-height:normal;font-family:Menlo,'DejaVu Sans Mono',consolas,'Courier New',monospace\">Epoch: <span style=\"color: #008080; text-decoration-color: #008080; font-weight: bold\">160</span>. Loss: <span style=\"color: #008080; text-decoration-color: #008080; font-weight: bold\">0.21136128902435303</span>\n",
       "</pre>\n"
      ],
      "text/plain": [
       "Epoch: \u001b[1;36m160\u001b[0m. Loss: \u001b[1;36m0.21136128902435303\u001b[0m\n"
      ]
     },
     "metadata": {},
     "output_type": "display_data"
    },
    {
     "data": {
      "text/html": [
       "<pre style=\"white-space:pre;overflow-x:auto;line-height:normal;font-family:Menlo,'DejaVu Sans Mono',consolas,'Courier New',monospace\">Epoch: <span style=\"color: #008080; text-decoration-color: #008080; font-weight: bold\">161</span>. Loss: <span style=\"color: #008080; text-decoration-color: #008080; font-weight: bold\">0.19790798425674438</span>\n",
       "</pre>\n"
      ],
      "text/plain": [
       "Epoch: \u001b[1;36m161\u001b[0m. Loss: \u001b[1;36m0.19790798425674438\u001b[0m\n"
      ]
     },
     "metadata": {},
     "output_type": "display_data"
    },
    {
     "data": {
      "text/html": [
       "<pre style=\"white-space:pre;overflow-x:auto;line-height:normal;font-family:Menlo,'DejaVu Sans Mono',consolas,'Courier New',monospace\">Epoch: <span style=\"color: #008080; text-decoration-color: #008080; font-weight: bold\">162</span>. Loss: <span style=\"color: #008080; text-decoration-color: #008080; font-weight: bold\">0.1992342323064804</span>\n",
       "</pre>\n"
      ],
      "text/plain": [
       "Epoch: \u001b[1;36m162\u001b[0m. Loss: \u001b[1;36m0.1992342323064804\u001b[0m\n"
      ]
     },
     "metadata": {},
     "output_type": "display_data"
    },
    {
     "data": {
      "text/html": [
       "<pre style=\"white-space:pre;overflow-x:auto;line-height:normal;font-family:Menlo,'DejaVu Sans Mono',consolas,'Courier New',monospace\">Epoch: <span style=\"color: #008080; text-decoration-color: #008080; font-weight: bold\">163</span>. Loss: <span style=\"color: #008080; text-decoration-color: #008080; font-weight: bold\">0.1980917900800705</span>\n",
       "</pre>\n"
      ],
      "text/plain": [
       "Epoch: \u001b[1;36m163\u001b[0m. Loss: \u001b[1;36m0.1980917900800705\u001b[0m\n"
      ]
     },
     "metadata": {},
     "output_type": "display_data"
    },
    {
     "data": {
      "text/html": [
       "<pre style=\"white-space:pre;overflow-x:auto;line-height:normal;font-family:Menlo,'DejaVu Sans Mono',consolas,'Courier New',monospace\">Epoch: <span style=\"color: #008080; text-decoration-color: #008080; font-weight: bold\">164</span>. Loss: <span style=\"color: #008080; text-decoration-color: #008080; font-weight: bold\">0.2063506692647934</span>\n",
       "</pre>\n"
      ],
      "text/plain": [
       "Epoch: \u001b[1;36m164\u001b[0m. Loss: \u001b[1;36m0.2063506692647934\u001b[0m\n"
      ]
     },
     "metadata": {},
     "output_type": "display_data"
    },
    {
     "data": {
      "text/html": [
       "<pre style=\"white-space:pre;overflow-x:auto;line-height:normal;font-family:Menlo,'DejaVu Sans Mono',consolas,'Courier New',monospace\">Epoch: <span style=\"color: #008080; text-decoration-color: #008080; font-weight: bold\">165</span>. Loss: <span style=\"color: #008080; text-decoration-color: #008080; font-weight: bold\">0.1963949203491211</span>\n",
       "</pre>\n"
      ],
      "text/plain": [
       "Epoch: \u001b[1;36m165\u001b[0m. Loss: \u001b[1;36m0.1963949203491211\u001b[0m\n"
      ]
     },
     "metadata": {},
     "output_type": "display_data"
    },
    {
     "data": {
      "text/html": [
       "<pre style=\"white-space:pre;overflow-x:auto;line-height:normal;font-family:Menlo,'DejaVu Sans Mono',consolas,'Courier New',monospace\">Epoch: <span style=\"color: #008080; text-decoration-color: #008080; font-weight: bold\">166</span>. Loss: <span style=\"color: #008080; text-decoration-color: #008080; font-weight: bold\">0.20058119297027588</span>\n",
       "</pre>\n"
      ],
      "text/plain": [
       "Epoch: \u001b[1;36m166\u001b[0m. Loss: \u001b[1;36m0.20058119297027588\u001b[0m\n"
      ]
     },
     "metadata": {},
     "output_type": "display_data"
    },
    {
     "data": {
      "text/html": [
       "<pre style=\"white-space:pre;overflow-x:auto;line-height:normal;font-family:Menlo,'DejaVu Sans Mono',consolas,'Courier New',monospace\">Epoch: <span style=\"color: #008080; text-decoration-color: #008080; font-weight: bold\">167</span>. Loss: <span style=\"color: #008080; text-decoration-color: #008080; font-weight: bold\">0.20037780702114105</span>\n",
       "</pre>\n"
      ],
      "text/plain": [
       "Epoch: \u001b[1;36m167\u001b[0m. Loss: \u001b[1;36m0.20037780702114105\u001b[0m\n"
      ]
     },
     "metadata": {},
     "output_type": "display_data"
    },
    {
     "data": {
      "text/html": [
       "<pre style=\"white-space:pre;overflow-x:auto;line-height:normal;font-family:Menlo,'DejaVu Sans Mono',consolas,'Courier New',monospace\">Epoch: <span style=\"color: #008080; text-decoration-color: #008080; font-weight: bold\">168</span>. Loss: <span style=\"color: #008080; text-decoration-color: #008080; font-weight: bold\">0.20176361501216888</span>\n",
       "</pre>\n"
      ],
      "text/plain": [
       "Epoch: \u001b[1;36m168\u001b[0m. Loss: \u001b[1;36m0.20176361501216888\u001b[0m\n"
      ]
     },
     "metadata": {},
     "output_type": "display_data"
    },
    {
     "data": {
      "text/html": [
       "<pre style=\"white-space:pre;overflow-x:auto;line-height:normal;font-family:Menlo,'DejaVu Sans Mono',consolas,'Courier New',monospace\">Epoch: <span style=\"color: #008080; text-decoration-color: #008080; font-weight: bold\">169</span>. Loss: <span style=\"color: #008080; text-decoration-color: #008080; font-weight: bold\">0.19870424270629883</span>\n",
       "</pre>\n"
      ],
      "text/plain": [
       "Epoch: \u001b[1;36m169\u001b[0m. Loss: \u001b[1;36m0.19870424270629883\u001b[0m\n"
      ]
     },
     "metadata": {},
     "output_type": "display_data"
    },
    {
     "data": {
      "text/html": [
       "<pre style=\"white-space:pre;overflow-x:auto;line-height:normal;font-family:Menlo,'DejaVu Sans Mono',consolas,'Courier New',monospace\">Epoch: <span style=\"color: #008080; text-decoration-color: #008080; font-weight: bold\">170</span>. Loss: <span style=\"color: #008080; text-decoration-color: #008080; font-weight: bold\">0.20254188776016235</span>\n",
       "</pre>\n"
      ],
      "text/plain": [
       "Epoch: \u001b[1;36m170\u001b[0m. Loss: \u001b[1;36m0.20254188776016235\u001b[0m\n"
      ]
     },
     "metadata": {},
     "output_type": "display_data"
    },
    {
     "data": {
      "text/html": [
       "<pre style=\"white-space:pre;overflow-x:auto;line-height:normal;font-family:Menlo,'DejaVu Sans Mono',consolas,'Courier New',monospace\">Epoch: <span style=\"color: #008080; text-decoration-color: #008080; font-weight: bold\">171</span>. Loss: <span style=\"color: #008080; text-decoration-color: #008080; font-weight: bold\">0.19457638263702393</span>\n",
       "</pre>\n"
      ],
      "text/plain": [
       "Epoch: \u001b[1;36m171\u001b[0m. Loss: \u001b[1;36m0.19457638263702393\u001b[0m\n"
      ]
     },
     "metadata": {},
     "output_type": "display_data"
    },
    {
     "data": {
      "text/html": [
       "<pre style=\"white-space:pre;overflow-x:auto;line-height:normal;font-family:Menlo,'DejaVu Sans Mono',consolas,'Courier New',monospace\">Epoch: <span style=\"color: #008080; text-decoration-color: #008080; font-weight: bold\">172</span>. Loss: <span style=\"color: #008080; text-decoration-color: #008080; font-weight: bold\">0.20279815793037415</span>\n",
       "</pre>\n"
      ],
      "text/plain": [
       "Epoch: \u001b[1;36m172\u001b[0m. Loss: \u001b[1;36m0.20279815793037415\u001b[0m\n"
      ]
     },
     "metadata": {},
     "output_type": "display_data"
    },
    {
     "data": {
      "text/html": [
       "<pre style=\"white-space:pre;overflow-x:auto;line-height:normal;font-family:Menlo,'DejaVu Sans Mono',consolas,'Courier New',monospace\">Epoch: <span style=\"color: #008080; text-decoration-color: #008080; font-weight: bold\">173</span>. Loss: <span style=\"color: #008080; text-decoration-color: #008080; font-weight: bold\">0.19932283461093903</span>\n",
       "</pre>\n"
      ],
      "text/plain": [
       "Epoch: \u001b[1;36m173\u001b[0m. Loss: \u001b[1;36m0.19932283461093903\u001b[0m\n"
      ]
     },
     "metadata": {},
     "output_type": "display_data"
    },
    {
     "data": {
      "text/html": [
       "<pre style=\"white-space:pre;overflow-x:auto;line-height:normal;font-family:Menlo,'DejaVu Sans Mono',consolas,'Courier New',monospace\">Epoch: <span style=\"color: #008080; text-decoration-color: #008080; font-weight: bold\">174</span>. Loss: <span style=\"color: #008080; text-decoration-color: #008080; font-weight: bold\">0.18981420993804932</span>\n",
       "</pre>\n"
      ],
      "text/plain": [
       "Epoch: \u001b[1;36m174\u001b[0m. Loss: \u001b[1;36m0.18981420993804932\u001b[0m\n"
      ]
     },
     "metadata": {},
     "output_type": "display_data"
    },
    {
     "data": {
      "text/html": [
       "<pre style=\"white-space:pre;overflow-x:auto;line-height:normal;font-family:Menlo,'DejaVu Sans Mono',consolas,'Courier New',monospace\">Epoch: <span style=\"color: #008080; text-decoration-color: #008080; font-weight: bold\">175</span>. Loss: <span style=\"color: #008080; text-decoration-color: #008080; font-weight: bold\">0.1878395676612854</span>\n",
       "</pre>\n"
      ],
      "text/plain": [
       "Epoch: \u001b[1;36m175\u001b[0m. Loss: \u001b[1;36m0.1878395676612854\u001b[0m\n"
      ]
     },
     "metadata": {},
     "output_type": "display_data"
    },
    {
     "data": {
      "text/html": [
       "<pre style=\"white-space:pre;overflow-x:auto;line-height:normal;font-family:Menlo,'DejaVu Sans Mono',consolas,'Courier New',monospace\">Epoch: <span style=\"color: #008080; text-decoration-color: #008080; font-weight: bold\">176</span>. Loss: <span style=\"color: #008080; text-decoration-color: #008080; font-weight: bold\">0.2026510238647461</span>\n",
       "</pre>\n"
      ],
      "text/plain": [
       "Epoch: \u001b[1;36m176\u001b[0m. Loss: \u001b[1;36m0.2026510238647461\u001b[0m\n"
      ]
     },
     "metadata": {},
     "output_type": "display_data"
    },
    {
     "data": {
      "text/html": [
       "<pre style=\"white-space:pre;overflow-x:auto;line-height:normal;font-family:Menlo,'DejaVu Sans Mono',consolas,'Courier New',monospace\">Epoch: <span style=\"color: #008080; text-decoration-color: #008080; font-weight: bold\">177</span>. Loss: <span style=\"color: #008080; text-decoration-color: #008080; font-weight: bold\">0.19088783860206604</span>\n",
       "</pre>\n"
      ],
      "text/plain": [
       "Epoch: \u001b[1;36m177\u001b[0m. Loss: \u001b[1;36m0.19088783860206604\u001b[0m\n"
      ]
     },
     "metadata": {},
     "output_type": "display_data"
    },
    {
     "data": {
      "text/html": [
       "<pre style=\"white-space:pre;overflow-x:auto;line-height:normal;font-family:Menlo,'DejaVu Sans Mono',consolas,'Courier New',monospace\">Epoch: <span style=\"color: #008080; text-decoration-color: #008080; font-weight: bold\">178</span>. Loss: <span style=\"color: #008080; text-decoration-color: #008080; font-weight: bold\">0.18723323941230774</span>\n",
       "</pre>\n"
      ],
      "text/plain": [
       "Epoch: \u001b[1;36m178\u001b[0m. Loss: \u001b[1;36m0.18723323941230774\u001b[0m\n"
      ]
     },
     "metadata": {},
     "output_type": "display_data"
    },
    {
     "data": {
      "text/html": [
       "<pre style=\"white-space:pre;overflow-x:auto;line-height:normal;font-family:Menlo,'DejaVu Sans Mono',consolas,'Courier New',monospace\">Epoch: <span style=\"color: #008080; text-decoration-color: #008080; font-weight: bold\">179</span>. Loss: <span style=\"color: #008080; text-decoration-color: #008080; font-weight: bold\">0.19108983874320984</span>\n",
       "</pre>\n"
      ],
      "text/plain": [
       "Epoch: \u001b[1;36m179\u001b[0m. Loss: \u001b[1;36m0.19108983874320984\u001b[0m\n"
      ]
     },
     "metadata": {},
     "output_type": "display_data"
    },
    {
     "data": {
      "text/html": [
       "<pre style=\"white-space:pre;overflow-x:auto;line-height:normal;font-family:Menlo,'DejaVu Sans Mono',consolas,'Courier New',monospace\">Epoch: <span style=\"color: #008080; text-decoration-color: #008080; font-weight: bold\">180</span>. Loss: <span style=\"color: #008080; text-decoration-color: #008080; font-weight: bold\">0.1886233389377594</span>\n",
       "</pre>\n"
      ],
      "text/plain": [
       "Epoch: \u001b[1;36m180\u001b[0m. Loss: \u001b[1;36m0.1886233389377594\u001b[0m\n"
      ]
     },
     "metadata": {},
     "output_type": "display_data"
    },
    {
     "data": {
      "text/html": [
       "<pre style=\"white-space:pre;overflow-x:auto;line-height:normal;font-family:Menlo,'DejaVu Sans Mono',consolas,'Courier New',monospace\">Epoch: <span style=\"color: #008080; text-decoration-color: #008080; font-weight: bold\">181</span>. Loss: <span style=\"color: #008080; text-decoration-color: #008080; font-weight: bold\">0.18893228471279144</span>\n",
       "</pre>\n"
      ],
      "text/plain": [
       "Epoch: \u001b[1;36m181\u001b[0m. Loss: \u001b[1;36m0.18893228471279144\u001b[0m\n"
      ]
     },
     "metadata": {},
     "output_type": "display_data"
    },
    {
     "data": {
      "text/html": [
       "<pre style=\"white-space:pre;overflow-x:auto;line-height:normal;font-family:Menlo,'DejaVu Sans Mono',consolas,'Courier New',monospace\">Epoch: <span style=\"color: #008080; text-decoration-color: #008080; font-weight: bold\">182</span>. Loss: <span style=\"color: #008080; text-decoration-color: #008080; font-weight: bold\">0.18509580194950104</span>\n",
       "</pre>\n"
      ],
      "text/plain": [
       "Epoch: \u001b[1;36m182\u001b[0m. Loss: \u001b[1;36m0.18509580194950104\u001b[0m\n"
      ]
     },
     "metadata": {},
     "output_type": "display_data"
    },
    {
     "data": {
      "text/html": [
       "<pre style=\"white-space:pre;overflow-x:auto;line-height:normal;font-family:Menlo,'DejaVu Sans Mono',consolas,'Courier New',monospace\">Epoch: <span style=\"color: #008080; text-decoration-color: #008080; font-weight: bold\">183</span>. Loss: <span style=\"color: #008080; text-decoration-color: #008080; font-weight: bold\">0.19426466524600983</span>\n",
       "</pre>\n"
      ],
      "text/plain": [
       "Epoch: \u001b[1;36m183\u001b[0m. Loss: \u001b[1;36m0.19426466524600983\u001b[0m\n"
      ]
     },
     "metadata": {},
     "output_type": "display_data"
    },
    {
     "data": {
      "text/html": [
       "<pre style=\"white-space:pre;overflow-x:auto;line-height:normal;font-family:Menlo,'DejaVu Sans Mono',consolas,'Courier New',monospace\">Epoch: <span style=\"color: #008080; text-decoration-color: #008080; font-weight: bold\">184</span>. Loss: <span style=\"color: #008080; text-decoration-color: #008080; font-weight: bold\">0.1893760859966278</span>\n",
       "</pre>\n"
      ],
      "text/plain": [
       "Epoch: \u001b[1;36m184\u001b[0m. Loss: \u001b[1;36m0.1893760859966278\u001b[0m\n"
      ]
     },
     "metadata": {},
     "output_type": "display_data"
    },
    {
     "data": {
      "text/html": [
       "<pre style=\"white-space:pre;overflow-x:auto;line-height:normal;font-family:Menlo,'DejaVu Sans Mono',consolas,'Courier New',monospace\">Epoch: <span style=\"color: #008080; text-decoration-color: #008080; font-weight: bold\">185</span>. Loss: <span style=\"color: #008080; text-decoration-color: #008080; font-weight: bold\">0.18555788695812225</span>\n",
       "</pre>\n"
      ],
      "text/plain": [
       "Epoch: \u001b[1;36m185\u001b[0m. Loss: \u001b[1;36m0.18555788695812225\u001b[0m\n"
      ]
     },
     "metadata": {},
     "output_type": "display_data"
    },
    {
     "data": {
      "text/html": [
       "<pre style=\"white-space:pre;overflow-x:auto;line-height:normal;font-family:Menlo,'DejaVu Sans Mono',consolas,'Courier New',monospace\">Epoch: <span style=\"color: #008080; text-decoration-color: #008080; font-weight: bold\">186</span>. Loss: <span style=\"color: #008080; text-decoration-color: #008080; font-weight: bold\">0.18126825988292694</span>\n",
       "</pre>\n"
      ],
      "text/plain": [
       "Epoch: \u001b[1;36m186\u001b[0m. Loss: \u001b[1;36m0.18126825988292694\u001b[0m\n"
      ]
     },
     "metadata": {},
     "output_type": "display_data"
    },
    {
     "data": {
      "text/html": [
       "<pre style=\"white-space:pre;overflow-x:auto;line-height:normal;font-family:Menlo,'DejaVu Sans Mono',consolas,'Courier New',monospace\">Epoch: <span style=\"color: #008080; text-decoration-color: #008080; font-weight: bold\">187</span>. Loss: <span style=\"color: #008080; text-decoration-color: #008080; font-weight: bold\">0.189086452126503</span>\n",
       "</pre>\n"
      ],
      "text/plain": [
       "Epoch: \u001b[1;36m187\u001b[0m. Loss: \u001b[1;36m0.189086452126503\u001b[0m\n"
      ]
     },
     "metadata": {},
     "output_type": "display_data"
    },
    {
     "data": {
      "text/html": [
       "<pre style=\"white-space:pre;overflow-x:auto;line-height:normal;font-family:Menlo,'DejaVu Sans Mono',consolas,'Courier New',monospace\">Epoch: <span style=\"color: #008080; text-decoration-color: #008080; font-weight: bold\">188</span>. Loss: <span style=\"color: #008080; text-decoration-color: #008080; font-weight: bold\">0.1843796968460083</span>\n",
       "</pre>\n"
      ],
      "text/plain": [
       "Epoch: \u001b[1;36m188\u001b[0m. Loss: \u001b[1;36m0.1843796968460083\u001b[0m\n"
      ]
     },
     "metadata": {},
     "output_type": "display_data"
    },
    {
     "data": {
      "text/html": [
       "<pre style=\"white-space:pre;overflow-x:auto;line-height:normal;font-family:Menlo,'DejaVu Sans Mono',consolas,'Courier New',monospace\">Epoch: <span style=\"color: #008080; text-decoration-color: #008080; font-weight: bold\">189</span>. Loss: <span style=\"color: #008080; text-decoration-color: #008080; font-weight: bold\">0.1925913244485855</span>\n",
       "</pre>\n"
      ],
      "text/plain": [
       "Epoch: \u001b[1;36m189\u001b[0m. Loss: \u001b[1;36m0.1925913244485855\u001b[0m\n"
      ]
     },
     "metadata": {},
     "output_type": "display_data"
    },
    {
     "data": {
      "text/html": [
       "<pre style=\"white-space:pre;overflow-x:auto;line-height:normal;font-family:Menlo,'DejaVu Sans Mono',consolas,'Courier New',monospace\">Epoch: <span style=\"color: #008080; text-decoration-color: #008080; font-weight: bold\">190</span>. Loss: <span style=\"color: #008080; text-decoration-color: #008080; font-weight: bold\">0.18796034157276154</span>\n",
       "</pre>\n"
      ],
      "text/plain": [
       "Epoch: \u001b[1;36m190\u001b[0m. Loss: \u001b[1;36m0.18796034157276154\u001b[0m\n"
      ]
     },
     "metadata": {},
     "output_type": "display_data"
    },
    {
     "data": {
      "text/html": [
       "<pre style=\"white-space:pre;overflow-x:auto;line-height:normal;font-family:Menlo,'DejaVu Sans Mono',consolas,'Courier New',monospace\">Epoch: <span style=\"color: #008080; text-decoration-color: #008080; font-weight: bold\">191</span>. Loss: <span style=\"color: #008080; text-decoration-color: #008080; font-weight: bold\">0.17780236899852753</span>\n",
       "</pre>\n"
      ],
      "text/plain": [
       "Epoch: \u001b[1;36m191\u001b[0m. Loss: \u001b[1;36m0.17780236899852753\u001b[0m\n"
      ]
     },
     "metadata": {},
     "output_type": "display_data"
    },
    {
     "data": {
      "text/html": [
       "<pre style=\"white-space:pre;overflow-x:auto;line-height:normal;font-family:Menlo,'DejaVu Sans Mono',consolas,'Courier New',monospace\">Epoch: <span style=\"color: #008080; text-decoration-color: #008080; font-weight: bold\">192</span>. Loss: <span style=\"color: #008080; text-decoration-color: #008080; font-weight: bold\">0.1960584968328476</span>\n",
       "</pre>\n"
      ],
      "text/plain": [
       "Epoch: \u001b[1;36m192\u001b[0m. Loss: \u001b[1;36m0.1960584968328476\u001b[0m\n"
      ]
     },
     "metadata": {},
     "output_type": "display_data"
    },
    {
     "data": {
      "text/html": [
       "<pre style=\"white-space:pre;overflow-x:auto;line-height:normal;font-family:Menlo,'DejaVu Sans Mono',consolas,'Courier New',monospace\">Epoch: <span style=\"color: #008080; text-decoration-color: #008080; font-weight: bold\">193</span>. Loss: <span style=\"color: #008080; text-decoration-color: #008080; font-weight: bold\">0.17992572486400604</span>\n",
       "</pre>\n"
      ],
      "text/plain": [
       "Epoch: \u001b[1;36m193\u001b[0m. Loss: \u001b[1;36m0.17992572486400604\u001b[0m\n"
      ]
     },
     "metadata": {},
     "output_type": "display_data"
    },
    {
     "data": {
      "text/html": [
       "<pre style=\"white-space:pre;overflow-x:auto;line-height:normal;font-family:Menlo,'DejaVu Sans Mono',consolas,'Courier New',monospace\">Epoch: <span style=\"color: #008080; text-decoration-color: #008080; font-weight: bold\">194</span>. Loss: <span style=\"color: #008080; text-decoration-color: #008080; font-weight: bold\">0.1847352832555771</span>\n",
       "</pre>\n"
      ],
      "text/plain": [
       "Epoch: \u001b[1;36m194\u001b[0m. Loss: \u001b[1;36m0.1847352832555771\u001b[0m\n"
      ]
     },
     "metadata": {},
     "output_type": "display_data"
    },
    {
     "data": {
      "text/html": [
       "<pre style=\"white-space:pre;overflow-x:auto;line-height:normal;font-family:Menlo,'DejaVu Sans Mono',consolas,'Courier New',monospace\">Epoch: <span style=\"color: #008080; text-decoration-color: #008080; font-weight: bold\">195</span>. Loss: <span style=\"color: #008080; text-decoration-color: #008080; font-weight: bold\">0.18517516553401947</span>\n",
       "</pre>\n"
      ],
      "text/plain": [
       "Epoch: \u001b[1;36m195\u001b[0m. Loss: \u001b[1;36m0.18517516553401947\u001b[0m\n"
      ]
     },
     "metadata": {},
     "output_type": "display_data"
    },
    {
     "data": {
      "text/html": [
       "<pre style=\"white-space:pre;overflow-x:auto;line-height:normal;font-family:Menlo,'DejaVu Sans Mono',consolas,'Courier New',monospace\">Epoch: <span style=\"color: #008080; text-decoration-color: #008080; font-weight: bold\">196</span>. Loss: <span style=\"color: #008080; text-decoration-color: #008080; font-weight: bold\">0.18548767268657684</span>\n",
       "</pre>\n"
      ],
      "text/plain": [
       "Epoch: \u001b[1;36m196\u001b[0m. Loss: \u001b[1;36m0.18548767268657684\u001b[0m\n"
      ]
     },
     "metadata": {},
     "output_type": "display_data"
    },
    {
     "data": {
      "text/html": [
       "<pre style=\"white-space:pre;overflow-x:auto;line-height:normal;font-family:Menlo,'DejaVu Sans Mono',consolas,'Courier New',monospace\">Epoch: <span style=\"color: #008080; text-decoration-color: #008080; font-weight: bold\">197</span>. Loss: <span style=\"color: #008080; text-decoration-color: #008080; font-weight: bold\">0.1842089593410492</span>\n",
       "</pre>\n"
      ],
      "text/plain": [
       "Epoch: \u001b[1;36m197\u001b[0m. Loss: \u001b[1;36m0.1842089593410492\u001b[0m\n"
      ]
     },
     "metadata": {},
     "output_type": "display_data"
    },
    {
     "data": {
      "text/html": [
       "<pre style=\"white-space:pre;overflow-x:auto;line-height:normal;font-family:Menlo,'DejaVu Sans Mono',consolas,'Courier New',monospace\">Epoch: <span style=\"color: #008080; text-decoration-color: #008080; font-weight: bold\">198</span>. Loss: <span style=\"color: #008080; text-decoration-color: #008080; font-weight: bold\">0.1855267584323883</span>\n",
       "</pre>\n"
      ],
      "text/plain": [
       "Epoch: \u001b[1;36m198\u001b[0m. Loss: \u001b[1;36m0.1855267584323883\u001b[0m\n"
      ]
     },
     "metadata": {},
     "output_type": "display_data"
    },
    {
     "data": {
      "text/html": [
       "<pre style=\"white-space:pre;overflow-x:auto;line-height:normal;font-family:Menlo,'DejaVu Sans Mono',consolas,'Courier New',monospace\">Epoch: <span style=\"color: #008080; text-decoration-color: #008080; font-weight: bold\">199</span>. Loss: <span style=\"color: #008080; text-decoration-color: #008080; font-weight: bold\">0.17947641015052795</span>\n",
       "</pre>\n"
      ],
      "text/plain": [
       "Epoch: \u001b[1;36m199\u001b[0m. Loss: \u001b[1;36m0.17947641015052795\u001b[0m\n"
      ]
     },
     "metadata": {},
     "output_type": "display_data"
    },
    {
     "data": {
      "text/html": [
       "<pre style=\"white-space:pre;overflow-x:auto;line-height:normal;font-family:Menlo,'DejaVu Sans Mono',consolas,'Courier New',monospace\">Epoch: <span style=\"color: #008080; text-decoration-color: #008080; font-weight: bold\">200</span>. Loss: <span style=\"color: #008080; text-decoration-color: #008080; font-weight: bold\">0.18941183388233185</span>\n",
       "</pre>\n"
      ],
      "text/plain": [
       "Epoch: \u001b[1;36m200\u001b[0m. Loss: \u001b[1;36m0.18941183388233185\u001b[0m\n"
      ]
     },
     "metadata": {},
     "output_type": "display_data"
    },
    {
     "data": {
      "text/html": [
       "<pre style=\"white-space:pre;overflow-x:auto;line-height:normal;font-family:Menlo,'DejaVu Sans Mono',consolas,'Courier New',monospace\">Epoch: <span style=\"color: #008080; text-decoration-color: #008080; font-weight: bold\">201</span>. Loss: <span style=\"color: #008080; text-decoration-color: #008080; font-weight: bold\">0.1843176782131195</span>\n",
       "</pre>\n"
      ],
      "text/plain": [
       "Epoch: \u001b[1;36m201\u001b[0m. Loss: \u001b[1;36m0.1843176782131195\u001b[0m\n"
      ]
     },
     "metadata": {},
     "output_type": "display_data"
    },
    {
     "data": {
      "text/html": [
       "<pre style=\"white-space:pre;overflow-x:auto;line-height:normal;font-family:Menlo,'DejaVu Sans Mono',consolas,'Courier New',monospace\">Epoch: <span style=\"color: #008080; text-decoration-color: #008080; font-weight: bold\">202</span>. Loss: <span style=\"color: #008080; text-decoration-color: #008080; font-weight: bold\">0.18708562850952148</span>\n",
       "</pre>\n"
      ],
      "text/plain": [
       "Epoch: \u001b[1;36m202\u001b[0m. Loss: \u001b[1;36m0.18708562850952148\u001b[0m\n"
      ]
     },
     "metadata": {},
     "output_type": "display_data"
    },
    {
     "data": {
      "text/html": [
       "<pre style=\"white-space:pre;overflow-x:auto;line-height:normal;font-family:Menlo,'DejaVu Sans Mono',consolas,'Courier New',monospace\">Epoch: <span style=\"color: #008080; text-decoration-color: #008080; font-weight: bold\">203</span>. Loss: <span style=\"color: #008080; text-decoration-color: #008080; font-weight: bold\">0.17849750816822052</span>\n",
       "</pre>\n"
      ],
      "text/plain": [
       "Epoch: \u001b[1;36m203\u001b[0m. Loss: \u001b[1;36m0.17849750816822052\u001b[0m\n"
      ]
     },
     "metadata": {},
     "output_type": "display_data"
    },
    {
     "data": {
      "text/html": [
       "<pre style=\"white-space:pre;overflow-x:auto;line-height:normal;font-family:Menlo,'DejaVu Sans Mono',consolas,'Courier New',monospace\">Epoch: <span style=\"color: #008080; text-decoration-color: #008080; font-weight: bold\">204</span>. Loss: <span style=\"color: #008080; text-decoration-color: #008080; font-weight: bold\">0.1930462270975113</span>\n",
       "</pre>\n"
      ],
      "text/plain": [
       "Epoch: \u001b[1;36m204\u001b[0m. Loss: \u001b[1;36m0.1930462270975113\u001b[0m\n"
      ]
     },
     "metadata": {},
     "output_type": "display_data"
    },
    {
     "data": {
      "text/html": [
       "<pre style=\"white-space:pre;overflow-x:auto;line-height:normal;font-family:Menlo,'DejaVu Sans Mono',consolas,'Courier New',monospace\">Epoch: <span style=\"color: #008080; text-decoration-color: #008080; font-weight: bold\">205</span>. Loss: <span style=\"color: #008080; text-decoration-color: #008080; font-weight: bold\">0.19008874893188477</span>\n",
       "</pre>\n"
      ],
      "text/plain": [
       "Epoch: \u001b[1;36m205\u001b[0m. Loss: \u001b[1;36m0.19008874893188477\u001b[0m\n"
      ]
     },
     "metadata": {},
     "output_type": "display_data"
    },
    {
     "data": {
      "text/html": [
       "<pre style=\"white-space:pre;overflow-x:auto;line-height:normal;font-family:Menlo,'DejaVu Sans Mono',consolas,'Courier New',monospace\">Epoch: <span style=\"color: #008080; text-decoration-color: #008080; font-weight: bold\">206</span>. Loss: <span style=\"color: #008080; text-decoration-color: #008080; font-weight: bold\">0.1761256754398346</span>\n",
       "</pre>\n"
      ],
      "text/plain": [
       "Epoch: \u001b[1;36m206\u001b[0m. Loss: \u001b[1;36m0.1761256754398346\u001b[0m\n"
      ]
     },
     "metadata": {},
     "output_type": "display_data"
    },
    {
     "data": {
      "text/html": [
       "<pre style=\"white-space:pre;overflow-x:auto;line-height:normal;font-family:Menlo,'DejaVu Sans Mono',consolas,'Courier New',monospace\">Epoch: <span style=\"color: #008080; text-decoration-color: #008080; font-weight: bold\">207</span>. Loss: <span style=\"color: #008080; text-decoration-color: #008080; font-weight: bold\">0.17358501255512238</span>\n",
       "</pre>\n"
      ],
      "text/plain": [
       "Epoch: \u001b[1;36m207\u001b[0m. Loss: \u001b[1;36m0.17358501255512238\u001b[0m\n"
      ]
     },
     "metadata": {},
     "output_type": "display_data"
    },
    {
     "data": {
      "text/html": [
       "<pre style=\"white-space:pre;overflow-x:auto;line-height:normal;font-family:Menlo,'DejaVu Sans Mono',consolas,'Courier New',monospace\">Epoch: <span style=\"color: #008080; text-decoration-color: #008080; font-weight: bold\">208</span>. Loss: <span style=\"color: #008080; text-decoration-color: #008080; font-weight: bold\">0.1866188943386078</span>\n",
       "</pre>\n"
      ],
      "text/plain": [
       "Epoch: \u001b[1;36m208\u001b[0m. Loss: \u001b[1;36m0.1866188943386078\u001b[0m\n"
      ]
     },
     "metadata": {},
     "output_type": "display_data"
    },
    {
     "data": {
      "text/html": [
       "<pre style=\"white-space:pre;overflow-x:auto;line-height:normal;font-family:Menlo,'DejaVu Sans Mono',consolas,'Courier New',monospace\">Epoch: <span style=\"color: #008080; text-decoration-color: #008080; font-weight: bold\">209</span>. Loss: <span style=\"color: #008080; text-decoration-color: #008080; font-weight: bold\">0.1854017823934555</span>\n",
       "</pre>\n"
      ],
      "text/plain": [
       "Epoch: \u001b[1;36m209\u001b[0m. Loss: \u001b[1;36m0.1854017823934555\u001b[0m\n"
      ]
     },
     "metadata": {},
     "output_type": "display_data"
    },
    {
     "data": {
      "text/html": [
       "<pre style=\"white-space:pre;overflow-x:auto;line-height:normal;font-family:Menlo,'DejaVu Sans Mono',consolas,'Courier New',monospace\">Epoch: <span style=\"color: #008080; text-decoration-color: #008080; font-weight: bold\">210</span>. Loss: <span style=\"color: #008080; text-decoration-color: #008080; font-weight: bold\">0.18106359243392944</span>\n",
       "</pre>\n"
      ],
      "text/plain": [
       "Epoch: \u001b[1;36m210\u001b[0m. Loss: \u001b[1;36m0.18106359243392944\u001b[0m\n"
      ]
     },
     "metadata": {},
     "output_type": "display_data"
    },
    {
     "data": {
      "text/html": [
       "<pre style=\"white-space:pre;overflow-x:auto;line-height:normal;font-family:Menlo,'DejaVu Sans Mono',consolas,'Courier New',monospace\">Epoch: <span style=\"color: #008080; text-decoration-color: #008080; font-weight: bold\">211</span>. Loss: <span style=\"color: #008080; text-decoration-color: #008080; font-weight: bold\">0.17746223509311676</span>\n",
       "</pre>\n"
      ],
      "text/plain": [
       "Epoch: \u001b[1;36m211\u001b[0m. Loss: \u001b[1;36m0.17746223509311676\u001b[0m\n"
      ]
     },
     "metadata": {},
     "output_type": "display_data"
    },
    {
     "data": {
      "text/html": [
       "<pre style=\"white-space:pre;overflow-x:auto;line-height:normal;font-family:Menlo,'DejaVu Sans Mono',consolas,'Courier New',monospace\">Epoch: <span style=\"color: #008080; text-decoration-color: #008080; font-weight: bold\">212</span>. Loss: <span style=\"color: #008080; text-decoration-color: #008080; font-weight: bold\">0.17510387301445007</span>\n",
       "</pre>\n"
      ],
      "text/plain": [
       "Epoch: \u001b[1;36m212\u001b[0m. Loss: \u001b[1;36m0.17510387301445007\u001b[0m\n"
      ]
     },
     "metadata": {},
     "output_type": "display_data"
    },
    {
     "data": {
      "text/html": [
       "<pre style=\"white-space:pre;overflow-x:auto;line-height:normal;font-family:Menlo,'DejaVu Sans Mono',consolas,'Courier New',monospace\">Epoch: <span style=\"color: #008080; text-decoration-color: #008080; font-weight: bold\">213</span>. Loss: <span style=\"color: #008080; text-decoration-color: #008080; font-weight: bold\">0.17757874727249146</span>\n",
       "</pre>\n"
      ],
      "text/plain": [
       "Epoch: \u001b[1;36m213\u001b[0m. Loss: \u001b[1;36m0.17757874727249146\u001b[0m\n"
      ]
     },
     "metadata": {},
     "output_type": "display_data"
    },
    {
     "data": {
      "text/html": [
       "<pre style=\"white-space:pre;overflow-x:auto;line-height:normal;font-family:Menlo,'DejaVu Sans Mono',consolas,'Courier New',monospace\">Epoch: <span style=\"color: #008080; text-decoration-color: #008080; font-weight: bold\">214</span>. Loss: <span style=\"color: #008080; text-decoration-color: #008080; font-weight: bold\">0.1842530220746994</span>\n",
       "</pre>\n"
      ],
      "text/plain": [
       "Epoch: \u001b[1;36m214\u001b[0m. Loss: \u001b[1;36m0.1842530220746994\u001b[0m\n"
      ]
     },
     "metadata": {},
     "output_type": "display_data"
    },
    {
     "data": {
      "text/html": [
       "<pre style=\"white-space:pre;overflow-x:auto;line-height:normal;font-family:Menlo,'DejaVu Sans Mono',consolas,'Courier New',monospace\">Epoch: <span style=\"color: #008080; text-decoration-color: #008080; font-weight: bold\">215</span>. Loss: <span style=\"color: #008080; text-decoration-color: #008080; font-weight: bold\">0.17862823605537415</span>\n",
       "</pre>\n"
      ],
      "text/plain": [
       "Epoch: \u001b[1;36m215\u001b[0m. Loss: \u001b[1;36m0.17862823605537415\u001b[0m\n"
      ]
     },
     "metadata": {},
     "output_type": "display_data"
    },
    {
     "data": {
      "text/html": [
       "<pre style=\"white-space:pre;overflow-x:auto;line-height:normal;font-family:Menlo,'DejaVu Sans Mono',consolas,'Courier New',monospace\">Epoch: <span style=\"color: #008080; text-decoration-color: #008080; font-weight: bold\">216</span>. Loss: <span style=\"color: #008080; text-decoration-color: #008080; font-weight: bold\">0.17757096886634827</span>\n",
       "</pre>\n"
      ],
      "text/plain": [
       "Epoch: \u001b[1;36m216\u001b[0m. Loss: \u001b[1;36m0.17757096886634827\u001b[0m\n"
      ]
     },
     "metadata": {},
     "output_type": "display_data"
    },
    {
     "data": {
      "text/html": [
       "<pre style=\"white-space:pre;overflow-x:auto;line-height:normal;font-family:Menlo,'DejaVu Sans Mono',consolas,'Courier New',monospace\">Epoch: <span style=\"color: #008080; text-decoration-color: #008080; font-weight: bold\">217</span>. Loss: <span style=\"color: #008080; text-decoration-color: #008080; font-weight: bold\">0.18016265332698822</span>\n",
       "</pre>\n"
      ],
      "text/plain": [
       "Epoch: \u001b[1;36m217\u001b[0m. Loss: \u001b[1;36m0.18016265332698822\u001b[0m\n"
      ]
     },
     "metadata": {},
     "output_type": "display_data"
    },
    {
     "data": {
      "text/html": [
       "<pre style=\"white-space:pre;overflow-x:auto;line-height:normal;font-family:Menlo,'DejaVu Sans Mono',consolas,'Courier New',monospace\">Epoch: <span style=\"color: #008080; text-decoration-color: #008080; font-weight: bold\">218</span>. Loss: <span style=\"color: #008080; text-decoration-color: #008080; font-weight: bold\">0.16549384593963623</span>\n",
       "</pre>\n"
      ],
      "text/plain": [
       "Epoch: \u001b[1;36m218\u001b[0m. Loss: \u001b[1;36m0.16549384593963623\u001b[0m\n"
      ]
     },
     "metadata": {},
     "output_type": "display_data"
    },
    {
     "data": {
      "text/html": [
       "<pre style=\"white-space:pre;overflow-x:auto;line-height:normal;font-family:Menlo,'DejaVu Sans Mono',consolas,'Courier New',monospace\">Epoch: <span style=\"color: #008080; text-decoration-color: #008080; font-weight: bold\">219</span>. Loss: <span style=\"color: #008080; text-decoration-color: #008080; font-weight: bold\">0.18594279885292053</span>\n",
       "</pre>\n"
      ],
      "text/plain": [
       "Epoch: \u001b[1;36m219\u001b[0m. Loss: \u001b[1;36m0.18594279885292053\u001b[0m\n"
      ]
     },
     "metadata": {},
     "output_type": "display_data"
    },
    {
     "data": {
      "text/html": [
       "<pre style=\"white-space:pre;overflow-x:auto;line-height:normal;font-family:Menlo,'DejaVu Sans Mono',consolas,'Courier New',monospace\">Epoch: <span style=\"color: #008080; text-decoration-color: #008080; font-weight: bold\">220</span>. Loss: <span style=\"color: #008080; text-decoration-color: #008080; font-weight: bold\">0.17851665616035461</span>\n",
       "</pre>\n"
      ],
      "text/plain": [
       "Epoch: \u001b[1;36m220\u001b[0m. Loss: \u001b[1;36m0.17851665616035461\u001b[0m\n"
      ]
     },
     "metadata": {},
     "output_type": "display_data"
    },
    {
     "data": {
      "text/html": [
       "<pre style=\"white-space:pre;overflow-x:auto;line-height:normal;font-family:Menlo,'DejaVu Sans Mono',consolas,'Courier New',monospace\">Epoch: <span style=\"color: #008080; text-decoration-color: #008080; font-weight: bold\">221</span>. Loss: <span style=\"color: #008080; text-decoration-color: #008080; font-weight: bold\">0.1843297928571701</span>\n",
       "</pre>\n"
      ],
      "text/plain": [
       "Epoch: \u001b[1;36m221\u001b[0m. Loss: \u001b[1;36m0.1843297928571701\u001b[0m\n"
      ]
     },
     "metadata": {},
     "output_type": "display_data"
    },
    {
     "data": {
      "text/html": [
       "<pre style=\"white-space:pre;overflow-x:auto;line-height:normal;font-family:Menlo,'DejaVu Sans Mono',consolas,'Courier New',monospace\">Epoch: <span style=\"color: #008080; text-decoration-color: #008080; font-weight: bold\">222</span>. Loss: <span style=\"color: #008080; text-decoration-color: #008080; font-weight: bold\">0.18077844381332397</span>\n",
       "</pre>\n"
      ],
      "text/plain": [
       "Epoch: \u001b[1;36m222\u001b[0m. Loss: \u001b[1;36m0.18077844381332397\u001b[0m\n"
      ]
     },
     "metadata": {},
     "output_type": "display_data"
    },
    {
     "data": {
      "text/html": [
       "<pre style=\"white-space:pre;overflow-x:auto;line-height:normal;font-family:Menlo,'DejaVu Sans Mono',consolas,'Courier New',monospace\">Epoch: <span style=\"color: #008080; text-decoration-color: #008080; font-weight: bold\">223</span>. Loss: <span style=\"color: #008080; text-decoration-color: #008080; font-weight: bold\">0.1777162402868271</span>\n",
       "</pre>\n"
      ],
      "text/plain": [
       "Epoch: \u001b[1;36m223\u001b[0m. Loss: \u001b[1;36m0.1777162402868271\u001b[0m\n"
      ]
     },
     "metadata": {},
     "output_type": "display_data"
    },
    {
     "data": {
      "text/html": [
       "<pre style=\"white-space:pre;overflow-x:auto;line-height:normal;font-family:Menlo,'DejaVu Sans Mono',consolas,'Courier New',monospace\">Epoch: <span style=\"color: #008080; text-decoration-color: #008080; font-weight: bold\">224</span>. Loss: <span style=\"color: #008080; text-decoration-color: #008080; font-weight: bold\">0.18114612996578217</span>\n",
       "</pre>\n"
      ],
      "text/plain": [
       "Epoch: \u001b[1;36m224\u001b[0m. Loss: \u001b[1;36m0.18114612996578217\u001b[0m\n"
      ]
     },
     "metadata": {},
     "output_type": "display_data"
    },
    {
     "data": {
      "text/html": [
       "<pre style=\"white-space:pre;overflow-x:auto;line-height:normal;font-family:Menlo,'DejaVu Sans Mono',consolas,'Courier New',monospace\">Epoch: <span style=\"color: #008080; text-decoration-color: #008080; font-weight: bold\">225</span>. Loss: <span style=\"color: #008080; text-decoration-color: #008080; font-weight: bold\">0.17986945807933807</span>\n",
       "</pre>\n"
      ],
      "text/plain": [
       "Epoch: \u001b[1;36m225\u001b[0m. Loss: \u001b[1;36m0.17986945807933807\u001b[0m\n"
      ]
     },
     "metadata": {},
     "output_type": "display_data"
    },
    {
     "data": {
      "text/html": [
       "<pre style=\"white-space:pre;overflow-x:auto;line-height:normal;font-family:Menlo,'DejaVu Sans Mono',consolas,'Courier New',monospace\">Epoch: <span style=\"color: #008080; text-decoration-color: #008080; font-weight: bold\">226</span>. Loss: <span style=\"color: #008080; text-decoration-color: #008080; font-weight: bold\">0.17489270865917206</span>\n",
       "</pre>\n"
      ],
      "text/plain": [
       "Epoch: \u001b[1;36m226\u001b[0m. Loss: \u001b[1;36m0.17489270865917206\u001b[0m\n"
      ]
     },
     "metadata": {},
     "output_type": "display_data"
    },
    {
     "data": {
      "text/html": [
       "<pre style=\"white-space:pre;overflow-x:auto;line-height:normal;font-family:Menlo,'DejaVu Sans Mono',consolas,'Courier New',monospace\">Epoch: <span style=\"color: #008080; text-decoration-color: #008080; font-weight: bold\">227</span>. Loss: <span style=\"color: #008080; text-decoration-color: #008080; font-weight: bold\">0.17495691776275635</span>\n",
       "</pre>\n"
      ],
      "text/plain": [
       "Epoch: \u001b[1;36m227\u001b[0m. Loss: \u001b[1;36m0.17495691776275635\u001b[0m\n"
      ]
     },
     "metadata": {},
     "output_type": "display_data"
    },
    {
     "data": {
      "text/html": [
       "<pre style=\"white-space:pre;overflow-x:auto;line-height:normal;font-family:Menlo,'DejaVu Sans Mono',consolas,'Courier New',monospace\">Epoch: <span style=\"color: #008080; text-decoration-color: #008080; font-weight: bold\">228</span>. Loss: <span style=\"color: #008080; text-decoration-color: #008080; font-weight: bold\">0.17335809767246246</span>\n",
       "</pre>\n"
      ],
      "text/plain": [
       "Epoch: \u001b[1;36m228\u001b[0m. Loss: \u001b[1;36m0.17335809767246246\u001b[0m\n"
      ]
     },
     "metadata": {},
     "output_type": "display_data"
    },
    {
     "data": {
      "text/html": [
       "<pre style=\"white-space:pre;overflow-x:auto;line-height:normal;font-family:Menlo,'DejaVu Sans Mono',consolas,'Courier New',monospace\">Epoch: <span style=\"color: #008080; text-decoration-color: #008080; font-weight: bold\">229</span>. Loss: <span style=\"color: #008080; text-decoration-color: #008080; font-weight: bold\">0.1699821650981903</span>\n",
       "</pre>\n"
      ],
      "text/plain": [
       "Epoch: \u001b[1;36m229\u001b[0m. Loss: \u001b[1;36m0.1699821650981903\u001b[0m\n"
      ]
     },
     "metadata": {},
     "output_type": "display_data"
    },
    {
     "data": {
      "text/html": [
       "<pre style=\"white-space:pre;overflow-x:auto;line-height:normal;font-family:Menlo,'DejaVu Sans Mono',consolas,'Courier New',monospace\">Epoch: <span style=\"color: #008080; text-decoration-color: #008080; font-weight: bold\">230</span>. Loss: <span style=\"color: #008080; text-decoration-color: #008080; font-weight: bold\">0.17569765448570251</span>\n",
       "</pre>\n"
      ],
      "text/plain": [
       "Epoch: \u001b[1;36m230\u001b[0m. Loss: \u001b[1;36m0.17569765448570251\u001b[0m\n"
      ]
     },
     "metadata": {},
     "output_type": "display_data"
    },
    {
     "data": {
      "text/html": [
       "<pre style=\"white-space:pre;overflow-x:auto;line-height:normal;font-family:Menlo,'DejaVu Sans Mono',consolas,'Courier New',monospace\">Epoch: <span style=\"color: #008080; text-decoration-color: #008080; font-weight: bold\">231</span>. Loss: <span style=\"color: #008080; text-decoration-color: #008080; font-weight: bold\">0.16356463730335236</span>\n",
       "</pre>\n"
      ],
      "text/plain": [
       "Epoch: \u001b[1;36m231\u001b[0m. Loss: \u001b[1;36m0.16356463730335236\u001b[0m\n"
      ]
     },
     "metadata": {},
     "output_type": "display_data"
    },
    {
     "data": {
      "text/html": [
       "<pre style=\"white-space:pre;overflow-x:auto;line-height:normal;font-family:Menlo,'DejaVu Sans Mono',consolas,'Courier New',monospace\">Epoch: <span style=\"color: #008080; text-decoration-color: #008080; font-weight: bold\">232</span>. Loss: <span style=\"color: #008080; text-decoration-color: #008080; font-weight: bold\">0.17296020686626434</span>\n",
       "</pre>\n"
      ],
      "text/plain": [
       "Epoch: \u001b[1;36m232\u001b[0m. Loss: \u001b[1;36m0.17296020686626434\u001b[0m\n"
      ]
     },
     "metadata": {},
     "output_type": "display_data"
    },
    {
     "data": {
      "text/html": [
       "<pre style=\"white-space:pre;overflow-x:auto;line-height:normal;font-family:Menlo,'DejaVu Sans Mono',consolas,'Courier New',monospace\">Epoch: <span style=\"color: #008080; text-decoration-color: #008080; font-weight: bold\">233</span>. Loss: <span style=\"color: #008080; text-decoration-color: #008080; font-weight: bold\">0.17581874132156372</span>\n",
       "</pre>\n"
      ],
      "text/plain": [
       "Epoch: \u001b[1;36m233\u001b[0m. Loss: \u001b[1;36m0.17581874132156372\u001b[0m\n"
      ]
     },
     "metadata": {},
     "output_type": "display_data"
    },
    {
     "data": {
      "text/html": [
       "<pre style=\"white-space:pre;overflow-x:auto;line-height:normal;font-family:Menlo,'DejaVu Sans Mono',consolas,'Courier New',monospace\">Epoch: <span style=\"color: #008080; text-decoration-color: #008080; font-weight: bold\">234</span>. Loss: <span style=\"color: #008080; text-decoration-color: #008080; font-weight: bold\">0.16762983798980713</span>\n",
       "</pre>\n"
      ],
      "text/plain": [
       "Epoch: \u001b[1;36m234\u001b[0m. Loss: \u001b[1;36m0.16762983798980713\u001b[0m\n"
      ]
     },
     "metadata": {},
     "output_type": "display_data"
    },
    {
     "data": {
      "text/html": [
       "<pre style=\"white-space:pre;overflow-x:auto;line-height:normal;font-family:Menlo,'DejaVu Sans Mono',consolas,'Courier New',monospace\">Epoch: <span style=\"color: #008080; text-decoration-color: #008080; font-weight: bold\">235</span>. Loss: <span style=\"color: #008080; text-decoration-color: #008080; font-weight: bold\">0.1708703637123108</span>\n",
       "</pre>\n"
      ],
      "text/plain": [
       "Epoch: \u001b[1;36m235\u001b[0m. Loss: \u001b[1;36m0.1708703637123108\u001b[0m\n"
      ]
     },
     "metadata": {},
     "output_type": "display_data"
    },
    {
     "data": {
      "text/html": [
       "<pre style=\"white-space:pre;overflow-x:auto;line-height:normal;font-family:Menlo,'DejaVu Sans Mono',consolas,'Courier New',monospace\">Epoch: <span style=\"color: #008080; text-decoration-color: #008080; font-weight: bold\">236</span>. Loss: <span style=\"color: #008080; text-decoration-color: #008080; font-weight: bold\">0.17728133499622345</span>\n",
       "</pre>\n"
      ],
      "text/plain": [
       "Epoch: \u001b[1;36m236\u001b[0m. Loss: \u001b[1;36m0.17728133499622345\u001b[0m\n"
      ]
     },
     "metadata": {},
     "output_type": "display_data"
    },
    {
     "data": {
      "text/html": [
       "<pre style=\"white-space:pre;overflow-x:auto;line-height:normal;font-family:Menlo,'DejaVu Sans Mono',consolas,'Courier New',monospace\">Epoch: <span style=\"color: #008080; text-decoration-color: #008080; font-weight: bold\">237</span>. Loss: <span style=\"color: #008080; text-decoration-color: #008080; font-weight: bold\">0.1781044751405716</span>\n",
       "</pre>\n"
      ],
      "text/plain": [
       "Epoch: \u001b[1;36m237\u001b[0m. Loss: \u001b[1;36m0.1781044751405716\u001b[0m\n"
      ]
     },
     "metadata": {},
     "output_type": "display_data"
    },
    {
     "data": {
      "text/html": [
       "<pre style=\"white-space:pre;overflow-x:auto;line-height:normal;font-family:Menlo,'DejaVu Sans Mono',consolas,'Courier New',monospace\">Epoch: <span style=\"color: #008080; text-decoration-color: #008080; font-weight: bold\">238</span>. Loss: <span style=\"color: #008080; text-decoration-color: #008080; font-weight: bold\">0.1682051718235016</span>\n",
       "</pre>\n"
      ],
      "text/plain": [
       "Epoch: \u001b[1;36m238\u001b[0m. Loss: \u001b[1;36m0.1682051718235016\u001b[0m\n"
      ]
     },
     "metadata": {},
     "output_type": "display_data"
    },
    {
     "data": {
      "text/html": [
       "<pre style=\"white-space:pre;overflow-x:auto;line-height:normal;font-family:Menlo,'DejaVu Sans Mono',consolas,'Courier New',monospace\">Epoch: <span style=\"color: #008080; text-decoration-color: #008080; font-weight: bold\">239</span>. Loss: <span style=\"color: #008080; text-decoration-color: #008080; font-weight: bold\">0.17299245297908783</span>\n",
       "</pre>\n"
      ],
      "text/plain": [
       "Epoch: \u001b[1;36m239\u001b[0m. Loss: \u001b[1;36m0.17299245297908783\u001b[0m\n"
      ]
     },
     "metadata": {},
     "output_type": "display_data"
    },
    {
     "data": {
      "text/html": [
       "<pre style=\"white-space:pre;overflow-x:auto;line-height:normal;font-family:Menlo,'DejaVu Sans Mono',consolas,'Courier New',monospace\">Epoch: <span style=\"color: #008080; text-decoration-color: #008080; font-weight: bold\">240</span>. Loss: <span style=\"color: #008080; text-decoration-color: #008080; font-weight: bold\">0.18308871984481812</span>\n",
       "</pre>\n"
      ],
      "text/plain": [
       "Epoch: \u001b[1;36m240\u001b[0m. Loss: \u001b[1;36m0.18308871984481812\u001b[0m\n"
      ]
     },
     "metadata": {},
     "output_type": "display_data"
    },
    {
     "data": {
      "text/html": [
       "<pre style=\"white-space:pre;overflow-x:auto;line-height:normal;font-family:Menlo,'DejaVu Sans Mono',consolas,'Courier New',monospace\">Epoch: <span style=\"color: #008080; text-decoration-color: #008080; font-weight: bold\">241</span>. Loss: <span style=\"color: #008080; text-decoration-color: #008080; font-weight: bold\">0.16540607810020447</span>\n",
       "</pre>\n"
      ],
      "text/plain": [
       "Epoch: \u001b[1;36m241\u001b[0m. Loss: \u001b[1;36m0.16540607810020447\u001b[0m\n"
      ]
     },
     "metadata": {},
     "output_type": "display_data"
    },
    {
     "data": {
      "text/html": [
       "<pre style=\"white-space:pre;overflow-x:auto;line-height:normal;font-family:Menlo,'DejaVu Sans Mono',consolas,'Courier New',monospace\">Epoch: <span style=\"color: #008080; text-decoration-color: #008080; font-weight: bold\">242</span>. Loss: <span style=\"color: #008080; text-decoration-color: #008080; font-weight: bold\">0.1630830317735672</span>\n",
       "</pre>\n"
      ],
      "text/plain": [
       "Epoch: \u001b[1;36m242\u001b[0m. Loss: \u001b[1;36m0.1630830317735672\u001b[0m\n"
      ]
     },
     "metadata": {},
     "output_type": "display_data"
    },
    {
     "data": {
      "text/html": [
       "<pre style=\"white-space:pre;overflow-x:auto;line-height:normal;font-family:Menlo,'DejaVu Sans Mono',consolas,'Courier New',monospace\">Epoch: <span style=\"color: #008080; text-decoration-color: #008080; font-weight: bold\">243</span>. Loss: <span style=\"color: #008080; text-decoration-color: #008080; font-weight: bold\">0.17260430753231049</span>\n",
       "</pre>\n"
      ],
      "text/plain": [
       "Epoch: \u001b[1;36m243\u001b[0m. Loss: \u001b[1;36m0.17260430753231049\u001b[0m\n"
      ]
     },
     "metadata": {},
     "output_type": "display_data"
    },
    {
     "data": {
      "text/html": [
       "<pre style=\"white-space:pre;overflow-x:auto;line-height:normal;font-family:Menlo,'DejaVu Sans Mono',consolas,'Courier New',monospace\">Epoch: <span style=\"color: #008080; text-decoration-color: #008080; font-weight: bold\">244</span>. Loss: <span style=\"color: #008080; text-decoration-color: #008080; font-weight: bold\">0.17271730303764343</span>\n",
       "</pre>\n"
      ],
      "text/plain": [
       "Epoch: \u001b[1;36m244\u001b[0m. Loss: \u001b[1;36m0.17271730303764343\u001b[0m\n"
      ]
     },
     "metadata": {},
     "output_type": "display_data"
    },
    {
     "data": {
      "text/html": [
       "<pre style=\"white-space:pre;overflow-x:auto;line-height:normal;font-family:Menlo,'DejaVu Sans Mono',consolas,'Courier New',monospace\">Epoch: <span style=\"color: #008080; text-decoration-color: #008080; font-weight: bold\">245</span>. Loss: <span style=\"color: #008080; text-decoration-color: #008080; font-weight: bold\">0.1770215928554535</span>\n",
       "</pre>\n"
      ],
      "text/plain": [
       "Epoch: \u001b[1;36m245\u001b[0m. Loss: \u001b[1;36m0.1770215928554535\u001b[0m\n"
      ]
     },
     "metadata": {},
     "output_type": "display_data"
    },
    {
     "data": {
      "text/html": [
       "<pre style=\"white-space:pre;overflow-x:auto;line-height:normal;font-family:Menlo,'DejaVu Sans Mono',consolas,'Courier New',monospace\">Epoch: <span style=\"color: #008080; text-decoration-color: #008080; font-weight: bold\">246</span>. Loss: <span style=\"color: #008080; text-decoration-color: #008080; font-weight: bold\">0.1714259684085846</span>\n",
       "</pre>\n"
      ],
      "text/plain": [
       "Epoch: \u001b[1;36m246\u001b[0m. Loss: \u001b[1;36m0.1714259684085846\u001b[0m\n"
      ]
     },
     "metadata": {},
     "output_type": "display_data"
    },
    {
     "data": {
      "text/html": [
       "<pre style=\"white-space:pre;overflow-x:auto;line-height:normal;font-family:Menlo,'DejaVu Sans Mono',consolas,'Courier New',monospace\">Epoch: <span style=\"color: #008080; text-decoration-color: #008080; font-weight: bold\">247</span>. Loss: <span style=\"color: #008080; text-decoration-color: #008080; font-weight: bold\">0.16474542021751404</span>\n",
       "</pre>\n"
      ],
      "text/plain": [
       "Epoch: \u001b[1;36m247\u001b[0m. Loss: \u001b[1;36m0.16474542021751404\u001b[0m\n"
      ]
     },
     "metadata": {},
     "output_type": "display_data"
    },
    {
     "data": {
      "text/html": [
       "<pre style=\"white-space:pre;overflow-x:auto;line-height:normal;font-family:Menlo,'DejaVu Sans Mono',consolas,'Courier New',monospace\">Epoch: <span style=\"color: #008080; text-decoration-color: #008080; font-weight: bold\">248</span>. Loss: <span style=\"color: #008080; text-decoration-color: #008080; font-weight: bold\">0.17040404677391052</span>\n",
       "</pre>\n"
      ],
      "text/plain": [
       "Epoch: \u001b[1;36m248\u001b[0m. Loss: \u001b[1;36m0.17040404677391052\u001b[0m\n"
      ]
     },
     "metadata": {},
     "output_type": "display_data"
    },
    {
     "data": {
      "text/html": [
       "<pre style=\"white-space:pre;overflow-x:auto;line-height:normal;font-family:Menlo,'DejaVu Sans Mono',consolas,'Courier New',monospace\">Epoch: <span style=\"color: #008080; text-decoration-color: #008080; font-weight: bold\">249</span>. Loss: <span style=\"color: #008080; text-decoration-color: #008080; font-weight: bold\">0.1641954779624939</span>\n",
       "</pre>\n"
      ],
      "text/plain": [
       "Epoch: \u001b[1;36m249\u001b[0m. Loss: \u001b[1;36m0.1641954779624939\u001b[0m\n"
      ]
     },
     "metadata": {},
     "output_type": "display_data"
    },
    {
     "data": {
      "text/html": [
       "<pre style=\"white-space:pre;overflow-x:auto;line-height:normal;font-family:Menlo,'DejaVu Sans Mono',consolas,'Courier New',monospace\">Epoch: <span style=\"color: #008080; text-decoration-color: #008080; font-weight: bold\">250</span>. Loss: <span style=\"color: #008080; text-decoration-color: #008080; font-weight: bold\">0.16862131655216217</span>\n",
       "</pre>\n"
      ],
      "text/plain": [
       "Epoch: \u001b[1;36m250\u001b[0m. Loss: \u001b[1;36m0.16862131655216217\u001b[0m\n"
      ]
     },
     "metadata": {},
     "output_type": "display_data"
    },
    {
     "data": {
      "text/html": [
       "<pre style=\"white-space:pre;overflow-x:auto;line-height:normal;font-family:Menlo,'DejaVu Sans Mono',consolas,'Courier New',monospace\">Epoch: <span style=\"color: #008080; text-decoration-color: #008080; font-weight: bold\">251</span>. Loss: <span style=\"color: #008080; text-decoration-color: #008080; font-weight: bold\">0.17836952209472656</span>\n",
       "</pre>\n"
      ],
      "text/plain": [
       "Epoch: \u001b[1;36m251\u001b[0m. Loss: \u001b[1;36m0.17836952209472656\u001b[0m\n"
      ]
     },
     "metadata": {},
     "output_type": "display_data"
    },
    {
     "data": {
      "text/html": [
       "<pre style=\"white-space:pre;overflow-x:auto;line-height:normal;font-family:Menlo,'DejaVu Sans Mono',consolas,'Courier New',monospace\">Epoch: <span style=\"color: #008080; text-decoration-color: #008080; font-weight: bold\">252</span>. Loss: <span style=\"color: #008080; text-decoration-color: #008080; font-weight: bold\">0.16412270069122314</span>\n",
       "</pre>\n"
      ],
      "text/plain": [
       "Epoch: \u001b[1;36m252\u001b[0m. Loss: \u001b[1;36m0.16412270069122314\u001b[0m\n"
      ]
     },
     "metadata": {},
     "output_type": "display_data"
    },
    {
     "data": {
      "text/html": [
       "<pre style=\"white-space:pre;overflow-x:auto;line-height:normal;font-family:Menlo,'DejaVu Sans Mono',consolas,'Courier New',monospace\">Epoch: <span style=\"color: #008080; text-decoration-color: #008080; font-weight: bold\">253</span>. Loss: <span style=\"color: #008080; text-decoration-color: #008080; font-weight: bold\">0.17828553915023804</span>\n",
       "</pre>\n"
      ],
      "text/plain": [
       "Epoch: \u001b[1;36m253\u001b[0m. Loss: \u001b[1;36m0.17828553915023804\u001b[0m\n"
      ]
     },
     "metadata": {},
     "output_type": "display_data"
    },
    {
     "data": {
      "text/html": [
       "<pre style=\"white-space:pre;overflow-x:auto;line-height:normal;font-family:Menlo,'DejaVu Sans Mono',consolas,'Courier New',monospace\">Epoch: <span style=\"color: #008080; text-decoration-color: #008080; font-weight: bold\">254</span>. Loss: <span style=\"color: #008080; text-decoration-color: #008080; font-weight: bold\">0.17947599291801453</span>\n",
       "</pre>\n"
      ],
      "text/plain": [
       "Epoch: \u001b[1;36m254\u001b[0m. Loss: \u001b[1;36m0.17947599291801453\u001b[0m\n"
      ]
     },
     "metadata": {},
     "output_type": "display_data"
    },
    {
     "data": {
      "text/html": [
       "<pre style=\"white-space:pre;overflow-x:auto;line-height:normal;font-family:Menlo,'DejaVu Sans Mono',consolas,'Courier New',monospace\">Epoch: <span style=\"color: #008080; text-decoration-color: #008080; font-weight: bold\">255</span>. Loss: <span style=\"color: #008080; text-decoration-color: #008080; font-weight: bold\">0.16150175034999847</span>\n",
       "</pre>\n"
      ],
      "text/plain": [
       "Epoch: \u001b[1;36m255\u001b[0m. Loss: \u001b[1;36m0.16150175034999847\u001b[0m\n"
      ]
     },
     "metadata": {},
     "output_type": "display_data"
    },
    {
     "data": {
      "text/html": [
       "<pre style=\"white-space:pre;overflow-x:auto;line-height:normal;font-family:Menlo,'DejaVu Sans Mono',consolas,'Courier New',monospace\">Epoch: <span style=\"color: #008080; text-decoration-color: #008080; font-weight: bold\">256</span>. Loss: <span style=\"color: #008080; text-decoration-color: #008080; font-weight: bold\">0.16426831483840942</span>\n",
       "</pre>\n"
      ],
      "text/plain": [
       "Epoch: \u001b[1;36m256\u001b[0m. Loss: \u001b[1;36m0.16426831483840942\u001b[0m\n"
      ]
     },
     "metadata": {},
     "output_type": "display_data"
    },
    {
     "data": {
      "text/html": [
       "<pre style=\"white-space:pre;overflow-x:auto;line-height:normal;font-family:Menlo,'DejaVu Sans Mono',consolas,'Courier New',monospace\">Epoch: <span style=\"color: #008080; text-decoration-color: #008080; font-weight: bold\">257</span>. Loss: <span style=\"color: #008080; text-decoration-color: #008080; font-weight: bold\">0.16898809373378754</span>\n",
       "</pre>\n"
      ],
      "text/plain": [
       "Epoch: \u001b[1;36m257\u001b[0m. Loss: \u001b[1;36m0.16898809373378754\u001b[0m\n"
      ]
     },
     "metadata": {},
     "output_type": "display_data"
    },
    {
     "data": {
      "text/html": [
       "<pre style=\"white-space:pre;overflow-x:auto;line-height:normal;font-family:Menlo,'DejaVu Sans Mono',consolas,'Courier New',monospace\">Epoch: <span style=\"color: #008080; text-decoration-color: #008080; font-weight: bold\">258</span>. Loss: <span style=\"color: #008080; text-decoration-color: #008080; font-weight: bold\">0.16209307312965393</span>\n",
       "</pre>\n"
      ],
      "text/plain": [
       "Epoch: \u001b[1;36m258\u001b[0m. Loss: \u001b[1;36m0.16209307312965393\u001b[0m\n"
      ]
     },
     "metadata": {},
     "output_type": "display_data"
    },
    {
     "data": {
      "text/html": [
       "<pre style=\"white-space:pre;overflow-x:auto;line-height:normal;font-family:Menlo,'DejaVu Sans Mono',consolas,'Courier New',monospace\">Epoch: <span style=\"color: #008080; text-decoration-color: #008080; font-weight: bold\">259</span>. Loss: <span style=\"color: #008080; text-decoration-color: #008080; font-weight: bold\">0.16871529817581177</span>\n",
       "</pre>\n"
      ],
      "text/plain": [
       "Epoch: \u001b[1;36m259\u001b[0m. Loss: \u001b[1;36m0.16871529817581177\u001b[0m\n"
      ]
     },
     "metadata": {},
     "output_type": "display_data"
    },
    {
     "data": {
      "text/html": [
       "<pre style=\"white-space:pre;overflow-x:auto;line-height:normal;font-family:Menlo,'DejaVu Sans Mono',consolas,'Courier New',monospace\">Epoch: <span style=\"color: #008080; text-decoration-color: #008080; font-weight: bold\">260</span>. Loss: <span style=\"color: #008080; text-decoration-color: #008080; font-weight: bold\">0.15732716023921967</span>\n",
       "</pre>\n"
      ],
      "text/plain": [
       "Epoch: \u001b[1;36m260\u001b[0m. Loss: \u001b[1;36m0.15732716023921967\u001b[0m\n"
      ]
     },
     "metadata": {},
     "output_type": "display_data"
    },
    {
     "data": {
      "text/html": [
       "<pre style=\"white-space:pre;overflow-x:auto;line-height:normal;font-family:Menlo,'DejaVu Sans Mono',consolas,'Courier New',monospace\">Epoch: <span style=\"color: #008080; text-decoration-color: #008080; font-weight: bold\">261</span>. Loss: <span style=\"color: #008080; text-decoration-color: #008080; font-weight: bold\">0.1594363898038864</span>\n",
       "</pre>\n"
      ],
      "text/plain": [
       "Epoch: \u001b[1;36m261\u001b[0m. Loss: \u001b[1;36m0.1594363898038864\u001b[0m\n"
      ]
     },
     "metadata": {},
     "output_type": "display_data"
    },
    {
     "data": {
      "text/html": [
       "<pre style=\"white-space:pre;overflow-x:auto;line-height:normal;font-family:Menlo,'DejaVu Sans Mono',consolas,'Courier New',monospace\">Epoch: <span style=\"color: #008080; text-decoration-color: #008080; font-weight: bold\">262</span>. Loss: <span style=\"color: #008080; text-decoration-color: #008080; font-weight: bold\">0.1665208488702774</span>\n",
       "</pre>\n"
      ],
      "text/plain": [
       "Epoch: \u001b[1;36m262\u001b[0m. Loss: \u001b[1;36m0.1665208488702774\u001b[0m\n"
      ]
     },
     "metadata": {},
     "output_type": "display_data"
    },
    {
     "data": {
      "text/html": [
       "<pre style=\"white-space:pre;overflow-x:auto;line-height:normal;font-family:Menlo,'DejaVu Sans Mono',consolas,'Courier New',monospace\">Epoch: <span style=\"color: #008080; text-decoration-color: #008080; font-weight: bold\">263</span>. Loss: <span style=\"color: #008080; text-decoration-color: #008080; font-weight: bold\">0.1719222515821457</span>\n",
       "</pre>\n"
      ],
      "text/plain": [
       "Epoch: \u001b[1;36m263\u001b[0m. Loss: \u001b[1;36m0.1719222515821457\u001b[0m\n"
      ]
     },
     "metadata": {},
     "output_type": "display_data"
    },
    {
     "data": {
      "text/html": [
       "<pre style=\"white-space:pre;overflow-x:auto;line-height:normal;font-family:Menlo,'DejaVu Sans Mono',consolas,'Courier New',monospace\">Epoch: <span style=\"color: #008080; text-decoration-color: #008080; font-weight: bold\">264</span>. Loss: <span style=\"color: #008080; text-decoration-color: #008080; font-weight: bold\">0.17246775329113007</span>\n",
       "</pre>\n"
      ],
      "text/plain": [
       "Epoch: \u001b[1;36m264\u001b[0m. Loss: \u001b[1;36m0.17246775329113007\u001b[0m\n"
      ]
     },
     "metadata": {},
     "output_type": "display_data"
    },
    {
     "data": {
      "text/html": [
       "<pre style=\"white-space:pre;overflow-x:auto;line-height:normal;font-family:Menlo,'DejaVu Sans Mono',consolas,'Courier New',monospace\">Epoch: <span style=\"color: #008080; text-decoration-color: #008080; font-weight: bold\">265</span>. Loss: <span style=\"color: #008080; text-decoration-color: #008080; font-weight: bold\">0.16812381148338318</span>\n",
       "</pre>\n"
      ],
      "text/plain": [
       "Epoch: \u001b[1;36m265\u001b[0m. Loss: \u001b[1;36m0.16812381148338318\u001b[0m\n"
      ]
     },
     "metadata": {},
     "output_type": "display_data"
    },
    {
     "data": {
      "text/html": [
       "<pre style=\"white-space:pre;overflow-x:auto;line-height:normal;font-family:Menlo,'DejaVu Sans Mono',consolas,'Courier New',monospace\">Epoch: <span style=\"color: #008080; text-decoration-color: #008080; font-weight: bold\">266</span>. Loss: <span style=\"color: #008080; text-decoration-color: #008080; font-weight: bold\">0.1597663164138794</span>\n",
       "</pre>\n"
      ],
      "text/plain": [
       "Epoch: \u001b[1;36m266\u001b[0m. Loss: \u001b[1;36m0.1597663164138794\u001b[0m\n"
      ]
     },
     "metadata": {},
     "output_type": "display_data"
    },
    {
     "data": {
      "text/html": [
       "<pre style=\"white-space:pre;overflow-x:auto;line-height:normal;font-family:Menlo,'DejaVu Sans Mono',consolas,'Courier New',monospace\">Epoch: <span style=\"color: #008080; text-decoration-color: #008080; font-weight: bold\">267</span>. Loss: <span style=\"color: #008080; text-decoration-color: #008080; font-weight: bold\">0.163302481174469</span>\n",
       "</pre>\n"
      ],
      "text/plain": [
       "Epoch: \u001b[1;36m267\u001b[0m. Loss: \u001b[1;36m0.163302481174469\u001b[0m\n"
      ]
     },
     "metadata": {},
     "output_type": "display_data"
    },
    {
     "data": {
      "text/html": [
       "<pre style=\"white-space:pre;overflow-x:auto;line-height:normal;font-family:Menlo,'DejaVu Sans Mono',consolas,'Courier New',monospace\">Epoch: <span style=\"color: #008080; text-decoration-color: #008080; font-weight: bold\">268</span>. Loss: <span style=\"color: #008080; text-decoration-color: #008080; font-weight: bold\">0.16819483041763306</span>\n",
       "</pre>\n"
      ],
      "text/plain": [
       "Epoch: \u001b[1;36m268\u001b[0m. Loss: \u001b[1;36m0.16819483041763306\u001b[0m\n"
      ]
     },
     "metadata": {},
     "output_type": "display_data"
    },
    {
     "data": {
      "text/html": [
       "<pre style=\"white-space:pre;overflow-x:auto;line-height:normal;font-family:Menlo,'DejaVu Sans Mono',consolas,'Courier New',monospace\">Epoch: <span style=\"color: #008080; text-decoration-color: #008080; font-weight: bold\">269</span>. Loss: <span style=\"color: #008080; text-decoration-color: #008080; font-weight: bold\">0.16604013741016388</span>\n",
       "</pre>\n"
      ],
      "text/plain": [
       "Epoch: \u001b[1;36m269\u001b[0m. Loss: \u001b[1;36m0.16604013741016388\u001b[0m\n"
      ]
     },
     "metadata": {},
     "output_type": "display_data"
    },
    {
     "data": {
      "text/html": [
       "<pre style=\"white-space:pre;overflow-x:auto;line-height:normal;font-family:Menlo,'DejaVu Sans Mono',consolas,'Courier New',monospace\">Epoch: <span style=\"color: #008080; text-decoration-color: #008080; font-weight: bold\">270</span>. Loss: <span style=\"color: #008080; text-decoration-color: #008080; font-weight: bold\">0.16383366286754608</span>\n",
       "</pre>\n"
      ],
      "text/plain": [
       "Epoch: \u001b[1;36m270\u001b[0m. Loss: \u001b[1;36m0.16383366286754608\u001b[0m\n"
      ]
     },
     "metadata": {},
     "output_type": "display_data"
    },
    {
     "data": {
      "text/html": [
       "<pre style=\"white-space:pre;overflow-x:auto;line-height:normal;font-family:Menlo,'DejaVu Sans Mono',consolas,'Courier New',monospace\">Epoch: <span style=\"color: #008080; text-decoration-color: #008080; font-weight: bold\">271</span>. Loss: <span style=\"color: #008080; text-decoration-color: #008080; font-weight: bold\">0.1647772341966629</span>\n",
       "</pre>\n"
      ],
      "text/plain": [
       "Epoch: \u001b[1;36m271\u001b[0m. Loss: \u001b[1;36m0.1647772341966629\u001b[0m\n"
      ]
     },
     "metadata": {},
     "output_type": "display_data"
    },
    {
     "data": {
      "text/html": [
       "<pre style=\"white-space:pre;overflow-x:auto;line-height:normal;font-family:Menlo,'DejaVu Sans Mono',consolas,'Courier New',monospace\">Epoch: <span style=\"color: #008080; text-decoration-color: #008080; font-weight: bold\">272</span>. Loss: <span style=\"color: #008080; text-decoration-color: #008080; font-weight: bold\">0.1691785603761673</span>\n",
       "</pre>\n"
      ],
      "text/plain": [
       "Epoch: \u001b[1;36m272\u001b[0m. Loss: \u001b[1;36m0.1691785603761673\u001b[0m\n"
      ]
     },
     "metadata": {},
     "output_type": "display_data"
    },
    {
     "data": {
      "text/html": [
       "<pre style=\"white-space:pre;overflow-x:auto;line-height:normal;font-family:Menlo,'DejaVu Sans Mono',consolas,'Courier New',monospace\">Epoch: <span style=\"color: #008080; text-decoration-color: #008080; font-weight: bold\">273</span>. Loss: <span style=\"color: #008080; text-decoration-color: #008080; font-weight: bold\">0.16814422607421875</span>\n",
       "</pre>\n"
      ],
      "text/plain": [
       "Epoch: \u001b[1;36m273\u001b[0m. Loss: \u001b[1;36m0.16814422607421875\u001b[0m\n"
      ]
     },
     "metadata": {},
     "output_type": "display_data"
    },
    {
     "data": {
      "text/html": [
       "<pre style=\"white-space:pre;overflow-x:auto;line-height:normal;font-family:Menlo,'DejaVu Sans Mono',consolas,'Courier New',monospace\">Epoch: <span style=\"color: #008080; text-decoration-color: #008080; font-weight: bold\">274</span>. Loss: <span style=\"color: #008080; text-decoration-color: #008080; font-weight: bold\">0.17022563517093658</span>\n",
       "</pre>\n"
      ],
      "text/plain": [
       "Epoch: \u001b[1;36m274\u001b[0m. Loss: \u001b[1;36m0.17022563517093658\u001b[0m\n"
      ]
     },
     "metadata": {},
     "output_type": "display_data"
    },
    {
     "data": {
      "text/html": [
       "<pre style=\"white-space:pre;overflow-x:auto;line-height:normal;font-family:Menlo,'DejaVu Sans Mono',consolas,'Courier New',monospace\">Epoch: <span style=\"color: #008080; text-decoration-color: #008080; font-weight: bold\">275</span>. Loss: <span style=\"color: #008080; text-decoration-color: #008080; font-weight: bold\">0.15487363934516907</span>\n",
       "</pre>\n"
      ],
      "text/plain": [
       "Epoch: \u001b[1;36m275\u001b[0m. Loss: \u001b[1;36m0.15487363934516907\u001b[0m\n"
      ]
     },
     "metadata": {},
     "output_type": "display_data"
    },
    {
     "data": {
      "text/html": [
       "<pre style=\"white-space:pre;overflow-x:auto;line-height:normal;font-family:Menlo,'DejaVu Sans Mono',consolas,'Courier New',monospace\">Epoch: <span style=\"color: #008080; text-decoration-color: #008080; font-weight: bold\">276</span>. Loss: <span style=\"color: #008080; text-decoration-color: #008080; font-weight: bold\">0.165577694773674</span>\n",
       "</pre>\n"
      ],
      "text/plain": [
       "Epoch: \u001b[1;36m276\u001b[0m. Loss: \u001b[1;36m0.165577694773674\u001b[0m\n"
      ]
     },
     "metadata": {},
     "output_type": "display_data"
    },
    {
     "data": {
      "text/html": [
       "<pre style=\"white-space:pre;overflow-x:auto;line-height:normal;font-family:Menlo,'DejaVu Sans Mono',consolas,'Courier New',monospace\">Epoch: <span style=\"color: #008080; text-decoration-color: #008080; font-weight: bold\">277</span>. Loss: <span style=\"color: #008080; text-decoration-color: #008080; font-weight: bold\">0.15755338966846466</span>\n",
       "</pre>\n"
      ],
      "text/plain": [
       "Epoch: \u001b[1;36m277\u001b[0m. Loss: \u001b[1;36m0.15755338966846466\u001b[0m\n"
      ]
     },
     "metadata": {},
     "output_type": "display_data"
    },
    {
     "data": {
      "text/html": [
       "<pre style=\"white-space:pre;overflow-x:auto;line-height:normal;font-family:Menlo,'DejaVu Sans Mono',consolas,'Courier New',monospace\">Epoch: <span style=\"color: #008080; text-decoration-color: #008080; font-weight: bold\">278</span>. Loss: <span style=\"color: #008080; text-decoration-color: #008080; font-weight: bold\">0.16302700340747833</span>\n",
       "</pre>\n"
      ],
      "text/plain": [
       "Epoch: \u001b[1;36m278\u001b[0m. Loss: \u001b[1;36m0.16302700340747833\u001b[0m\n"
      ]
     },
     "metadata": {},
     "output_type": "display_data"
    },
    {
     "data": {
      "text/html": [
       "<pre style=\"white-space:pre;overflow-x:auto;line-height:normal;font-family:Menlo,'DejaVu Sans Mono',consolas,'Courier New',monospace\">Epoch: <span style=\"color: #008080; text-decoration-color: #008080; font-weight: bold\">279</span>. Loss: <span style=\"color: #008080; text-decoration-color: #008080; font-weight: bold\">0.16648857295513153</span>\n",
       "</pre>\n"
      ],
      "text/plain": [
       "Epoch: \u001b[1;36m279\u001b[0m. Loss: \u001b[1;36m0.16648857295513153\u001b[0m\n"
      ]
     },
     "metadata": {},
     "output_type": "display_data"
    },
    {
     "data": {
      "text/html": [
       "<pre style=\"white-space:pre;overflow-x:auto;line-height:normal;font-family:Menlo,'DejaVu Sans Mono',consolas,'Courier New',monospace\">Epoch: <span style=\"color: #008080; text-decoration-color: #008080; font-weight: bold\">280</span>. Loss: <span style=\"color: #008080; text-decoration-color: #008080; font-weight: bold\">0.15163110196590424</span>\n",
       "</pre>\n"
      ],
      "text/plain": [
       "Epoch: \u001b[1;36m280\u001b[0m. Loss: \u001b[1;36m0.15163110196590424\u001b[0m\n"
      ]
     },
     "metadata": {},
     "output_type": "display_data"
    },
    {
     "data": {
      "text/html": [
       "<pre style=\"white-space:pre;overflow-x:auto;line-height:normal;font-family:Menlo,'DejaVu Sans Mono',consolas,'Courier New',monospace\">Epoch: <span style=\"color: #008080; text-decoration-color: #008080; font-weight: bold\">281</span>. Loss: <span style=\"color: #008080; text-decoration-color: #008080; font-weight: bold\">0.15977072715759277</span>\n",
       "</pre>\n"
      ],
      "text/plain": [
       "Epoch: \u001b[1;36m281\u001b[0m. Loss: \u001b[1;36m0.15977072715759277\u001b[0m\n"
      ]
     },
     "metadata": {},
     "output_type": "display_data"
    },
    {
     "data": {
      "text/html": [
       "<pre style=\"white-space:pre;overflow-x:auto;line-height:normal;font-family:Menlo,'DejaVu Sans Mono',consolas,'Courier New',monospace\">Epoch: <span style=\"color: #008080; text-decoration-color: #008080; font-weight: bold\">282</span>. Loss: <span style=\"color: #008080; text-decoration-color: #008080; font-weight: bold\">0.1611822247505188</span>\n",
       "</pre>\n"
      ],
      "text/plain": [
       "Epoch: \u001b[1;36m282\u001b[0m. Loss: \u001b[1;36m0.1611822247505188\u001b[0m\n"
      ]
     },
     "metadata": {},
     "output_type": "display_data"
    },
    {
     "data": {
      "text/html": [
       "<pre style=\"white-space:pre;overflow-x:auto;line-height:normal;font-family:Menlo,'DejaVu Sans Mono',consolas,'Courier New',monospace\">Epoch: <span style=\"color: #008080; text-decoration-color: #008080; font-weight: bold\">283</span>. Loss: <span style=\"color: #008080; text-decoration-color: #008080; font-weight: bold\">0.16258129477500916</span>\n",
       "</pre>\n"
      ],
      "text/plain": [
       "Epoch: \u001b[1;36m283\u001b[0m. Loss: \u001b[1;36m0.16258129477500916\u001b[0m\n"
      ]
     },
     "metadata": {},
     "output_type": "display_data"
    },
    {
     "data": {
      "text/html": [
       "<pre style=\"white-space:pre;overflow-x:auto;line-height:normal;font-family:Menlo,'DejaVu Sans Mono',consolas,'Courier New',monospace\">Epoch: <span style=\"color: #008080; text-decoration-color: #008080; font-weight: bold\">284</span>. Loss: <span style=\"color: #008080; text-decoration-color: #008080; font-weight: bold\">0.16193737089633942</span>\n",
       "</pre>\n"
      ],
      "text/plain": [
       "Epoch: \u001b[1;36m284\u001b[0m. Loss: \u001b[1;36m0.16193737089633942\u001b[0m\n"
      ]
     },
     "metadata": {},
     "output_type": "display_data"
    },
    {
     "data": {
      "text/html": [
       "<pre style=\"white-space:pre;overflow-x:auto;line-height:normal;font-family:Menlo,'DejaVu Sans Mono',consolas,'Courier New',monospace\">Epoch: <span style=\"color: #008080; text-decoration-color: #008080; font-weight: bold\">285</span>. Loss: <span style=\"color: #008080; text-decoration-color: #008080; font-weight: bold\">0.16291673481464386</span>\n",
       "</pre>\n"
      ],
      "text/plain": [
       "Epoch: \u001b[1;36m285\u001b[0m. Loss: \u001b[1;36m0.16291673481464386\u001b[0m\n"
      ]
     },
     "metadata": {},
     "output_type": "display_data"
    },
    {
     "data": {
      "text/html": [
       "<pre style=\"white-space:pre;overflow-x:auto;line-height:normal;font-family:Menlo,'DejaVu Sans Mono',consolas,'Courier New',monospace\">Epoch: <span style=\"color: #008080; text-decoration-color: #008080; font-weight: bold\">286</span>. Loss: <span style=\"color: #008080; text-decoration-color: #008080; font-weight: bold\">0.16188833117485046</span>\n",
       "</pre>\n"
      ],
      "text/plain": [
       "Epoch: \u001b[1;36m286\u001b[0m. Loss: \u001b[1;36m0.16188833117485046\u001b[0m\n"
      ]
     },
     "metadata": {},
     "output_type": "display_data"
    },
    {
     "data": {
      "text/html": [
       "<pre style=\"white-space:pre;overflow-x:auto;line-height:normal;font-family:Menlo,'DejaVu Sans Mono',consolas,'Courier New',monospace\">Epoch: <span style=\"color: #008080; text-decoration-color: #008080; font-weight: bold\">287</span>. Loss: <span style=\"color: #008080; text-decoration-color: #008080; font-weight: bold\">0.16368645429611206</span>\n",
       "</pre>\n"
      ],
      "text/plain": [
       "Epoch: \u001b[1;36m287\u001b[0m. Loss: \u001b[1;36m0.16368645429611206\u001b[0m\n"
      ]
     },
     "metadata": {},
     "output_type": "display_data"
    },
    {
     "data": {
      "text/html": [
       "<pre style=\"white-space:pre;overflow-x:auto;line-height:normal;font-family:Menlo,'DejaVu Sans Mono',consolas,'Courier New',monospace\">Epoch: <span style=\"color: #008080; text-decoration-color: #008080; font-weight: bold\">288</span>. Loss: <span style=\"color: #008080; text-decoration-color: #008080; font-weight: bold\">0.15655963122844696</span>\n",
       "</pre>\n"
      ],
      "text/plain": [
       "Epoch: \u001b[1;36m288\u001b[0m. Loss: \u001b[1;36m0.15655963122844696\u001b[0m\n"
      ]
     },
     "metadata": {},
     "output_type": "display_data"
    },
    {
     "data": {
      "text/html": [
       "<pre style=\"white-space:pre;overflow-x:auto;line-height:normal;font-family:Menlo,'DejaVu Sans Mono',consolas,'Courier New',monospace\">Epoch: <span style=\"color: #008080; text-decoration-color: #008080; font-weight: bold\">289</span>. Loss: <span style=\"color: #008080; text-decoration-color: #008080; font-weight: bold\">0.15913477540016174</span>\n",
       "</pre>\n"
      ],
      "text/plain": [
       "Epoch: \u001b[1;36m289\u001b[0m. Loss: \u001b[1;36m0.15913477540016174\u001b[0m\n"
      ]
     },
     "metadata": {},
     "output_type": "display_data"
    },
    {
     "data": {
      "text/html": [
       "<pre style=\"white-space:pre;overflow-x:auto;line-height:normal;font-family:Menlo,'DejaVu Sans Mono',consolas,'Courier New',monospace\">Epoch: <span style=\"color: #008080; text-decoration-color: #008080; font-weight: bold\">290</span>. Loss: <span style=\"color: #008080; text-decoration-color: #008080; font-weight: bold\">0.1555566042661667</span>\n",
       "</pre>\n"
      ],
      "text/plain": [
       "Epoch: \u001b[1;36m290\u001b[0m. Loss: \u001b[1;36m0.1555566042661667\u001b[0m\n"
      ]
     },
     "metadata": {},
     "output_type": "display_data"
    },
    {
     "data": {
      "text/html": [
       "<pre style=\"white-space:pre;overflow-x:auto;line-height:normal;font-family:Menlo,'DejaVu Sans Mono',consolas,'Courier New',monospace\">Epoch: <span style=\"color: #008080; text-decoration-color: #008080; font-weight: bold\">291</span>. Loss: <span style=\"color: #008080; text-decoration-color: #008080; font-weight: bold\">0.16872049868106842</span>\n",
       "</pre>\n"
      ],
      "text/plain": [
       "Epoch: \u001b[1;36m291\u001b[0m. Loss: \u001b[1;36m0.16872049868106842\u001b[0m\n"
      ]
     },
     "metadata": {},
     "output_type": "display_data"
    },
    {
     "data": {
      "text/html": [
       "<pre style=\"white-space:pre;overflow-x:auto;line-height:normal;font-family:Menlo,'DejaVu Sans Mono',consolas,'Courier New',monospace\">Epoch: <span style=\"color: #008080; text-decoration-color: #008080; font-weight: bold\">292</span>. Loss: <span style=\"color: #008080; text-decoration-color: #008080; font-weight: bold\">0.16200609505176544</span>\n",
       "</pre>\n"
      ],
      "text/plain": [
       "Epoch: \u001b[1;36m292\u001b[0m. Loss: \u001b[1;36m0.16200609505176544\u001b[0m\n"
      ]
     },
     "metadata": {},
     "output_type": "display_data"
    },
    {
     "data": {
      "text/html": [
       "<pre style=\"white-space:pre;overflow-x:auto;line-height:normal;font-family:Menlo,'DejaVu Sans Mono',consolas,'Courier New',monospace\">Epoch: <span style=\"color: #008080; text-decoration-color: #008080; font-weight: bold\">293</span>. Loss: <span style=\"color: #008080; text-decoration-color: #008080; font-weight: bold\">0.15771381556987762</span>\n",
       "</pre>\n"
      ],
      "text/plain": [
       "Epoch: \u001b[1;36m293\u001b[0m. Loss: \u001b[1;36m0.15771381556987762\u001b[0m\n"
      ]
     },
     "metadata": {},
     "output_type": "display_data"
    },
    {
     "data": {
      "text/html": [
       "<pre style=\"white-space:pre;overflow-x:auto;line-height:normal;font-family:Menlo,'DejaVu Sans Mono',consolas,'Courier New',monospace\">Epoch: <span style=\"color: #008080; text-decoration-color: #008080; font-weight: bold\">294</span>. Loss: <span style=\"color: #008080; text-decoration-color: #008080; font-weight: bold\">0.1536194533109665</span>\n",
       "</pre>\n"
      ],
      "text/plain": [
       "Epoch: \u001b[1;36m294\u001b[0m. Loss: \u001b[1;36m0.1536194533109665\u001b[0m\n"
      ]
     },
     "metadata": {},
     "output_type": "display_data"
    },
    {
     "data": {
      "text/html": [
       "<pre style=\"white-space:pre;overflow-x:auto;line-height:normal;font-family:Menlo,'DejaVu Sans Mono',consolas,'Courier New',monospace\">Epoch: <span style=\"color: #008080; text-decoration-color: #008080; font-weight: bold\">295</span>. Loss: <span style=\"color: #008080; text-decoration-color: #008080; font-weight: bold\">0.16198353469371796</span>\n",
       "</pre>\n"
      ],
      "text/plain": [
       "Epoch: \u001b[1;36m295\u001b[0m. Loss: \u001b[1;36m0.16198353469371796\u001b[0m\n"
      ]
     },
     "metadata": {},
     "output_type": "display_data"
    },
    {
     "data": {
      "text/html": [
       "<pre style=\"white-space:pre;overflow-x:auto;line-height:normal;font-family:Menlo,'DejaVu Sans Mono',consolas,'Courier New',monospace\">Epoch: <span style=\"color: #008080; text-decoration-color: #008080; font-weight: bold\">296</span>. Loss: <span style=\"color: #008080; text-decoration-color: #008080; font-weight: bold\">0.155201256275177</span>\n",
       "</pre>\n"
      ],
      "text/plain": [
       "Epoch: \u001b[1;36m296\u001b[0m. Loss: \u001b[1;36m0.155201256275177\u001b[0m\n"
      ]
     },
     "metadata": {},
     "output_type": "display_data"
    },
    {
     "data": {
      "text/html": [
       "<pre style=\"white-space:pre;overflow-x:auto;line-height:normal;font-family:Menlo,'DejaVu Sans Mono',consolas,'Courier New',monospace\">Epoch: <span style=\"color: #008080; text-decoration-color: #008080; font-weight: bold\">297</span>. Loss: <span style=\"color: #008080; text-decoration-color: #008080; font-weight: bold\">0.15356619656085968</span>\n",
       "</pre>\n"
      ],
      "text/plain": [
       "Epoch: \u001b[1;36m297\u001b[0m. Loss: \u001b[1;36m0.15356619656085968\u001b[0m\n"
      ]
     },
     "metadata": {},
     "output_type": "display_data"
    },
    {
     "data": {
      "text/html": [
       "<pre style=\"white-space:pre;overflow-x:auto;line-height:normal;font-family:Menlo,'DejaVu Sans Mono',consolas,'Courier New',monospace\">Epoch: <span style=\"color: #008080; text-decoration-color: #008080; font-weight: bold\">298</span>. Loss: <span style=\"color: #008080; text-decoration-color: #008080; font-weight: bold\">0.15626417100429535</span>\n",
       "</pre>\n"
      ],
      "text/plain": [
       "Epoch: \u001b[1;36m298\u001b[0m. Loss: \u001b[1;36m0.15626417100429535\u001b[0m\n"
      ]
     },
     "metadata": {},
     "output_type": "display_data"
    },
    {
     "data": {
      "text/html": [
       "<pre style=\"white-space:pre;overflow-x:auto;line-height:normal;font-family:Menlo,'DejaVu Sans Mono',consolas,'Courier New',monospace\">Epoch: <span style=\"color: #008080; text-decoration-color: #008080; font-weight: bold\">299</span>. Loss: <span style=\"color: #008080; text-decoration-color: #008080; font-weight: bold\">0.1553850769996643</span>\n",
       "</pre>\n"
      ],
      "text/plain": [
       "Epoch: \u001b[1;36m299\u001b[0m. Loss: \u001b[1;36m0.1553850769996643\u001b[0m\n"
      ]
     },
     "metadata": {},
     "output_type": "display_data"
    },
    {
     "data": {
      "text/html": [
       "<pre style=\"white-space:pre;overflow-x:auto;line-height:normal;font-family:Menlo,'DejaVu Sans Mono',consolas,'Courier New',monospace\">Epoch: <span style=\"color: #008080; text-decoration-color: #008080; font-weight: bold\">300</span>. Loss: <span style=\"color: #008080; text-decoration-color: #008080; font-weight: bold\">0.15516053140163422</span>\n",
       "</pre>\n"
      ],
      "text/plain": [
       "Epoch: \u001b[1;36m300\u001b[0m. Loss: \u001b[1;36m0.15516053140163422\u001b[0m\n"
      ]
     },
     "metadata": {},
     "output_type": "display_data"
    },
    {
     "data": {
      "text/html": [
       "<pre style=\"white-space:pre;overflow-x:auto;line-height:normal;font-family:Menlo,'DejaVu Sans Mono',consolas,'Courier New',monospace\">Epoch: <span style=\"color: #008080; text-decoration-color: #008080; font-weight: bold\">301</span>. Loss: <span style=\"color: #008080; text-decoration-color: #008080; font-weight: bold\">0.16200347244739532</span>\n",
       "</pre>\n"
      ],
      "text/plain": [
       "Epoch: \u001b[1;36m301\u001b[0m. Loss: \u001b[1;36m0.16200347244739532\u001b[0m\n"
      ]
     },
     "metadata": {},
     "output_type": "display_data"
    },
    {
     "data": {
      "text/html": [
       "<pre style=\"white-space:pre;overflow-x:auto;line-height:normal;font-family:Menlo,'DejaVu Sans Mono',consolas,'Courier New',monospace\">Epoch: <span style=\"color: #008080; text-decoration-color: #008080; font-weight: bold\">302</span>. Loss: <span style=\"color: #008080; text-decoration-color: #008080; font-weight: bold\">0.15591906011104584</span>\n",
       "</pre>\n"
      ],
      "text/plain": [
       "Epoch: \u001b[1;36m302\u001b[0m. Loss: \u001b[1;36m0.15591906011104584\u001b[0m\n"
      ]
     },
     "metadata": {},
     "output_type": "display_data"
    },
    {
     "data": {
      "text/html": [
       "<pre style=\"white-space:pre;overflow-x:auto;line-height:normal;font-family:Menlo,'DejaVu Sans Mono',consolas,'Courier New',monospace\">Epoch: <span style=\"color: #008080; text-decoration-color: #008080; font-weight: bold\">303</span>. Loss: <span style=\"color: #008080; text-decoration-color: #008080; font-weight: bold\">0.14945489168167114</span>\n",
       "</pre>\n"
      ],
      "text/plain": [
       "Epoch: \u001b[1;36m303\u001b[0m. Loss: \u001b[1;36m0.14945489168167114\u001b[0m\n"
      ]
     },
     "metadata": {},
     "output_type": "display_data"
    },
    {
     "data": {
      "text/html": [
       "<pre style=\"white-space:pre;overflow-x:auto;line-height:normal;font-family:Menlo,'DejaVu Sans Mono',consolas,'Courier New',monospace\">Epoch: <span style=\"color: #008080; text-decoration-color: #008080; font-weight: bold\">304</span>. Loss: <span style=\"color: #008080; text-decoration-color: #008080; font-weight: bold\">0.1566447615623474</span>\n",
       "</pre>\n"
      ],
      "text/plain": [
       "Epoch: \u001b[1;36m304\u001b[0m. Loss: \u001b[1;36m0.1566447615623474\u001b[0m\n"
      ]
     },
     "metadata": {},
     "output_type": "display_data"
    },
    {
     "data": {
      "text/html": [
       "<pre style=\"white-space:pre;overflow-x:auto;line-height:normal;font-family:Menlo,'DejaVu Sans Mono',consolas,'Courier New',monospace\">Epoch: <span style=\"color: #008080; text-decoration-color: #008080; font-weight: bold\">305</span>. Loss: <span style=\"color: #008080; text-decoration-color: #008080; font-weight: bold\">0.15354284644126892</span>\n",
       "</pre>\n"
      ],
      "text/plain": [
       "Epoch: \u001b[1;36m305\u001b[0m. Loss: \u001b[1;36m0.15354284644126892\u001b[0m\n"
      ]
     },
     "metadata": {},
     "output_type": "display_data"
    },
    {
     "data": {
      "text/html": [
       "<pre style=\"white-space:pre;overflow-x:auto;line-height:normal;font-family:Menlo,'DejaVu Sans Mono',consolas,'Courier New',monospace\">Epoch: <span style=\"color: #008080; text-decoration-color: #008080; font-weight: bold\">306</span>. Loss: <span style=\"color: #008080; text-decoration-color: #008080; font-weight: bold\">0.15169349312782288</span>\n",
       "</pre>\n"
      ],
      "text/plain": [
       "Epoch: \u001b[1;36m306\u001b[0m. Loss: \u001b[1;36m0.15169349312782288\u001b[0m\n"
      ]
     },
     "metadata": {},
     "output_type": "display_data"
    },
    {
     "data": {
      "text/html": [
       "<pre style=\"white-space:pre;overflow-x:auto;line-height:normal;font-family:Menlo,'DejaVu Sans Mono',consolas,'Courier New',monospace\">Epoch: <span style=\"color: #008080; text-decoration-color: #008080; font-weight: bold\">307</span>. Loss: <span style=\"color: #008080; text-decoration-color: #008080; font-weight: bold\">0.15620329976081848</span>\n",
       "</pre>\n"
      ],
      "text/plain": [
       "Epoch: \u001b[1;36m307\u001b[0m. Loss: \u001b[1;36m0.15620329976081848\u001b[0m\n"
      ]
     },
     "metadata": {},
     "output_type": "display_data"
    },
    {
     "data": {
      "text/html": [
       "<pre style=\"white-space:pre;overflow-x:auto;line-height:normal;font-family:Menlo,'DejaVu Sans Mono',consolas,'Courier New',monospace\">Epoch: <span style=\"color: #008080; text-decoration-color: #008080; font-weight: bold\">308</span>. Loss: <span style=\"color: #008080; text-decoration-color: #008080; font-weight: bold\">0.1539427638053894</span>\n",
       "</pre>\n"
      ],
      "text/plain": [
       "Epoch: \u001b[1;36m308\u001b[0m. Loss: \u001b[1;36m0.1539427638053894\u001b[0m\n"
      ]
     },
     "metadata": {},
     "output_type": "display_data"
    },
    {
     "data": {
      "text/html": [
       "<pre style=\"white-space:pre;overflow-x:auto;line-height:normal;font-family:Menlo,'DejaVu Sans Mono',consolas,'Courier New',monospace\">Epoch: <span style=\"color: #008080; text-decoration-color: #008080; font-weight: bold\">309</span>. Loss: <span style=\"color: #008080; text-decoration-color: #008080; font-weight: bold\">0.1510275900363922</span>\n",
       "</pre>\n"
      ],
      "text/plain": [
       "Epoch: \u001b[1;36m309\u001b[0m. Loss: \u001b[1;36m0.1510275900363922\u001b[0m\n"
      ]
     },
     "metadata": {},
     "output_type": "display_data"
    },
    {
     "data": {
      "text/html": [
       "<pre style=\"white-space:pre;overflow-x:auto;line-height:normal;font-family:Menlo,'DejaVu Sans Mono',consolas,'Courier New',monospace\">Epoch: <span style=\"color: #008080; text-decoration-color: #008080; font-weight: bold\">310</span>. Loss: <span style=\"color: #008080; text-decoration-color: #008080; font-weight: bold\">0.15519988536834717</span>\n",
       "</pre>\n"
      ],
      "text/plain": [
       "Epoch: \u001b[1;36m310\u001b[0m. Loss: \u001b[1;36m0.15519988536834717\u001b[0m\n"
      ]
     },
     "metadata": {},
     "output_type": "display_data"
    },
    {
     "data": {
      "text/html": [
       "<pre style=\"white-space:pre;overflow-x:auto;line-height:normal;font-family:Menlo,'DejaVu Sans Mono',consolas,'Courier New',monospace\">Epoch: <span style=\"color: #008080; text-decoration-color: #008080; font-weight: bold\">311</span>. Loss: <span style=\"color: #008080; text-decoration-color: #008080; font-weight: bold\">0.15534347295761108</span>\n",
       "</pre>\n"
      ],
      "text/plain": [
       "Epoch: \u001b[1;36m311\u001b[0m. Loss: \u001b[1;36m0.15534347295761108\u001b[0m\n"
      ]
     },
     "metadata": {},
     "output_type": "display_data"
    },
    {
     "data": {
      "text/html": [
       "<pre style=\"white-space:pre;overflow-x:auto;line-height:normal;font-family:Menlo,'DejaVu Sans Mono',consolas,'Courier New',monospace\">Epoch: <span style=\"color: #008080; text-decoration-color: #008080; font-weight: bold\">312</span>. Loss: <span style=\"color: #008080; text-decoration-color: #008080; font-weight: bold\">0.14285768568515778</span>\n",
       "</pre>\n"
      ],
      "text/plain": [
       "Epoch: \u001b[1;36m312\u001b[0m. Loss: \u001b[1;36m0.14285768568515778\u001b[0m\n"
      ]
     },
     "metadata": {},
     "output_type": "display_data"
    },
    {
     "data": {
      "text/html": [
       "<pre style=\"white-space:pre;overflow-x:auto;line-height:normal;font-family:Menlo,'DejaVu Sans Mono',consolas,'Courier New',monospace\">Epoch: <span style=\"color: #008080; text-decoration-color: #008080; font-weight: bold\">313</span>. Loss: <span style=\"color: #008080; text-decoration-color: #008080; font-weight: bold\">0.1590472161769867</span>\n",
       "</pre>\n"
      ],
      "text/plain": [
       "Epoch: \u001b[1;36m313\u001b[0m. Loss: \u001b[1;36m0.1590472161769867\u001b[0m\n"
      ]
     },
     "metadata": {},
     "output_type": "display_data"
    },
    {
     "data": {
      "text/html": [
       "<pre style=\"white-space:pre;overflow-x:auto;line-height:normal;font-family:Menlo,'DejaVu Sans Mono',consolas,'Courier New',monospace\">Epoch: <span style=\"color: #008080; text-decoration-color: #008080; font-weight: bold\">314</span>. Loss: <span style=\"color: #008080; text-decoration-color: #008080; font-weight: bold\">0.14590877294540405</span>\n",
       "</pre>\n"
      ],
      "text/plain": [
       "Epoch: \u001b[1;36m314\u001b[0m. Loss: \u001b[1;36m0.14590877294540405\u001b[0m\n"
      ]
     },
     "metadata": {},
     "output_type": "display_data"
    },
    {
     "data": {
      "text/html": [
       "<pre style=\"white-space:pre;overflow-x:auto;line-height:normal;font-family:Menlo,'DejaVu Sans Mono',consolas,'Courier New',monospace\">Epoch: <span style=\"color: #008080; text-decoration-color: #008080; font-weight: bold\">315</span>. Loss: <span style=\"color: #008080; text-decoration-color: #008080; font-weight: bold\">0.14710327982902527</span>\n",
       "</pre>\n"
      ],
      "text/plain": [
       "Epoch: \u001b[1;36m315\u001b[0m. Loss: \u001b[1;36m0.14710327982902527\u001b[0m\n"
      ]
     },
     "metadata": {},
     "output_type": "display_data"
    },
    {
     "data": {
      "text/html": [
       "<pre style=\"white-space:pre;overflow-x:auto;line-height:normal;font-family:Menlo,'DejaVu Sans Mono',consolas,'Courier New',monospace\">Epoch: <span style=\"color: #008080; text-decoration-color: #008080; font-weight: bold\">316</span>. Loss: <span style=\"color: #008080; text-decoration-color: #008080; font-weight: bold\">0.15545660257339478</span>\n",
       "</pre>\n"
      ],
      "text/plain": [
       "Epoch: \u001b[1;36m316\u001b[0m. Loss: \u001b[1;36m0.15545660257339478\u001b[0m\n"
      ]
     },
     "metadata": {},
     "output_type": "display_data"
    },
    {
     "data": {
      "text/html": [
       "<pre style=\"white-space:pre;overflow-x:auto;line-height:normal;font-family:Menlo,'DejaVu Sans Mono',consolas,'Courier New',monospace\">Epoch: <span style=\"color: #008080; text-decoration-color: #008080; font-weight: bold\">317</span>. Loss: <span style=\"color: #008080; text-decoration-color: #008080; font-weight: bold\">0.15460465848445892</span>\n",
       "</pre>\n"
      ],
      "text/plain": [
       "Epoch: \u001b[1;36m317\u001b[0m. Loss: \u001b[1;36m0.15460465848445892\u001b[0m\n"
      ]
     },
     "metadata": {},
     "output_type": "display_data"
    },
    {
     "data": {
      "text/html": [
       "<pre style=\"white-space:pre;overflow-x:auto;line-height:normal;font-family:Menlo,'DejaVu Sans Mono',consolas,'Courier New',monospace\">Epoch: <span style=\"color: #008080; text-decoration-color: #008080; font-weight: bold\">318</span>. Loss: <span style=\"color: #008080; text-decoration-color: #008080; font-weight: bold\">0.15188361704349518</span>\n",
       "</pre>\n"
      ],
      "text/plain": [
       "Epoch: \u001b[1;36m318\u001b[0m. Loss: \u001b[1;36m0.15188361704349518\u001b[0m\n"
      ]
     },
     "metadata": {},
     "output_type": "display_data"
    },
    {
     "data": {
      "text/html": [
       "<pre style=\"white-space:pre;overflow-x:auto;line-height:normal;font-family:Menlo,'DejaVu Sans Mono',consolas,'Courier New',monospace\">Epoch: <span style=\"color: #008080; text-decoration-color: #008080; font-weight: bold\">319</span>. Loss: <span style=\"color: #008080; text-decoration-color: #008080; font-weight: bold\">0.15550215542316437</span>\n",
       "</pre>\n"
      ],
      "text/plain": [
       "Epoch: \u001b[1;36m319\u001b[0m. Loss: \u001b[1;36m0.15550215542316437\u001b[0m\n"
      ]
     },
     "metadata": {},
     "output_type": "display_data"
    },
    {
     "data": {
      "text/html": [
       "<pre style=\"white-space:pre;overflow-x:auto;line-height:normal;font-family:Menlo,'DejaVu Sans Mono',consolas,'Courier New',monospace\">Epoch: <span style=\"color: #008080; text-decoration-color: #008080; font-weight: bold\">320</span>. Loss: <span style=\"color: #008080; text-decoration-color: #008080; font-weight: bold\">0.14512251317501068</span>\n",
       "</pre>\n"
      ],
      "text/plain": [
       "Epoch: \u001b[1;36m320\u001b[0m. Loss: \u001b[1;36m0.14512251317501068\u001b[0m\n"
      ]
     },
     "metadata": {},
     "output_type": "display_data"
    },
    {
     "data": {
      "text/html": [
       "<pre style=\"white-space:pre;overflow-x:auto;line-height:normal;font-family:Menlo,'DejaVu Sans Mono',consolas,'Courier New',monospace\">Epoch: <span style=\"color: #008080; text-decoration-color: #008080; font-weight: bold\">321</span>. Loss: <span style=\"color: #008080; text-decoration-color: #008080; font-weight: bold\">0.15036332607269287</span>\n",
       "</pre>\n"
      ],
      "text/plain": [
       "Epoch: \u001b[1;36m321\u001b[0m. Loss: \u001b[1;36m0.15036332607269287\u001b[0m\n"
      ]
     },
     "metadata": {},
     "output_type": "display_data"
    },
    {
     "data": {
      "text/html": [
       "<pre style=\"white-space:pre;overflow-x:auto;line-height:normal;font-family:Menlo,'DejaVu Sans Mono',consolas,'Courier New',monospace\">Epoch: <span style=\"color: #008080; text-decoration-color: #008080; font-weight: bold\">322</span>. Loss: <span style=\"color: #008080; text-decoration-color: #008080; font-weight: bold\">0.15966930985450745</span>\n",
       "</pre>\n"
      ],
      "text/plain": [
       "Epoch: \u001b[1;36m322\u001b[0m. Loss: \u001b[1;36m0.15966930985450745\u001b[0m\n"
      ]
     },
     "metadata": {},
     "output_type": "display_data"
    },
    {
     "data": {
      "text/html": [
       "<pre style=\"white-space:pre;overflow-x:auto;line-height:normal;font-family:Menlo,'DejaVu Sans Mono',consolas,'Courier New',monospace\">Epoch: <span style=\"color: #008080; text-decoration-color: #008080; font-weight: bold\">323</span>. Loss: <span style=\"color: #008080; text-decoration-color: #008080; font-weight: bold\">0.1474338173866272</span>\n",
       "</pre>\n"
      ],
      "text/plain": [
       "Epoch: \u001b[1;36m323\u001b[0m. Loss: \u001b[1;36m0.1474338173866272\u001b[0m\n"
      ]
     },
     "metadata": {},
     "output_type": "display_data"
    },
    {
     "data": {
      "text/html": [
       "<pre style=\"white-space:pre;overflow-x:auto;line-height:normal;font-family:Menlo,'DejaVu Sans Mono',consolas,'Courier New',monospace\">Epoch: <span style=\"color: #008080; text-decoration-color: #008080; font-weight: bold\">324</span>. Loss: <span style=\"color: #008080; text-decoration-color: #008080; font-weight: bold\">0.14698247611522675</span>\n",
       "</pre>\n"
      ],
      "text/plain": [
       "Epoch: \u001b[1;36m324\u001b[0m. Loss: \u001b[1;36m0.14698247611522675\u001b[0m\n"
      ]
     },
     "metadata": {},
     "output_type": "display_data"
    },
    {
     "data": {
      "text/html": [
       "<pre style=\"white-space:pre;overflow-x:auto;line-height:normal;font-family:Menlo,'DejaVu Sans Mono',consolas,'Courier New',monospace\">Epoch: <span style=\"color: #008080; text-decoration-color: #008080; font-weight: bold\">325</span>. Loss: <span style=\"color: #008080; text-decoration-color: #008080; font-weight: bold\">0.1568261682987213</span>\n",
       "</pre>\n"
      ],
      "text/plain": [
       "Epoch: \u001b[1;36m325\u001b[0m. Loss: \u001b[1;36m0.1568261682987213\u001b[0m\n"
      ]
     },
     "metadata": {},
     "output_type": "display_data"
    },
    {
     "data": {
      "text/html": [
       "<pre style=\"white-space:pre;overflow-x:auto;line-height:normal;font-family:Menlo,'DejaVu Sans Mono',consolas,'Courier New',monospace\">Epoch: <span style=\"color: #008080; text-decoration-color: #008080; font-weight: bold\">326</span>. Loss: <span style=\"color: #008080; text-decoration-color: #008080; font-weight: bold\">0.15541215240955353</span>\n",
       "</pre>\n"
      ],
      "text/plain": [
       "Epoch: \u001b[1;36m326\u001b[0m. Loss: \u001b[1;36m0.15541215240955353\u001b[0m\n"
      ]
     },
     "metadata": {},
     "output_type": "display_data"
    },
    {
     "data": {
      "text/html": [
       "<pre style=\"white-space:pre;overflow-x:auto;line-height:normal;font-family:Menlo,'DejaVu Sans Mono',consolas,'Courier New',monospace\">Epoch: <span style=\"color: #008080; text-decoration-color: #008080; font-weight: bold\">327</span>. Loss: <span style=\"color: #008080; text-decoration-color: #008080; font-weight: bold\">0.14699171483516693</span>\n",
       "</pre>\n"
      ],
      "text/plain": [
       "Epoch: \u001b[1;36m327\u001b[0m. Loss: \u001b[1;36m0.14699171483516693\u001b[0m\n"
      ]
     },
     "metadata": {},
     "output_type": "display_data"
    },
    {
     "data": {
      "text/html": [
       "<pre style=\"white-space:pre;overflow-x:auto;line-height:normal;font-family:Menlo,'DejaVu Sans Mono',consolas,'Courier New',monospace\">Epoch: <span style=\"color: #008080; text-decoration-color: #008080; font-weight: bold\">328</span>. Loss: <span style=\"color: #008080; text-decoration-color: #008080; font-weight: bold\">0.1604420691728592</span>\n",
       "</pre>\n"
      ],
      "text/plain": [
       "Epoch: \u001b[1;36m328\u001b[0m. Loss: \u001b[1;36m0.1604420691728592\u001b[0m\n"
      ]
     },
     "metadata": {},
     "output_type": "display_data"
    },
    {
     "data": {
      "text/html": [
       "<pre style=\"white-space:pre;overflow-x:auto;line-height:normal;font-family:Menlo,'DejaVu Sans Mono',consolas,'Courier New',monospace\">Epoch: <span style=\"color: #008080; text-decoration-color: #008080; font-weight: bold\">329</span>. Loss: <span style=\"color: #008080; text-decoration-color: #008080; font-weight: bold\">0.1455911248922348</span>\n",
       "</pre>\n"
      ],
      "text/plain": [
       "Epoch: \u001b[1;36m329\u001b[0m. Loss: \u001b[1;36m0.1455911248922348\u001b[0m\n"
      ]
     },
     "metadata": {},
     "output_type": "display_data"
    },
    {
     "data": {
      "text/html": [
       "<pre style=\"white-space:pre;overflow-x:auto;line-height:normal;font-family:Menlo,'DejaVu Sans Mono',consolas,'Courier New',monospace\">Epoch: <span style=\"color: #008080; text-decoration-color: #008080; font-weight: bold\">330</span>. Loss: <span style=\"color: #008080; text-decoration-color: #008080; font-weight: bold\">0.15060211718082428</span>\n",
       "</pre>\n"
      ],
      "text/plain": [
       "Epoch: \u001b[1;36m330\u001b[0m. Loss: \u001b[1;36m0.15060211718082428\u001b[0m\n"
      ]
     },
     "metadata": {},
     "output_type": "display_data"
    },
    {
     "data": {
      "text/html": [
       "<pre style=\"white-space:pre;overflow-x:auto;line-height:normal;font-family:Menlo,'DejaVu Sans Mono',consolas,'Courier New',monospace\">Epoch: <span style=\"color: #008080; text-decoration-color: #008080; font-weight: bold\">331</span>. Loss: <span style=\"color: #008080; text-decoration-color: #008080; font-weight: bold\">0.14199687540531158</span>\n",
       "</pre>\n"
      ],
      "text/plain": [
       "Epoch: \u001b[1;36m331\u001b[0m. Loss: \u001b[1;36m0.14199687540531158\u001b[0m\n"
      ]
     },
     "metadata": {},
     "output_type": "display_data"
    },
    {
     "data": {
      "text/html": [
       "<pre style=\"white-space:pre;overflow-x:auto;line-height:normal;font-family:Menlo,'DejaVu Sans Mono',consolas,'Courier New',monospace\">Epoch: <span style=\"color: #008080; text-decoration-color: #008080; font-weight: bold\">332</span>. Loss: <span style=\"color: #008080; text-decoration-color: #008080; font-weight: bold\">0.15045467019081116</span>\n",
       "</pre>\n"
      ],
      "text/plain": [
       "Epoch: \u001b[1;36m332\u001b[0m. Loss: \u001b[1;36m0.15045467019081116\u001b[0m\n"
      ]
     },
     "metadata": {},
     "output_type": "display_data"
    },
    {
     "data": {
      "text/html": [
       "<pre style=\"white-space:pre;overflow-x:auto;line-height:normal;font-family:Menlo,'DejaVu Sans Mono',consolas,'Courier New',monospace\">Epoch: <span style=\"color: #008080; text-decoration-color: #008080; font-weight: bold\">333</span>. Loss: <span style=\"color: #008080; text-decoration-color: #008080; font-weight: bold\">0.14246274530887604</span>\n",
       "</pre>\n"
      ],
      "text/plain": [
       "Epoch: \u001b[1;36m333\u001b[0m. Loss: \u001b[1;36m0.14246274530887604\u001b[0m\n"
      ]
     },
     "metadata": {},
     "output_type": "display_data"
    },
    {
     "data": {
      "text/html": [
       "<pre style=\"white-space:pre;overflow-x:auto;line-height:normal;font-family:Menlo,'DejaVu Sans Mono',consolas,'Courier New',monospace\">Epoch: <span style=\"color: #008080; text-decoration-color: #008080; font-weight: bold\">334</span>. Loss: <span style=\"color: #008080; text-decoration-color: #008080; font-weight: bold\">0.1452869474887848</span>\n",
       "</pre>\n"
      ],
      "text/plain": [
       "Epoch: \u001b[1;36m334\u001b[0m. Loss: \u001b[1;36m0.1452869474887848\u001b[0m\n"
      ]
     },
     "metadata": {},
     "output_type": "display_data"
    },
    {
     "data": {
      "text/html": [
       "<pre style=\"white-space:pre;overflow-x:auto;line-height:normal;font-family:Menlo,'DejaVu Sans Mono',consolas,'Courier New',monospace\">Epoch: <span style=\"color: #008080; text-decoration-color: #008080; font-weight: bold\">335</span>. Loss: <span style=\"color: #008080; text-decoration-color: #008080; font-weight: bold\">0.14864392578601837</span>\n",
       "</pre>\n"
      ],
      "text/plain": [
       "Epoch: \u001b[1;36m335\u001b[0m. Loss: \u001b[1;36m0.14864392578601837\u001b[0m\n"
      ]
     },
     "metadata": {},
     "output_type": "display_data"
    },
    {
     "data": {
      "text/html": [
       "<pre style=\"white-space:pre;overflow-x:auto;line-height:normal;font-family:Menlo,'DejaVu Sans Mono',consolas,'Courier New',monospace\">Epoch: <span style=\"color: #008080; text-decoration-color: #008080; font-weight: bold\">336</span>. Loss: <span style=\"color: #008080; text-decoration-color: #008080; font-weight: bold\">0.14737874269485474</span>\n",
       "</pre>\n"
      ],
      "text/plain": [
       "Epoch: \u001b[1;36m336\u001b[0m. Loss: \u001b[1;36m0.14737874269485474\u001b[0m\n"
      ]
     },
     "metadata": {},
     "output_type": "display_data"
    },
    {
     "data": {
      "text/html": [
       "<pre style=\"white-space:pre;overflow-x:auto;line-height:normal;font-family:Menlo,'DejaVu Sans Mono',consolas,'Courier New',monospace\">Epoch: <span style=\"color: #008080; text-decoration-color: #008080; font-weight: bold\">337</span>. Loss: <span style=\"color: #008080; text-decoration-color: #008080; font-weight: bold\">0.15389961004257202</span>\n",
       "</pre>\n"
      ],
      "text/plain": [
       "Epoch: \u001b[1;36m337\u001b[0m. Loss: \u001b[1;36m0.15389961004257202\u001b[0m\n"
      ]
     },
     "metadata": {},
     "output_type": "display_data"
    },
    {
     "data": {
      "text/html": [
       "<pre style=\"white-space:pre;overflow-x:auto;line-height:normal;font-family:Menlo,'DejaVu Sans Mono',consolas,'Courier New',monospace\">Epoch: <span style=\"color: #008080; text-decoration-color: #008080; font-weight: bold\">338</span>. Loss: <span style=\"color: #008080; text-decoration-color: #008080; font-weight: bold\">0.13810686767101288</span>\n",
       "</pre>\n"
      ],
      "text/plain": [
       "Epoch: \u001b[1;36m338\u001b[0m. Loss: \u001b[1;36m0.13810686767101288\u001b[0m\n"
      ]
     },
     "metadata": {},
     "output_type": "display_data"
    },
    {
     "data": {
      "text/html": [
       "<pre style=\"white-space:pre;overflow-x:auto;line-height:normal;font-family:Menlo,'DejaVu Sans Mono',consolas,'Courier New',monospace\">Epoch: <span style=\"color: #008080; text-decoration-color: #008080; font-weight: bold\">339</span>. Loss: <span style=\"color: #008080; text-decoration-color: #008080; font-weight: bold\">0.13834768533706665</span>\n",
       "</pre>\n"
      ],
      "text/plain": [
       "Epoch: \u001b[1;36m339\u001b[0m. Loss: \u001b[1;36m0.13834768533706665\u001b[0m\n"
      ]
     },
     "metadata": {},
     "output_type": "display_data"
    },
    {
     "data": {
      "text/html": [
       "<pre style=\"white-space:pre;overflow-x:auto;line-height:normal;font-family:Menlo,'DejaVu Sans Mono',consolas,'Courier New',monospace\">Epoch: <span style=\"color: #008080; text-decoration-color: #008080; font-weight: bold\">340</span>. Loss: <span style=\"color: #008080; text-decoration-color: #008080; font-weight: bold\">0.1546628326177597</span>\n",
       "</pre>\n"
      ],
      "text/plain": [
       "Epoch: \u001b[1;36m340\u001b[0m. Loss: \u001b[1;36m0.1546628326177597\u001b[0m\n"
      ]
     },
     "metadata": {},
     "output_type": "display_data"
    },
    {
     "data": {
      "text/html": [
       "<pre style=\"white-space:pre;overflow-x:auto;line-height:normal;font-family:Menlo,'DejaVu Sans Mono',consolas,'Courier New',monospace\">Epoch: <span style=\"color: #008080; text-decoration-color: #008080; font-weight: bold\">341</span>. Loss: <span style=\"color: #008080; text-decoration-color: #008080; font-weight: bold\">0.15810143947601318</span>\n",
       "</pre>\n"
      ],
      "text/plain": [
       "Epoch: \u001b[1;36m341\u001b[0m. Loss: \u001b[1;36m0.15810143947601318\u001b[0m\n"
      ]
     },
     "metadata": {},
     "output_type": "display_data"
    },
    {
     "data": {
      "text/html": [
       "<pre style=\"white-space:pre;overflow-x:auto;line-height:normal;font-family:Menlo,'DejaVu Sans Mono',consolas,'Courier New',monospace\">Epoch: <span style=\"color: #008080; text-decoration-color: #008080; font-weight: bold\">342</span>. Loss: <span style=\"color: #008080; text-decoration-color: #008080; font-weight: bold\">0.1443919986486435</span>\n",
       "</pre>\n"
      ],
      "text/plain": [
       "Epoch: \u001b[1;36m342\u001b[0m. Loss: \u001b[1;36m0.1443919986486435\u001b[0m\n"
      ]
     },
     "metadata": {},
     "output_type": "display_data"
    },
    {
     "data": {
      "text/html": [
       "<pre style=\"white-space:pre;overflow-x:auto;line-height:normal;font-family:Menlo,'DejaVu Sans Mono',consolas,'Courier New',monospace\">Epoch: <span style=\"color: #008080; text-decoration-color: #008080; font-weight: bold\">343</span>. Loss: <span style=\"color: #008080; text-decoration-color: #008080; font-weight: bold\">0.14623017609119415</span>\n",
       "</pre>\n"
      ],
      "text/plain": [
       "Epoch: \u001b[1;36m343\u001b[0m. Loss: \u001b[1;36m0.14623017609119415\u001b[0m\n"
      ]
     },
     "metadata": {},
     "output_type": "display_data"
    },
    {
     "data": {
      "text/html": [
       "<pre style=\"white-space:pre;overflow-x:auto;line-height:normal;font-family:Menlo,'DejaVu Sans Mono',consolas,'Courier New',monospace\">Epoch: <span style=\"color: #008080; text-decoration-color: #008080; font-weight: bold\">344</span>. Loss: <span style=\"color: #008080; text-decoration-color: #008080; font-weight: bold\">0.1417039930820465</span>\n",
       "</pre>\n"
      ],
      "text/plain": [
       "Epoch: \u001b[1;36m344\u001b[0m. Loss: \u001b[1;36m0.1417039930820465\u001b[0m\n"
      ]
     },
     "metadata": {},
     "output_type": "display_data"
    },
    {
     "data": {
      "text/html": [
       "<pre style=\"white-space:pre;overflow-x:auto;line-height:normal;font-family:Menlo,'DejaVu Sans Mono',consolas,'Courier New',monospace\">Epoch: <span style=\"color: #008080; text-decoration-color: #008080; font-weight: bold\">345</span>. Loss: <span style=\"color: #008080; text-decoration-color: #008080; font-weight: bold\">0.15332090854644775</span>\n",
       "</pre>\n"
      ],
      "text/plain": [
       "Epoch: \u001b[1;36m345\u001b[0m. Loss: \u001b[1;36m0.15332090854644775\u001b[0m\n"
      ]
     },
     "metadata": {},
     "output_type": "display_data"
    },
    {
     "data": {
      "text/html": [
       "<pre style=\"white-space:pre;overflow-x:auto;line-height:normal;font-family:Menlo,'DejaVu Sans Mono',consolas,'Courier New',monospace\">Epoch: <span style=\"color: #008080; text-decoration-color: #008080; font-weight: bold\">346</span>. Loss: <span style=\"color: #008080; text-decoration-color: #008080; font-weight: bold\">0.15692812204360962</span>\n",
       "</pre>\n"
      ],
      "text/plain": [
       "Epoch: \u001b[1;36m346\u001b[0m. Loss: \u001b[1;36m0.15692812204360962\u001b[0m\n"
      ]
     },
     "metadata": {},
     "output_type": "display_data"
    },
    {
     "data": {
      "text/html": [
       "<pre style=\"white-space:pre;overflow-x:auto;line-height:normal;font-family:Menlo,'DejaVu Sans Mono',consolas,'Courier New',monospace\">Epoch: <span style=\"color: #008080; text-decoration-color: #008080; font-weight: bold\">347</span>. Loss: <span style=\"color: #008080; text-decoration-color: #008080; font-weight: bold\">0.1477745771408081</span>\n",
       "</pre>\n"
      ],
      "text/plain": [
       "Epoch: \u001b[1;36m347\u001b[0m. Loss: \u001b[1;36m0.1477745771408081\u001b[0m\n"
      ]
     },
     "metadata": {},
     "output_type": "display_data"
    },
    {
     "data": {
      "text/html": [
       "<pre style=\"white-space:pre;overflow-x:auto;line-height:normal;font-family:Menlo,'DejaVu Sans Mono',consolas,'Courier New',monospace\">Epoch: <span style=\"color: #008080; text-decoration-color: #008080; font-weight: bold\">348</span>. Loss: <span style=\"color: #008080; text-decoration-color: #008080; font-weight: bold\">0.14165784418582916</span>\n",
       "</pre>\n"
      ],
      "text/plain": [
       "Epoch: \u001b[1;36m348\u001b[0m. Loss: \u001b[1;36m0.14165784418582916\u001b[0m\n"
      ]
     },
     "metadata": {},
     "output_type": "display_data"
    },
    {
     "data": {
      "text/html": [
       "<pre style=\"white-space:pre;overflow-x:auto;line-height:normal;font-family:Menlo,'DejaVu Sans Mono',consolas,'Courier New',monospace\">Epoch: <span style=\"color: #008080; text-decoration-color: #008080; font-weight: bold\">349</span>. Loss: <span style=\"color: #008080; text-decoration-color: #008080; font-weight: bold\">0.15248872339725494</span>\n",
       "</pre>\n"
      ],
      "text/plain": [
       "Epoch: \u001b[1;36m349\u001b[0m. Loss: \u001b[1;36m0.15248872339725494\u001b[0m\n"
      ]
     },
     "metadata": {},
     "output_type": "display_data"
    },
    {
     "data": {
      "text/html": [
       "<pre style=\"white-space:pre;overflow-x:auto;line-height:normal;font-family:Menlo,'DejaVu Sans Mono',consolas,'Courier New',monospace\">Epoch: <span style=\"color: #008080; text-decoration-color: #008080; font-weight: bold\">350</span>. Loss: <span style=\"color: #008080; text-decoration-color: #008080; font-weight: bold\">0.14350435137748718</span>\n",
       "</pre>\n"
      ],
      "text/plain": [
       "Epoch: \u001b[1;36m350\u001b[0m. Loss: \u001b[1;36m0.14350435137748718\u001b[0m\n"
      ]
     },
     "metadata": {},
     "output_type": "display_data"
    },
    {
     "data": {
      "text/html": [
       "<pre style=\"white-space:pre;overflow-x:auto;line-height:normal;font-family:Menlo,'DejaVu Sans Mono',consolas,'Courier New',monospace\">Epoch: <span style=\"color: #008080; text-decoration-color: #008080; font-weight: bold\">351</span>. Loss: <span style=\"color: #008080; text-decoration-color: #008080; font-weight: bold\">0.14824266731739044</span>\n",
       "</pre>\n"
      ],
      "text/plain": [
       "Epoch: \u001b[1;36m351\u001b[0m. Loss: \u001b[1;36m0.14824266731739044\u001b[0m\n"
      ]
     },
     "metadata": {},
     "output_type": "display_data"
    },
    {
     "data": {
      "text/html": [
       "<pre style=\"white-space:pre;overflow-x:auto;line-height:normal;font-family:Menlo,'DejaVu Sans Mono',consolas,'Courier New',monospace\">Epoch: <span style=\"color: #008080; text-decoration-color: #008080; font-weight: bold\">352</span>. Loss: <span style=\"color: #008080; text-decoration-color: #008080; font-weight: bold\">0.14908228814601898</span>\n",
       "</pre>\n"
      ],
      "text/plain": [
       "Epoch: \u001b[1;36m352\u001b[0m. Loss: \u001b[1;36m0.14908228814601898\u001b[0m\n"
      ]
     },
     "metadata": {},
     "output_type": "display_data"
    },
    {
     "data": {
      "text/html": [
       "<pre style=\"white-space:pre;overflow-x:auto;line-height:normal;font-family:Menlo,'DejaVu Sans Mono',consolas,'Courier New',monospace\">Epoch: <span style=\"color: #008080; text-decoration-color: #008080; font-weight: bold\">353</span>. Loss: <span style=\"color: #008080; text-decoration-color: #008080; font-weight: bold\">0.1387491673231125</span>\n",
       "</pre>\n"
      ],
      "text/plain": [
       "Epoch: \u001b[1;36m353\u001b[0m. Loss: \u001b[1;36m0.1387491673231125\u001b[0m\n"
      ]
     },
     "metadata": {},
     "output_type": "display_data"
    },
    {
     "data": {
      "text/html": [
       "<pre style=\"white-space:pre;overflow-x:auto;line-height:normal;font-family:Menlo,'DejaVu Sans Mono',consolas,'Courier New',monospace\">Epoch: <span style=\"color: #008080; text-decoration-color: #008080; font-weight: bold\">354</span>. Loss: <span style=\"color: #008080; text-decoration-color: #008080; font-weight: bold\">0.1454063355922699</span>\n",
       "</pre>\n"
      ],
      "text/plain": [
       "Epoch: \u001b[1;36m354\u001b[0m. Loss: \u001b[1;36m0.1454063355922699\u001b[0m\n"
      ]
     },
     "metadata": {},
     "output_type": "display_data"
    },
    {
     "data": {
      "text/html": [
       "<pre style=\"white-space:pre;overflow-x:auto;line-height:normal;font-family:Menlo,'DejaVu Sans Mono',consolas,'Courier New',monospace\">Epoch: <span style=\"color: #008080; text-decoration-color: #008080; font-weight: bold\">355</span>. Loss: <span style=\"color: #008080; text-decoration-color: #008080; font-weight: bold\">0.1538165658712387</span>\n",
       "</pre>\n"
      ],
      "text/plain": [
       "Epoch: \u001b[1;36m355\u001b[0m. Loss: \u001b[1;36m0.1538165658712387\u001b[0m\n"
      ]
     },
     "metadata": {},
     "output_type": "display_data"
    },
    {
     "data": {
      "text/html": [
       "<pre style=\"white-space:pre;overflow-x:auto;line-height:normal;font-family:Menlo,'DejaVu Sans Mono',consolas,'Courier New',monospace\">Epoch: <span style=\"color: #008080; text-decoration-color: #008080; font-weight: bold\">356</span>. Loss: <span style=\"color: #008080; text-decoration-color: #008080; font-weight: bold\">0.15753310918807983</span>\n",
       "</pre>\n"
      ],
      "text/plain": [
       "Epoch: \u001b[1;36m356\u001b[0m. Loss: \u001b[1;36m0.15753310918807983\u001b[0m\n"
      ]
     },
     "metadata": {},
     "output_type": "display_data"
    },
    {
     "data": {
      "text/html": [
       "<pre style=\"white-space:pre;overflow-x:auto;line-height:normal;font-family:Menlo,'DejaVu Sans Mono',consolas,'Courier New',monospace\">Epoch: <span style=\"color: #008080; text-decoration-color: #008080; font-weight: bold\">357</span>. Loss: <span style=\"color: #008080; text-decoration-color: #008080; font-weight: bold\">0.14730268716812134</span>\n",
       "</pre>\n"
      ],
      "text/plain": [
       "Epoch: \u001b[1;36m357\u001b[0m. Loss: \u001b[1;36m0.14730268716812134\u001b[0m\n"
      ]
     },
     "metadata": {},
     "output_type": "display_data"
    },
    {
     "data": {
      "text/html": [
       "<pre style=\"white-space:pre;overflow-x:auto;line-height:normal;font-family:Menlo,'DejaVu Sans Mono',consolas,'Courier New',monospace\">Epoch: <span style=\"color: #008080; text-decoration-color: #008080; font-weight: bold\">358</span>. Loss: <span style=\"color: #008080; text-decoration-color: #008080; font-weight: bold\">0.1568957269191742</span>\n",
       "</pre>\n"
      ],
      "text/plain": [
       "Epoch: \u001b[1;36m358\u001b[0m. Loss: \u001b[1;36m0.1568957269191742\u001b[0m\n"
      ]
     },
     "metadata": {},
     "output_type": "display_data"
    },
    {
     "data": {
      "text/html": [
       "<pre style=\"white-space:pre;overflow-x:auto;line-height:normal;font-family:Menlo,'DejaVu Sans Mono',consolas,'Courier New',monospace\">Epoch: <span style=\"color: #008080; text-decoration-color: #008080; font-weight: bold\">359</span>. Loss: <span style=\"color: #008080; text-decoration-color: #008080; font-weight: bold\">0.1462438404560089</span>\n",
       "</pre>\n"
      ],
      "text/plain": [
       "Epoch: \u001b[1;36m359\u001b[0m. Loss: \u001b[1;36m0.1462438404560089\u001b[0m\n"
      ]
     },
     "metadata": {},
     "output_type": "display_data"
    },
    {
     "data": {
      "text/html": [
       "<pre style=\"white-space:pre;overflow-x:auto;line-height:normal;font-family:Menlo,'DejaVu Sans Mono',consolas,'Courier New',monospace\">Epoch: <span style=\"color: #008080; text-decoration-color: #008080; font-weight: bold\">360</span>. Loss: <span style=\"color: #008080; text-decoration-color: #008080; font-weight: bold\">0.150603786110878</span>\n",
       "</pre>\n"
      ],
      "text/plain": [
       "Epoch: \u001b[1;36m360\u001b[0m. Loss: \u001b[1;36m0.150603786110878\u001b[0m\n"
      ]
     },
     "metadata": {},
     "output_type": "display_data"
    },
    {
     "data": {
      "text/html": [
       "<pre style=\"white-space:pre;overflow-x:auto;line-height:normal;font-family:Menlo,'DejaVu Sans Mono',consolas,'Courier New',monospace\">Epoch: <span style=\"color: #008080; text-decoration-color: #008080; font-weight: bold\">361</span>. Loss: <span style=\"color: #008080; text-decoration-color: #008080; font-weight: bold\">0.14492298662662506</span>\n",
       "</pre>\n"
      ],
      "text/plain": [
       "Epoch: \u001b[1;36m361\u001b[0m. Loss: \u001b[1;36m0.14492298662662506\u001b[0m\n"
      ]
     },
     "metadata": {},
     "output_type": "display_data"
    },
    {
     "data": {
      "text/html": [
       "<pre style=\"white-space:pre;overflow-x:auto;line-height:normal;font-family:Menlo,'DejaVu Sans Mono',consolas,'Courier New',monospace\">Epoch: <span style=\"color: #008080; text-decoration-color: #008080; font-weight: bold\">362</span>. Loss: <span style=\"color: #008080; text-decoration-color: #008080; font-weight: bold\">0.15632514655590057</span>\n",
       "</pre>\n"
      ],
      "text/plain": [
       "Epoch: \u001b[1;36m362\u001b[0m. Loss: \u001b[1;36m0.15632514655590057\u001b[0m\n"
      ]
     },
     "metadata": {},
     "output_type": "display_data"
    },
    {
     "data": {
      "text/html": [
       "<pre style=\"white-space:pre;overflow-x:auto;line-height:normal;font-family:Menlo,'DejaVu Sans Mono',consolas,'Courier New',monospace\">Epoch: <span style=\"color: #008080; text-decoration-color: #008080; font-weight: bold\">363</span>. Loss: <span style=\"color: #008080; text-decoration-color: #008080; font-weight: bold\">0.14384005963802338</span>\n",
       "</pre>\n"
      ],
      "text/plain": [
       "Epoch: \u001b[1;36m363\u001b[0m. Loss: \u001b[1;36m0.14384005963802338\u001b[0m\n"
      ]
     },
     "metadata": {},
     "output_type": "display_data"
    },
    {
     "data": {
      "text/html": [
       "<pre style=\"white-space:pre;overflow-x:auto;line-height:normal;font-family:Menlo,'DejaVu Sans Mono',consolas,'Courier New',monospace\">Epoch: <span style=\"color: #008080; text-decoration-color: #008080; font-weight: bold\">364</span>. Loss: <span style=\"color: #008080; text-decoration-color: #008080; font-weight: bold\">0.13893772661685944</span>\n",
       "</pre>\n"
      ],
      "text/plain": [
       "Epoch: \u001b[1;36m364\u001b[0m. Loss: \u001b[1;36m0.13893772661685944\u001b[0m\n"
      ]
     },
     "metadata": {},
     "output_type": "display_data"
    },
    {
     "data": {
      "text/html": [
       "<pre style=\"white-space:pre;overflow-x:auto;line-height:normal;font-family:Menlo,'DejaVu Sans Mono',consolas,'Courier New',monospace\">Epoch: <span style=\"color: #008080; text-decoration-color: #008080; font-weight: bold\">365</span>. Loss: <span style=\"color: #008080; text-decoration-color: #008080; font-weight: bold\">0.1446847766637802</span>\n",
       "</pre>\n"
      ],
      "text/plain": [
       "Epoch: \u001b[1;36m365\u001b[0m. Loss: \u001b[1;36m0.1446847766637802\u001b[0m\n"
      ]
     },
     "metadata": {},
     "output_type": "display_data"
    },
    {
     "data": {
      "text/html": [
       "<pre style=\"white-space:pre;overflow-x:auto;line-height:normal;font-family:Menlo,'DejaVu Sans Mono',consolas,'Courier New',monospace\">Epoch: <span style=\"color: #008080; text-decoration-color: #008080; font-weight: bold\">366</span>. Loss: <span style=\"color: #008080; text-decoration-color: #008080; font-weight: bold\">0.14512278139591217</span>\n",
       "</pre>\n"
      ],
      "text/plain": [
       "Epoch: \u001b[1;36m366\u001b[0m. Loss: \u001b[1;36m0.14512278139591217\u001b[0m\n"
      ]
     },
     "metadata": {},
     "output_type": "display_data"
    },
    {
     "data": {
      "text/html": [
       "<pre style=\"white-space:pre;overflow-x:auto;line-height:normal;font-family:Menlo,'DejaVu Sans Mono',consolas,'Courier New',monospace\">Epoch: <span style=\"color: #008080; text-decoration-color: #008080; font-weight: bold\">367</span>. Loss: <span style=\"color: #008080; text-decoration-color: #008080; font-weight: bold\">0.14061155915260315</span>\n",
       "</pre>\n"
      ],
      "text/plain": [
       "Epoch: \u001b[1;36m367\u001b[0m. Loss: \u001b[1;36m0.14061155915260315\u001b[0m\n"
      ]
     },
     "metadata": {},
     "output_type": "display_data"
    },
    {
     "data": {
      "text/html": [
       "<pre style=\"white-space:pre;overflow-x:auto;line-height:normal;font-family:Menlo,'DejaVu Sans Mono',consolas,'Courier New',monospace\">Epoch: <span style=\"color: #008080; text-decoration-color: #008080; font-weight: bold\">368</span>. Loss: <span style=\"color: #008080; text-decoration-color: #008080; font-weight: bold\">0.13894157111644745</span>\n",
       "</pre>\n"
      ],
      "text/plain": [
       "Epoch: \u001b[1;36m368\u001b[0m. Loss: \u001b[1;36m0.13894157111644745\u001b[0m\n"
      ]
     },
     "metadata": {},
     "output_type": "display_data"
    },
    {
     "data": {
      "text/html": [
       "<pre style=\"white-space:pre;overflow-x:auto;line-height:normal;font-family:Menlo,'DejaVu Sans Mono',consolas,'Courier New',monospace\">Epoch: <span style=\"color: #008080; text-decoration-color: #008080; font-weight: bold\">369</span>. Loss: <span style=\"color: #008080; text-decoration-color: #008080; font-weight: bold\">0.141774982213974</span>\n",
       "</pre>\n"
      ],
      "text/plain": [
       "Epoch: \u001b[1;36m369\u001b[0m. Loss: \u001b[1;36m0.141774982213974\u001b[0m\n"
      ]
     },
     "metadata": {},
     "output_type": "display_data"
    },
    {
     "data": {
      "text/html": [
       "<pre style=\"white-space:pre;overflow-x:auto;line-height:normal;font-family:Menlo,'DejaVu Sans Mono',consolas,'Courier New',monospace\">Epoch: <span style=\"color: #008080; text-decoration-color: #008080; font-weight: bold\">370</span>. Loss: <span style=\"color: #008080; text-decoration-color: #008080; font-weight: bold\">0.1380998194217682</span>\n",
       "</pre>\n"
      ],
      "text/plain": [
       "Epoch: \u001b[1;36m370\u001b[0m. Loss: \u001b[1;36m0.1380998194217682\u001b[0m\n"
      ]
     },
     "metadata": {},
     "output_type": "display_data"
    },
    {
     "data": {
      "text/html": [
       "<pre style=\"white-space:pre;overflow-x:auto;line-height:normal;font-family:Menlo,'DejaVu Sans Mono',consolas,'Courier New',monospace\">Epoch: <span style=\"color: #008080; text-decoration-color: #008080; font-weight: bold\">371</span>. Loss: <span style=\"color: #008080; text-decoration-color: #008080; font-weight: bold\">0.1330580711364746</span>\n",
       "</pre>\n"
      ],
      "text/plain": [
       "Epoch: \u001b[1;36m371\u001b[0m. Loss: \u001b[1;36m0.1330580711364746\u001b[0m\n"
      ]
     },
     "metadata": {},
     "output_type": "display_data"
    },
    {
     "data": {
      "text/html": [
       "<pre style=\"white-space:pre;overflow-x:auto;line-height:normal;font-family:Menlo,'DejaVu Sans Mono',consolas,'Courier New',monospace\">Epoch: <span style=\"color: #008080; text-decoration-color: #008080; font-weight: bold\">372</span>. Loss: <span style=\"color: #008080; text-decoration-color: #008080; font-weight: bold\">0.14862938225269318</span>\n",
       "</pre>\n"
      ],
      "text/plain": [
       "Epoch: \u001b[1;36m372\u001b[0m. Loss: \u001b[1;36m0.14862938225269318\u001b[0m\n"
      ]
     },
     "metadata": {},
     "output_type": "display_data"
    },
    {
     "data": {
      "text/html": [
       "<pre style=\"white-space:pre;overflow-x:auto;line-height:normal;font-family:Menlo,'DejaVu Sans Mono',consolas,'Courier New',monospace\">Epoch: <span style=\"color: #008080; text-decoration-color: #008080; font-weight: bold\">373</span>. Loss: <span style=\"color: #008080; text-decoration-color: #008080; font-weight: bold\">0.13599659502506256</span>\n",
       "</pre>\n"
      ],
      "text/plain": [
       "Epoch: \u001b[1;36m373\u001b[0m. Loss: \u001b[1;36m0.13599659502506256\u001b[0m\n"
      ]
     },
     "metadata": {},
     "output_type": "display_data"
    },
    {
     "data": {
      "text/html": [
       "<pre style=\"white-space:pre;overflow-x:auto;line-height:normal;font-family:Menlo,'DejaVu Sans Mono',consolas,'Courier New',monospace\">Epoch: <span style=\"color: #008080; text-decoration-color: #008080; font-weight: bold\">374</span>. Loss: <span style=\"color: #008080; text-decoration-color: #008080; font-weight: bold\">0.13325846195220947</span>\n",
       "</pre>\n"
      ],
      "text/plain": [
       "Epoch: \u001b[1;36m374\u001b[0m. Loss: \u001b[1;36m0.13325846195220947\u001b[0m\n"
      ]
     },
     "metadata": {},
     "output_type": "display_data"
    },
    {
     "data": {
      "text/html": [
       "<pre style=\"white-space:pre;overflow-x:auto;line-height:normal;font-family:Menlo,'DejaVu Sans Mono',consolas,'Courier New',monospace\">Epoch: <span style=\"color: #008080; text-decoration-color: #008080; font-weight: bold\">375</span>. Loss: <span style=\"color: #008080; text-decoration-color: #008080; font-weight: bold\">0.13827602565288544</span>\n",
       "</pre>\n"
      ],
      "text/plain": [
       "Epoch: \u001b[1;36m375\u001b[0m. Loss: \u001b[1;36m0.13827602565288544\u001b[0m\n"
      ]
     },
     "metadata": {},
     "output_type": "display_data"
    },
    {
     "data": {
      "text/html": [
       "<pre style=\"white-space:pre;overflow-x:auto;line-height:normal;font-family:Menlo,'DejaVu Sans Mono',consolas,'Courier New',monospace\">Epoch: <span style=\"color: #008080; text-decoration-color: #008080; font-weight: bold\">376</span>. Loss: <span style=\"color: #008080; text-decoration-color: #008080; font-weight: bold\">0.1411719173192978</span>\n",
       "</pre>\n"
      ],
      "text/plain": [
       "Epoch: \u001b[1;36m376\u001b[0m. Loss: \u001b[1;36m0.1411719173192978\u001b[0m\n"
      ]
     },
     "metadata": {},
     "output_type": "display_data"
    },
    {
     "data": {
      "text/html": [
       "<pre style=\"white-space:pre;overflow-x:auto;line-height:normal;font-family:Menlo,'DejaVu Sans Mono',consolas,'Courier New',monospace\">Epoch: <span style=\"color: #008080; text-decoration-color: #008080; font-weight: bold\">377</span>. Loss: <span style=\"color: #008080; text-decoration-color: #008080; font-weight: bold\">0.1423862725496292</span>\n",
       "</pre>\n"
      ],
      "text/plain": [
       "Epoch: \u001b[1;36m377\u001b[0m. Loss: \u001b[1;36m0.1423862725496292\u001b[0m\n"
      ]
     },
     "metadata": {},
     "output_type": "display_data"
    },
    {
     "data": {
      "text/html": [
       "<pre style=\"white-space:pre;overflow-x:auto;line-height:normal;font-family:Menlo,'DejaVu Sans Mono',consolas,'Courier New',monospace\">Epoch: <span style=\"color: #008080; text-decoration-color: #008080; font-weight: bold\">378</span>. Loss: <span style=\"color: #008080; text-decoration-color: #008080; font-weight: bold\">0.13726752996444702</span>\n",
       "</pre>\n"
      ],
      "text/plain": [
       "Epoch: \u001b[1;36m378\u001b[0m. Loss: \u001b[1;36m0.13726752996444702\u001b[0m\n"
      ]
     },
     "metadata": {},
     "output_type": "display_data"
    },
    {
     "data": {
      "text/html": [
       "<pre style=\"white-space:pre;overflow-x:auto;line-height:normal;font-family:Menlo,'DejaVu Sans Mono',consolas,'Courier New',monospace\">Epoch: <span style=\"color: #008080; text-decoration-color: #008080; font-weight: bold\">379</span>. Loss: <span style=\"color: #008080; text-decoration-color: #008080; font-weight: bold\">0.13879981637001038</span>\n",
       "</pre>\n"
      ],
      "text/plain": [
       "Epoch: \u001b[1;36m379\u001b[0m. Loss: \u001b[1;36m0.13879981637001038\u001b[0m\n"
      ]
     },
     "metadata": {},
     "output_type": "display_data"
    },
    {
     "data": {
      "text/html": [
       "<pre style=\"white-space:pre;overflow-x:auto;line-height:normal;font-family:Menlo,'DejaVu Sans Mono',consolas,'Courier New',monospace\">Epoch: <span style=\"color: #008080; text-decoration-color: #008080; font-weight: bold\">380</span>. Loss: <span style=\"color: #008080; text-decoration-color: #008080; font-weight: bold\">0.14339697360992432</span>\n",
       "</pre>\n"
      ],
      "text/plain": [
       "Epoch: \u001b[1;36m380\u001b[0m. Loss: \u001b[1;36m0.14339697360992432\u001b[0m\n"
      ]
     },
     "metadata": {},
     "output_type": "display_data"
    },
    {
     "data": {
      "text/html": [
       "<pre style=\"white-space:pre;overflow-x:auto;line-height:normal;font-family:Menlo,'DejaVu Sans Mono',consolas,'Courier New',monospace\">Epoch: <span style=\"color: #008080; text-decoration-color: #008080; font-weight: bold\">381</span>. Loss: <span style=\"color: #008080; text-decoration-color: #008080; font-weight: bold\">0.14162249863147736</span>\n",
       "</pre>\n"
      ],
      "text/plain": [
       "Epoch: \u001b[1;36m381\u001b[0m. Loss: \u001b[1;36m0.14162249863147736\u001b[0m\n"
      ]
     },
     "metadata": {},
     "output_type": "display_data"
    },
    {
     "data": {
      "text/html": [
       "<pre style=\"white-space:pre;overflow-x:auto;line-height:normal;font-family:Menlo,'DejaVu Sans Mono',consolas,'Courier New',monospace\">Epoch: <span style=\"color: #008080; text-decoration-color: #008080; font-weight: bold\">382</span>. Loss: <span style=\"color: #008080; text-decoration-color: #008080; font-weight: bold\">0.13545268774032593</span>\n",
       "</pre>\n"
      ],
      "text/plain": [
       "Epoch: \u001b[1;36m382\u001b[0m. Loss: \u001b[1;36m0.13545268774032593\u001b[0m\n"
      ]
     },
     "metadata": {},
     "output_type": "display_data"
    },
    {
     "data": {
      "text/html": [
       "<pre style=\"white-space:pre;overflow-x:auto;line-height:normal;font-family:Menlo,'DejaVu Sans Mono',consolas,'Courier New',monospace\">Epoch: <span style=\"color: #008080; text-decoration-color: #008080; font-weight: bold\">383</span>. Loss: <span style=\"color: #008080; text-decoration-color: #008080; font-weight: bold\">0.12929216027259827</span>\n",
       "</pre>\n"
      ],
      "text/plain": [
       "Epoch: \u001b[1;36m383\u001b[0m. Loss: \u001b[1;36m0.12929216027259827\u001b[0m\n"
      ]
     },
     "metadata": {},
     "output_type": "display_data"
    },
    {
     "data": {
      "text/html": [
       "<pre style=\"white-space:pre;overflow-x:auto;line-height:normal;font-family:Menlo,'DejaVu Sans Mono',consolas,'Courier New',monospace\">Epoch: <span style=\"color: #008080; text-decoration-color: #008080; font-weight: bold\">384</span>. Loss: <span style=\"color: #008080; text-decoration-color: #008080; font-weight: bold\">0.14315690100193024</span>\n",
       "</pre>\n"
      ],
      "text/plain": [
       "Epoch: \u001b[1;36m384\u001b[0m. Loss: \u001b[1;36m0.14315690100193024\u001b[0m\n"
      ]
     },
     "metadata": {},
     "output_type": "display_data"
    },
    {
     "data": {
      "text/html": [
       "<pre style=\"white-space:pre;overflow-x:auto;line-height:normal;font-family:Menlo,'DejaVu Sans Mono',consolas,'Courier New',monospace\">Epoch: <span style=\"color: #008080; text-decoration-color: #008080; font-weight: bold\">385</span>. Loss: <span style=\"color: #008080; text-decoration-color: #008080; font-weight: bold\">0.14688558876514435</span>\n",
       "</pre>\n"
      ],
      "text/plain": [
       "Epoch: \u001b[1;36m385\u001b[0m. Loss: \u001b[1;36m0.14688558876514435\u001b[0m\n"
      ]
     },
     "metadata": {},
     "output_type": "display_data"
    },
    {
     "data": {
      "text/html": [
       "<pre style=\"white-space:pre;overflow-x:auto;line-height:normal;font-family:Menlo,'DejaVu Sans Mono',consolas,'Courier New',monospace\">Epoch: <span style=\"color: #008080; text-decoration-color: #008080; font-weight: bold\">386</span>. Loss: <span style=\"color: #008080; text-decoration-color: #008080; font-weight: bold\">0.1443551480770111</span>\n",
       "</pre>\n"
      ],
      "text/plain": [
       "Epoch: \u001b[1;36m386\u001b[0m. Loss: \u001b[1;36m0.1443551480770111\u001b[0m\n"
      ]
     },
     "metadata": {},
     "output_type": "display_data"
    },
    {
     "data": {
      "text/html": [
       "<pre style=\"white-space:pre;overflow-x:auto;line-height:normal;font-family:Menlo,'DejaVu Sans Mono',consolas,'Courier New',monospace\">Epoch: <span style=\"color: #008080; text-decoration-color: #008080; font-weight: bold\">387</span>. Loss: <span style=\"color: #008080; text-decoration-color: #008080; font-weight: bold\">0.14680173993110657</span>\n",
       "</pre>\n"
      ],
      "text/plain": [
       "Epoch: \u001b[1;36m387\u001b[0m. Loss: \u001b[1;36m0.14680173993110657\u001b[0m\n"
      ]
     },
     "metadata": {},
     "output_type": "display_data"
    },
    {
     "data": {
      "text/html": [
       "<pre style=\"white-space:pre;overflow-x:auto;line-height:normal;font-family:Menlo,'DejaVu Sans Mono',consolas,'Courier New',monospace\">Epoch: <span style=\"color: #008080; text-decoration-color: #008080; font-weight: bold\">388</span>. Loss: <span style=\"color: #008080; text-decoration-color: #008080; font-weight: bold\">0.14284773170948029</span>\n",
       "</pre>\n"
      ],
      "text/plain": [
       "Epoch: \u001b[1;36m388\u001b[0m. Loss: \u001b[1;36m0.14284773170948029\u001b[0m\n"
      ]
     },
     "metadata": {},
     "output_type": "display_data"
    },
    {
     "data": {
      "text/html": [
       "<pre style=\"white-space:pre;overflow-x:auto;line-height:normal;font-family:Menlo,'DejaVu Sans Mono',consolas,'Courier New',monospace\">Epoch: <span style=\"color: #008080; text-decoration-color: #008080; font-weight: bold\">389</span>. Loss: <span style=\"color: #008080; text-decoration-color: #008080; font-weight: bold\">0.13335564732551575</span>\n",
       "</pre>\n"
      ],
      "text/plain": [
       "Epoch: \u001b[1;36m389\u001b[0m. Loss: \u001b[1;36m0.13335564732551575\u001b[0m\n"
      ]
     },
     "metadata": {},
     "output_type": "display_data"
    },
    {
     "data": {
      "text/html": [
       "<pre style=\"white-space:pre;overflow-x:auto;line-height:normal;font-family:Menlo,'DejaVu Sans Mono',consolas,'Courier New',monospace\">Epoch: <span style=\"color: #008080; text-decoration-color: #008080; font-weight: bold\">390</span>. Loss: <span style=\"color: #008080; text-decoration-color: #008080; font-weight: bold\">0.15703184902668</span>\n",
       "</pre>\n"
      ],
      "text/plain": [
       "Epoch: \u001b[1;36m390\u001b[0m. Loss: \u001b[1;36m0.15703184902668\u001b[0m\n"
      ]
     },
     "metadata": {},
     "output_type": "display_data"
    },
    {
     "data": {
      "text/html": [
       "<pre style=\"white-space:pre;overflow-x:auto;line-height:normal;font-family:Menlo,'DejaVu Sans Mono',consolas,'Courier New',monospace\">Epoch: <span style=\"color: #008080; text-decoration-color: #008080; font-weight: bold\">391</span>. Loss: <span style=\"color: #008080; text-decoration-color: #008080; font-weight: bold\">0.1329331248998642</span>\n",
       "</pre>\n"
      ],
      "text/plain": [
       "Epoch: \u001b[1;36m391\u001b[0m. Loss: \u001b[1;36m0.1329331248998642\u001b[0m\n"
      ]
     },
     "metadata": {},
     "output_type": "display_data"
    },
    {
     "data": {
      "text/html": [
       "<pre style=\"white-space:pre;overflow-x:auto;line-height:normal;font-family:Menlo,'DejaVu Sans Mono',consolas,'Courier New',monospace\">Epoch: <span style=\"color: #008080; text-decoration-color: #008080; font-weight: bold\">392</span>. Loss: <span style=\"color: #008080; text-decoration-color: #008080; font-weight: bold\">0.13523100316524506</span>\n",
       "</pre>\n"
      ],
      "text/plain": [
       "Epoch: \u001b[1;36m392\u001b[0m. Loss: \u001b[1;36m0.13523100316524506\u001b[0m\n"
      ]
     },
     "metadata": {},
     "output_type": "display_data"
    },
    {
     "data": {
      "text/html": [
       "<pre style=\"white-space:pre;overflow-x:auto;line-height:normal;font-family:Menlo,'DejaVu Sans Mono',consolas,'Courier New',monospace\">Epoch: <span style=\"color: #008080; text-decoration-color: #008080; font-weight: bold\">393</span>. Loss: <span style=\"color: #008080; text-decoration-color: #008080; font-weight: bold\">0.14293526113033295</span>\n",
       "</pre>\n"
      ],
      "text/plain": [
       "Epoch: \u001b[1;36m393\u001b[0m. Loss: \u001b[1;36m0.14293526113033295\u001b[0m\n"
      ]
     },
     "metadata": {},
     "output_type": "display_data"
    },
    {
     "data": {
      "text/html": [
       "<pre style=\"white-space:pre;overflow-x:auto;line-height:normal;font-family:Menlo,'DejaVu Sans Mono',consolas,'Courier New',monospace\">Epoch: <span style=\"color: #008080; text-decoration-color: #008080; font-weight: bold\">394</span>. Loss: <span style=\"color: #008080; text-decoration-color: #008080; font-weight: bold\">0.14219437539577484</span>\n",
       "</pre>\n"
      ],
      "text/plain": [
       "Epoch: \u001b[1;36m394\u001b[0m. Loss: \u001b[1;36m0.14219437539577484\u001b[0m\n"
      ]
     },
     "metadata": {},
     "output_type": "display_data"
    },
    {
     "data": {
      "text/html": [
       "<pre style=\"white-space:pre;overflow-x:auto;line-height:normal;font-family:Menlo,'DejaVu Sans Mono',consolas,'Courier New',monospace\">Epoch: <span style=\"color: #008080; text-decoration-color: #008080; font-weight: bold\">395</span>. Loss: <span style=\"color: #008080; text-decoration-color: #008080; font-weight: bold\">0.1380537897348404</span>\n",
       "</pre>\n"
      ],
      "text/plain": [
       "Epoch: \u001b[1;36m395\u001b[0m. Loss: \u001b[1;36m0.1380537897348404\u001b[0m\n"
      ]
     },
     "metadata": {},
     "output_type": "display_data"
    },
    {
     "data": {
      "text/html": [
       "<pre style=\"white-space:pre;overflow-x:auto;line-height:normal;font-family:Menlo,'DejaVu Sans Mono',consolas,'Courier New',monospace\">Epoch: <span style=\"color: #008080; text-decoration-color: #008080; font-weight: bold\">396</span>. Loss: <span style=\"color: #008080; text-decoration-color: #008080; font-weight: bold\">0.14260001480579376</span>\n",
       "</pre>\n"
      ],
      "text/plain": [
       "Epoch: \u001b[1;36m396\u001b[0m. Loss: \u001b[1;36m0.14260001480579376\u001b[0m\n"
      ]
     },
     "metadata": {},
     "output_type": "display_data"
    },
    {
     "data": {
      "text/html": [
       "<pre style=\"white-space:pre;overflow-x:auto;line-height:normal;font-family:Menlo,'DejaVu Sans Mono',consolas,'Courier New',monospace\">Epoch: <span style=\"color: #008080; text-decoration-color: #008080; font-weight: bold\">397</span>. Loss: <span style=\"color: #008080; text-decoration-color: #008080; font-weight: bold\">0.139193594455719</span>\n",
       "</pre>\n"
      ],
      "text/plain": [
       "Epoch: \u001b[1;36m397\u001b[0m. Loss: \u001b[1;36m0.139193594455719\u001b[0m\n"
      ]
     },
     "metadata": {},
     "output_type": "display_data"
    },
    {
     "data": {
      "text/html": [
       "<pre style=\"white-space:pre;overflow-x:auto;line-height:normal;font-family:Menlo,'DejaVu Sans Mono',consolas,'Courier New',monospace\">Epoch: <span style=\"color: #008080; text-decoration-color: #008080; font-weight: bold\">398</span>. Loss: <span style=\"color: #008080; text-decoration-color: #008080; font-weight: bold\">0.14037996530532837</span>\n",
       "</pre>\n"
      ],
      "text/plain": [
       "Epoch: \u001b[1;36m398\u001b[0m. Loss: \u001b[1;36m0.14037996530532837\u001b[0m\n"
      ]
     },
     "metadata": {},
     "output_type": "display_data"
    },
    {
     "data": {
      "text/html": [
       "<pre style=\"white-space:pre;overflow-x:auto;line-height:normal;font-family:Menlo,'DejaVu Sans Mono',consolas,'Courier New',monospace\">Epoch: <span style=\"color: #008080; text-decoration-color: #008080; font-weight: bold\">399</span>. Loss: <span style=\"color: #008080; text-decoration-color: #008080; font-weight: bold\">0.1398945450782776</span>\n",
       "</pre>\n"
      ],
      "text/plain": [
       "Epoch: \u001b[1;36m399\u001b[0m. Loss: \u001b[1;36m0.1398945450782776\u001b[0m\n"
      ]
     },
     "metadata": {},
     "output_type": "display_data"
    },
    {
     "data": {
      "text/html": [
       "<pre style=\"white-space:pre;overflow-x:auto;line-height:normal;font-family:Menlo,'DejaVu Sans Mono',consolas,'Courier New',monospace\">Epoch: <span style=\"color: #008080; text-decoration-color: #008080; font-weight: bold\">400</span>. Loss: <span style=\"color: #008080; text-decoration-color: #008080; font-weight: bold\">0.13628245890140533</span>\n",
       "</pre>\n"
      ],
      "text/plain": [
       "Epoch: \u001b[1;36m400\u001b[0m. Loss: \u001b[1;36m0.13628245890140533\u001b[0m\n"
      ]
     },
     "metadata": {},
     "output_type": "display_data"
    }
   ],
   "source": [
    "# Here, we define our training loop\n",
    "\n",
    "for epoch in range(epochs):\n",
    "    # Forward pass\n",
    "    output = model(X_train)\n",
    "    loss = criterion(output, y_train)\n",
    "    \n",
    "    # Backward pass and optimization\n",
    "    optimizer.zero_grad()\n",
    "    loss.backward()\n",
    "    optimizer.step()\n",
    "    \n",
    "    # Print loss for this epoch\n",
    "    \n",
    "    print(f\"Epoch: {epoch+1}. Loss: {loss}\")"
   ]
  },
  {
   "cell_type": "code",
   "execution_count": 27,
   "id": "fbd32077",
   "metadata": {},
   "outputs": [
    {
     "data": {
      "text/plain": [
       "1707002"
      ]
     },
     "execution_count": 27,
     "metadata": {},
     "output_type": "execute_result"
    }
   ],
   "source": [
    "def count_parameters(model):\n",
    "    return sum(p.numel() for p in model.parameters() if p.requires_grad)\n",
    "\n",
    "# Just out of curiosity let's check the amount of trainable parameters of our NN\n",
    "count_parameters(model)"
   ]
  },
  {
   "cell_type": "code",
   "execution_count": 28,
   "id": "aa1480fd",
   "metadata": {},
   "outputs": [
    {
     "data": {
      "text/plain": [
       "tensor([1, 0, 0, 1, 0, 1, 0, 0, 1, 0, 1, 1, 0, 1, 1, 0, 0, 0, 0, 0, 0, 0, 1, 1,\n",
       "        1, 0, 0, 1, 1, 0, 0, 0, 0, 0, 0, 1, 0, 1, 1, 1, 0, 1, 0, 1, 0, 1, 1, 1,\n",
       "        0, 0, 1, 1, 0, 1, 1, 0, 0, 0, 1, 0, 0, 1, 1, 1, 0, 1, 1, 1, 0, 1, 1, 0,\n",
       "        1, 0, 1, 1, 1, 0, 0, 1, 0, 1, 0, 1, 1, 0, 0, 1, 1, 0, 0, 0, 0, 1, 0, 1,\n",
       "        0, 0, 1, 1, 1, 1, 0, 0, 0, 0, 0, 0, 0, 0, 1, 1, 0, 0, 0, 0, 0, 0, 0, 1,\n",
       "        0, 0, 1, 0, 0, 1, 0, 0, 0, 1, 0, 1, 1, 1, 1, 0, 0, 0, 1, 0, 1, 0, 1, 0,\n",
       "        1, 0, 1, 1, 0, 1, 0, 1, 1, 1, 1, 0, 0, 1, 0, 0, 0, 1, 0, 1, 1, 0, 0, 1,\n",
       "        1, 1, 1, 1, 1, 1, 0, 0, 1, 0, 0, 1, 0, 1, 0, 0, 0, 1, 1, 0, 0, 0, 1, 0,\n",
       "        0, 0, 0, 1, 0, 1, 0, 1, 0, 1, 1, 0, 0, 1, 0, 0, 0, 0, 1, 1, 1, 0, 1, 1,\n",
       "        1, 0, 0, 1, 0, 1, 1, 0, 0, 1, 1, 0, 0, 1, 1, 0, 1, 1, 1, 1, 1, 1, 1, 0,\n",
       "        0, 0, 1, 0, 0, 1, 1, 0, 0, 0, 1, 1, 0, 0, 0, 1, 0, 1, 0, 0, 0, 0, 1, 0,\n",
       "        0, 0, 1, 1, 0, 0, 0, 1, 0, 0, 0, 1, 0, 1, 0, 0, 1, 1, 0, 0, 1, 0, 1, 0,\n",
       "        0, 0, 0, 0, 1, 0, 0, 1, 0, 1, 0, 1, 0, 1, 1, 1, 0, 1, 0, 1, 0, 1, 1, 1,\n",
       "        1, 0, 0, 0, 1, 1, 1, 1, 1, 0, 1, 0, 1, 1, 0, 0, 0, 0, 0, 0, 0, 0, 0, 1,\n",
       "        0, 0, 0, 0, 0, 0, 1, 0, 0, 1, 1, 0, 1, 1, 1, 0, 0, 0, 1, 0, 0, 1, 0, 0,\n",
       "        1, 1, 0, 1, 1, 1, 0, 0, 1, 1, 1, 0, 1, 1, 1, 0, 1, 1, 0, 0, 1, 1, 1, 1,\n",
       "        1, 0, 0, 0, 1, 1, 1, 0, 0, 0, 1, 0, 1, 1, 1, 1, 0, 0, 0, 1, 1, 0, 1, 1,\n",
       "        0, 1, 1, 1, 0, 1, 1, 0, 0, 1, 1, 1, 0, 0, 0, 1, 1, 0, 1, 0, 0, 1, 0, 0,\n",
       "        0, 1, 1, 0, 0, 1, 1, 1, 1, 0, 1, 1, 1, 1, 1, 1, 0, 0, 0, 1, 1, 0, 1, 0,\n",
       "        1, 1, 0, 0, 0, 1, 1, 1, 0, 0, 1, 1, 1, 1, 0, 0, 1, 1, 1, 1, 0, 1, 0, 1,\n",
       "        0, 0, 1, 0, 0, 1, 0, 1, 1, 1, 1, 0, 1, 0, 0, 1, 0, 1, 0, 0, 1, 0, 1, 0,\n",
       "        0, 1, 1, 1, 1, 0, 1, 0, 1, 1, 0, 0, 1, 1, 1, 1, 1, 0, 1, 0, 1, 0, 0, 1,\n",
       "        1, 1, 1, 0, 0, 1, 1, 1, 1, 1, 0, 0, 1, 1, 0, 1, 0, 0, 1, 1, 1, 0, 0, 1,\n",
       "        1, 0, 1, 0, 0, 0, 0, 0, 1, 0, 0, 1, 1, 1, 0, 1, 0, 1, 0, 1, 1, 0, 1, 0,\n",
       "        1, 0, 1, 0, 0, 0, 1, 0, 1, 1, 0, 0, 0, 1, 1, 0, 1, 0, 1, 0, 0, 1, 1, 1,\n",
       "        1, 0, 1, 0, 0, 0, 1, 0, 0, 1, 0, 0, 0, 1, 1, 1, 0, 0, 0, 1, 0, 0, 1, 0,\n",
       "        1, 0, 0, 0, 1, 0, 1, 1, 0, 0, 0, 0, 1, 0, 1, 1, 1, 1, 1, 1, 1, 0, 0, 1,\n",
       "        1, 0, 0, 0, 0, 1, 1, 0, 0, 0, 0, 1, 1, 1, 1, 0, 0, 0, 0, 0, 0, 1, 0, 0,\n",
       "        0, 1, 0, 0, 0, 1, 0, 0, 0, 1, 1, 0, 0, 1, 1, 1, 0, 0, 0, 1, 0, 0, 0, 0,\n",
       "        1, 1, 0, 0, 0, 1, 1, 0, 1, 0, 1, 1, 0, 0, 1, 0, 1, 1, 1, 0, 1, 1, 1, 1,\n",
       "        0, 1, 0, 1, 0, 0, 1, 0, 1, 1, 1, 1, 0, 0, 0, 1, 1, 0, 1, 1, 1, 1, 0, 1,\n",
       "        1, 1, 1, 0, 0, 1, 0, 1, 0, 1, 1, 0, 0, 0, 1, 1, 0, 0, 1, 1, 1, 1, 0, 0,\n",
       "        0, 0, 1, 1, 0, 1, 1, 0, 0, 1, 0, 0, 1, 1, 1, 0, 0, 0, 0, 0, 0, 1, 1, 0,\n",
       "        1, 0, 0, 0, 1, 1, 1, 0])"
      ]
     },
     "execution_count": 28,
     "metadata": {},
     "output_type": "execute_result"
    }
   ],
   "source": [
    "model.eval()\n",
    "output = model(X_test)\n",
    "y_pred_nn = torch.argmax(output, dim=1)\n",
    "\n",
    "y_pred_nn\n"
   ]
  },
  {
   "cell_type": "code",
   "execution_count": 29,
   "id": "ef424bf1",
   "metadata": {},
   "outputs": [
    {
     "data": {
      "text/html": [
       "<pre style=\"white-space:pre;overflow-x:auto;line-height:normal;font-family:Menlo,'DejaVu Sans Mono',consolas,'Courier New',monospace\">              precision    recall  f1-score   support\n",
       "\n",
       "        good       <span style=\"color: #008080; text-decoration-color: #008080; font-weight: bold\">0.93</span>      <span style=\"color: #008080; text-decoration-color: #008080; font-weight: bold\">0.95</span>      <span style=\"color: #008080; text-decoration-color: #008080; font-weight: bold\">0.94</span>       <span style=\"color: #008080; text-decoration-color: #008080; font-weight: bold\">401</span>\n",
       "         bad       <span style=\"color: #008080; text-decoration-color: #008080; font-weight: bold\">0.94</span>      <span style=\"color: #008080; text-decoration-color: #008080; font-weight: bold\">0.93</span>      <span style=\"color: #008080; text-decoration-color: #008080; font-weight: bold\">0.94</span>       <span style=\"color: #008080; text-decoration-color: #008080; font-weight: bold\">399</span>\n",
       "\n",
       "    accuracy                           <span style=\"color: #008080; text-decoration-color: #008080; font-weight: bold\">0.94</span>       <span style=\"color: #008080; text-decoration-color: #008080; font-weight: bold\">800</span>\n",
       "   macro avg       <span style=\"color: #008080; text-decoration-color: #008080; font-weight: bold\">0.94</span>      <span style=\"color: #008080; text-decoration-color: #008080; font-weight: bold\">0.94</span>      <span style=\"color: #008080; text-decoration-color: #008080; font-weight: bold\">0.94</span>       <span style=\"color: #008080; text-decoration-color: #008080; font-weight: bold\">800</span>\n",
       "weighted avg       <span style=\"color: #008080; text-decoration-color: #008080; font-weight: bold\">0.94</span>      <span style=\"color: #008080; text-decoration-color: #008080; font-weight: bold\">0.94</span>      <span style=\"color: #008080; text-decoration-color: #008080; font-weight: bold\">0.94</span>       <span style=\"color: #008080; text-decoration-color: #008080; font-weight: bold\">800</span>\n",
       "\n",
       "</pre>\n"
      ],
      "text/plain": [
       "              precision    recall  f1-score   support\n",
       "\n",
       "        good       \u001b[1;36m0.93\u001b[0m      \u001b[1;36m0.95\u001b[0m      \u001b[1;36m0.94\u001b[0m       \u001b[1;36m401\u001b[0m\n",
       "         bad       \u001b[1;36m0.94\u001b[0m      \u001b[1;36m0.93\u001b[0m      \u001b[1;36m0.94\u001b[0m       \u001b[1;36m399\u001b[0m\n",
       "\n",
       "    accuracy                           \u001b[1;36m0.94\u001b[0m       \u001b[1;36m800\u001b[0m\n",
       "   macro avg       \u001b[1;36m0.94\u001b[0m      \u001b[1;36m0.94\u001b[0m      \u001b[1;36m0.94\u001b[0m       \u001b[1;36m800\u001b[0m\n",
       "weighted avg       \u001b[1;36m0.94\u001b[0m      \u001b[1;36m0.94\u001b[0m      \u001b[1;36m0.94\u001b[0m       \u001b[1;36m800\u001b[0m\n",
       "\n"
      ]
     },
     "metadata": {},
     "output_type": "display_data"
    }
   ],
   "source": [
    "print(classification_report(y_test.cpu(), y_pred_nn.cpu(), target_names=quality_types))\n"
   ]
  },
  {
   "cell_type": "code",
   "execution_count": null,
   "id": "c0731e59",
   "metadata": {},
   "outputs": [],
   "source": []
  }
 ],
 "metadata": {
  "kernelspec": {
   "display_name": "Python 3 (ipykernel)",
   "language": "python",
   "name": "python3"
  },
  "language_info": {
   "codemirror_mode": {
    "name": "ipython",
    "version": 3
   },
   "file_extension": ".py",
   "mimetype": "text/x-python",
   "name": "python",
   "nbconvert_exporter": "python",
   "pygments_lexer": "ipython3",
   "version": "3.11.5"
  }
 },
 "nbformat": 4,
 "nbformat_minor": 5
}
